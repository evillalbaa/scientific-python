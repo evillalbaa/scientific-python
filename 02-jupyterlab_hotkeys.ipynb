{
 "cells": [
  {
   "cell_type": "markdown",
   "id": "30c93609-cdb3-4a07-b43b-0d4303eb3957",
   "metadata": {},
   "source": [
    "# **JupyterLab HotKeys**"
   ]
  },
  {
   "cell_type": "markdown",
   "id": "8b1a0a72-e252-43dc-b221-cd4f2a68a0c0",
   "metadata": {
    "tags": []
   },
   "source": [
    "`C`: Copy Cells"
   ]
  },
  {
   "cell_type": "markdown",
   "id": "217e85a5-e5c1-448c-93b4-1a263bd960eb",
   "metadata": {
    "tags": []
   },
   "source": [
    "`x`: Cut Cells"
   ]
  },
  {
   "cell_type": "markdown",
   "id": "6f624487-ad8e-4fd7-86af-e13a06e5243b",
   "metadata": {
    "tags": []
   },
   "source": [
    "`V`: Paste Cells"
   ]
  },
  {
   "cell_type": "markdown",
   "id": "9e61c122-ad50-4592-980e-d78a98db82d6",
   "metadata": {},
   "source": [
    "`Z`: Undo Cell Operation"
   ]
  },
  {
   "cell_type": "markdown",
   "id": "05d832b6-dd31-4244-bc78-0254e35df43d",
   "metadata": {},
   "source": [
    "`B`: New Cell"
   ]
  },
  {
   "cell_type": "markdown",
   "id": "5dcdb3ab-fb64-46e9-af20-976ffa99376b",
   "metadata": {},
   "source": [
    "`Shift+Enter`: Execute cell and create a new one"
   ]
  },
  {
   "cell_type": "markdown",
   "id": "4069d502-e2a9-4459-b798-7e22cccc7785",
   "metadata": {},
   "source": [
    "`A`: Insert a Cell Above"
   ]
  },
  {
   "cell_type": "markdown",
   "id": "fa569271-7965-415d-adcb-0c061ff217f9",
   "metadata": {},
   "source": [
    "`M`: Markdown Cell"
   ]
  },
  {
   "cell_type": "markdown",
   "id": "55477d34-a869-49f8-bdef-affd404bd148",
   "metadata": {},
   "source": [
    "`Y`: Code Cell"
   ]
  },
  {
   "cell_type": "markdown",
   "id": "f30589d4-14f1-4146-aa6c-ac45b50c2e70",
   "metadata": {},
   "source": [
    "`D,D`: Delate Cell"
   ]
  }
 ],
 "metadata": {
  "kernelspec": {
   "display_name": "Python 3 (ipykernel)",
   "language": "python",
   "name": "python3"
  },
  "language_info": {
   "codemirror_mode": {
    "name": "ipython",
    "version": 3
   },
   "file_extension": ".py",
   "mimetype": "text/x-python",
   "name": "python",
   "nbconvert_exporter": "python",
   "pygments_lexer": "ipython3",
   "version": "3.10.12"
  },
  "toc-showcode": false,
  "toc-showmarkdowntxt": false
 },
 "nbformat": 4,
 "nbformat_minor": 5
}
