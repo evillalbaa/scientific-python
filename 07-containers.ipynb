{
 "cells": [
  {
   "cell_type": "markdown",
   "id": "da864e14-9c15-47ed-b9d7-01fb27c0cb71",
   "metadata": {},
   "source": [
    "# Case Study, deploying a simple API with docker"
   ]
  },
  {
   "cell_type": "markdown",
   "id": "e15a767c-62f9-4b19-903e-34de0b76a33a",
   "metadata": {},
   "source": [
    "When deploying FastAPI applications a common approach is to build a Linux container image. It's normally done using Docker. You can then deploy that container image in one of a few possible ways."
   ]
  },
  {
   "cell_type": "markdown",
   "id": "94f8235e-1c51-4c1e-aad6-39d3562acaf9",
   "metadata": {},
   "source": [
    "## Container"
   ]
  },
  {
   "cell_type": "markdown",
   "id": "f5365b25-d6dc-4030-9754-4a75016f7e58",
   "metadata": {},
   "source": [
    "Containers (mainly Linux containers) are a very lightweight way to package applications including all their dependencies and necessary files while keeping them isolated from other containers (other applications or components) in the same system.\n",
    "\n",
    "Linux containers run using the same Linux kernel of the host (machine, virtual machine, cloud server, etc). This just means that they are very lightweight (compared to full virtual machines emulating an entire operating system).\n",
    "\n",
    "This way, containers consume little resources, an amount comparable to running the processes directly (a virtual machine would consume much more).\n",
    "\n",
    "Containers also have their own isolated running processes (commonly just one process), file system, and network, simplifying deployment, security, development, etc."
   ]
  },
  {
   "cell_type": "markdown",
   "id": "a6194fb2-0916-43d6-93e6-c6521e45b8c4",
   "metadata": {},
   "source": [
    "### Container Image"
   ]
  },
  {
   "cell_type": "markdown",
   "id": "1a8300d3-8bf2-4ba1-b6fe-bb421b079e61",
   "metadata": {},
   "source": [
    "A container is run from a container image.\n",
    "\n",
    "A container image is a static version of all the files, environment variables, and the default command/program that should be present in a container. Static here means that the container image is not running, it's not being executed, it's only the packaged files and metadata.\n",
    "\n",
    "In contrast to a \"container image\" that is the stored static contents, a \"container\" normally refers to the running instance, the thing that is being executed.\n",
    "\n",
    "When the container is started and running (started from a container image) it could create or change files, environment variables, etc. Those changes will exist only in that container, but would not persist in the underlying container image (would not be saved to disk).\n",
    "\n",
    "A container image is comparable to the program file and contents, e.g. python and some file main.py.\n",
    "\n",
    "And the container itself (in contrast to the container image) is the actual running instance of the image, comparable to a process. In fact, a container is running only when it has a process running (and normally it's only a single process). The container stops when there's no process running in it."
   ]
  },
  {
   "cell_type": "markdown",
   "id": "615040bd-7354-4841-a6fd-c130aef0eeee",
   "metadata": {},
   "source": [
    "### Containers and Processes"
   ]
  },
  {
   "cell_type": "markdown",
   "id": "f488bc75-700b-48d9-8bdf-e7322b0fff34",
   "metadata": {},
   "source": [
    "A container image normally includes in its metadata the default program or command that should be run when the container is started and the parameters to be passed to that program. Very similar to what would be if it was in the command line.\n",
    "\n",
    "When a container is started, it will run that command/program (although you can override it and make it run a different command/program).\n",
    "\n",
    "A container is running as long as the main process (command or program) is running.\n",
    "\n",
    "A container normally has a single process, but it's also possible to start subprocesses from the main process, and that way you will have multiple processes in the same container.\n",
    "\n",
    "But it's not possible to have a running container without at least one running process. If the main process stops, the container stops."
   ]
  },
  {
   "cell_type": "markdown",
   "id": "68e342cd-afb9-4d62-9e90-ec68f626b8ef",
   "metadata": {},
   "source": [
    "## Building a docker Image for FastAPI"
   ]
  },
  {
   "cell_type": "markdown",
   "id": "1bf1a75b-2702-4c32-af45-0b5cd35832c6",
   "metadata": {},
   "source": [
    "This will show you how to build a Docker image for FastAPI from scratch, based on the official Python image."
   ]
  },
  {
   "cell_type": "markdown",
   "id": "15d9f240-8797-498d-b856-aa07eeb4edaa",
   "metadata": {},
   "source": [
    "### Setting Up Docker"
   ]
  },
  {
   "cell_type": "markdown",
   "id": "72d11d73-867f-41ba-bdff-a6e06d020a86",
   "metadata": {},
   "source": [
    "To get started, you'll need to create an account on the [Docker website](https://www.docker.com/).\n",
    "\n",
    "Once you have your account set up, open a terminal and execute the following command:\n",
    "\n",
    "```bash\n",
    "sudo docker login -u your_username\n",
    "```\n",
    "Replace `your_username` with your Docker username. After running this command, you'll be prompted to enter your password."
   ]
  },
  {
   "cell_type": "markdown",
   "id": "ce25f533-7487-444b-9a70-cc88beb1b45c",
   "metadata": {},
   "source": [
    "### File Structure"
   ]
  },
  {
   "cell_type": "markdown",
   "id": "beeae8c5-50e4-43b6-92c7-8ecc69399f5f",
   "metadata": {},
   "source": [
    "We will create a file structure as follows, (this is building a python packager with name `app`)\n",
    "\n",
    "```\n",
    "├── app\n",
    "│   ├── __init__.py\n",
    "│   └── main.py\n",
    "├── Dockerfile\n",
    "└── requirements.txt\n",
    "```\n"
   ]
  },
  {
   "cell_type": "markdown",
   "id": "b6b1954f-1f4c-4308-b9b3-e4494176407a",
   "metadata": {},
   "source": [
    "Create an empy file `__init__.py`\n",
    "\n",
    "\n",
    "Create a `main.py` with a minimal API:"
   ]
  },
  {
   "cell_type": "markdown",
   "id": "323c7d25-81ca-4e05-a23f-1a600b94db7a",
   "metadata": {},
   "source": [
    "```\n",
    "from fastapi import FastAPI\n",
    "\n",
    "app = FastAPI()\n",
    "\n",
    "\n",
    "@app.get(\"/\")\n",
    "def alive():\n",
    "    return( {\"status\": \"alive\"})\n",
    "```"
   ]
  },
  {
   "cell_type": "markdown",
   "id": "d3bb39fb-7a93-447f-a5c5-0d4424336e85",
   "metadata": {},
   "source": [
    "Create your `requirements.txt`\n",
    "You could (actually should) specify specific versions in the requirements"
   ]
  },
  {
   "cell_type": "markdown",
   "id": "667ea2eb-a098-4dd9-a88d-13c5a41783ad",
   "metadata": {},
   "source": [
    "```\n",
    "fastapi \n",
    "pydantic \n",
    "uvicorn \n",
    "```"
   ]
  },
  {
   "cell_type": "markdown",
   "id": "4fa966c5-7ef5-48d9-bbce-a36baeb1ac40",
   "metadata": {},
   "source": [
    "And finally create the Dockerfile"
   ]
  },
  {
   "cell_type": "markdown",
   "id": "c1198c94-5442-459b-8551-0d047729d09e",
   "metadata": {},
   "source": [
    "```\n",
    "# base layer, a python setup\n",
    "FROM python:3.9\n",
    "\n",
    "# setup a working directory\n",
    "WORKDIR /code\n",
    "\n",
    "# Next we will install within the docker image, the requirements file\n",
    "COPY ./requirements.txt /code/requirements.txt\n",
    "\n",
    "# We will install the requirements \n",
    "RUN pip install --no-cache-dir --upgrade -r /code/requirements.txt\n",
    "\n",
    "# copy our application\n",
    "COPY ./app /code/app\n",
    "\n",
    "# Finally run the API server with uvicorn, each command with a a new element \n",
    "# in the list\n",
    "\n",
    "CMD [\"uvicorn\", \"app.main:app\", \"--host\", \"0.0.0.0\", \"--port\", \"80\"]\n",
    "```"
   ]
  },
  {
   "cell_type": "markdown",
   "id": "6a24b4ea-0725-4fbf-8677-21b1fdfe7a50",
   "metadata": {},
   "source": [
    "### Building the image "
   ]
  },
  {
   "cell_type": "markdown",
   "id": "7b53c9b2-f095-4998-953e-7393048b99f4",
   "metadata": {},
   "source": [
    "`sudo docker build -t myapiimage .`"
   ]
  },
  {
   "cell_type": "markdown",
   "id": "7d066aef-1a3a-4aaa-b59c-b9f9ce362cae",
   "metadata": {},
   "source": [
    "### Start the docker container"
   ]
  },
  {
   "cell_type": "markdown",
   "id": "e33d1e1b-4d51-4360-af2b-256422ec0a54",
   "metadata": {},
   "source": [
    "80:80 (insidecontainer:outsidecontainer) maps the docker port to the local machine port, so it is accessible\n",
    "\n",
    "`docker run -d --name myapi -p 80:80 myapiimage`\n",
    "\n",
    "Now we can access our FastAPI application in our web browser by visiting http://localhost. We will see the \"status: alive\" message returned by our application's root route."
   ]
  },
  {
   "cell_type": "markdown",
   "id": "26660444-178d-40c5-9fbe-c6835060c049",
   "metadata": {},
   "source": [
    "### Stop the Docker Container"
   ]
  },
  {
   "cell_type": "markdown",
   "id": "6c7287c2-4278-4ea7-a5c1-4ef64f508bac",
   "metadata": {},
   "source": [
    "1. **Identify the running container**: First, we need to know the name or ID of the container you want to stop. We can get a list of all running containers using the `docker ps` command.\n",
    "\n",
    "   ```bash\n",
    "   docker ps\n",
    "   ```\n",
    "   <br>\n",
    "   \n",
    "   This will show us a list of running containers along with their ID, name, status, exposed ports, etc.\n",
    "\n",
    "2. **Stop the container**: Once we have identified the container we wish to stop, use its name or ID in the `docker stop` command followed by the name or ID of the container.\n",
    "\n",
    "   ```bash\n",
    "   docker stop <container_name_or_ID>\n",
    "   ```\n",
    "   \n",
    "   <br>\n",
    "   \n",
    "   For example, if our container name is `myfastapicontainer`, you would run:\n",
    "\n",
    "   ```bash\n",
    "   docker stop myfastapicontainer\n",
    "   ```\n",
    "   <br>\n",
    "   Or if we have the container's ID, you would use that instead:\n",
    "\n",
    "   ```bash\n",
    "   docker stop <container_ID>\n",
    "   ```\n",
    "   <br>\n",
    "\n",
    "   This command sends a SIGTERM signal to the container, asking it to gracefully shut down. If the container does not stop after a reasonable amount of time, you can use `docker kill` to force stop it.\n",
    "\n",
    "3. **Verify the container has stopped**: We can verify that the container has stopped successfully by running `docker ps` again to see the list of running containers. The container you stopped should no longer appear in the list."
   ]
  },
  {
   "cell_type": "markdown",
   "id": "416c80dc-b8b9-470c-a487-f8905bec1e59",
   "metadata": {},
   "source": [
    "### Errors?"
   ]
  },
  {
   "cell_type": "markdown",
   "id": "0995db0d-8ed2-4613-90de-4a0a9311810c",
   "metadata": {},
   "source": [
    "Use \n",
    "`docker logs myapiimage`\n",
    "\n",
    "You can always remote the image\n",
    "`docker remove myappiimage`\n",
    "and build it again with new corrections"
   ]
  },
  {
   "cell_type": "markdown",
   "id": "16fb7fbf-2a35-410a-b8db-f538f0548d71",
   "metadata": {},
   "source": [
    "## Build a Docker Image with a Single-File FastAPI"
   ]
  },
  {
   "cell_type": "markdown",
   "id": "7e2042e4-1bb8-49c3-a134-37cd87d476af",
   "metadata": {},
   "source": [
    "In this case, the file structure is simpler\n",
    "```\n",
    ".\n",
    "├── Dockerfile\n",
    "├── main.py\n",
    "└── requirements.txt\n",
    "```"
   ]
  },
  {
   "cell_type": "markdown",
   "id": "8a992a53-08a9-4737-bb8f-2918ed1e6826",
   "metadata": {},
   "source": [
    "The Dockfer file will be then:\n",
    "\n",
    "```\n",
    "FROM python:3.9\n",
    "\n",
    "WORKDIR /code\n",
    "\n",
    "COPY ./requirements.txt /code/requirements.txt\n",
    "\n",
    "RUN pip install --no-cache-dir --upgrade -r /code/requirements.txt\n",
    "\n",
    "# \n",
    "COPY ./main.py /code/\n",
    "\n",
    "# \n",
    "CMD [\"uvicorn\", \"main:app\", \"--host\", \"0.0.0.0\", \"--port\", \"80\"]\n",
    "```\n",
    "\n",
    "\n"
   ]
  },
  {
   "cell_type": "markdown",
   "id": "249347c2-ff4c-4e5c-ae28-ea5eef32d72f",
   "metadata": {},
   "source": [
    "## Further info"
   ]
  },
  {
   "cell_type": "markdown",
   "id": "181373b2-3547-40b6-9de8-895c1f2f4698",
   "metadata": {},
   "source": [
    "- at https://fastapi.tiangolo.com/deployment/concepts/ \n",
    "- For building bigger applications https://fastapi.tiangolo.com/tutorial/bigger-applications/ "
   ]
  }
 ],
 "metadata": {
  "kernelspec": {
   "display_name": "Python 3 (ipykernel)",
   "language": "python",
   "name": "python3"
  },
  "language_info": {
   "codemirror_mode": {
    "name": "ipython",
    "version": 3
   },
   "file_extension": ".py",
   "mimetype": "text/x-python",
   "name": "python",
   "nbconvert_exporter": "python",
   "pygments_lexer": "ipython3",
   "version": "3.10.12"
  },
  "toc-autonumbering": true,
  "toc-showcode": false,
  "toc-showmarkdowntxt": false
 },
 "nbformat": 4,
 "nbformat_minor": 5
}
