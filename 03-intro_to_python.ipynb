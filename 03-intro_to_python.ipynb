{
 "cells": [
  {
   "cell_type": "markdown",
   "id": "29ee841a-60d4-41c9-bddf-361f2d7b0dd4",
   "metadata": {},
   "source": [
    "# Data Types"
   ]
  },
  {
   "cell_type": "markdown",
   "id": "6563f95c-1af9-4785-ad53-3431a0664325",
   "metadata": {
    "tags": []
   },
   "source": [
    "<div style=\"text-align:center;\">\n",
    "  <img src=\"images/python_data_types.png\" alt=\"Python Data Types\" style=\"width:35%;\">\n",
    "</div>"
   ]
  },
  {
   "cell_type": "markdown",
   "id": "ac750aa5-8c58-4470-abc9-525d27464c45",
   "metadata": {
    "tags": []
   },
   "source": [
    "## Numeric"
   ]
  },
  {
   "cell_type": "markdown",
   "id": "e559be86-f3f9-4f76-98de-c76aaa2792d0",
   "metadata": {
    "tags": []
   },
   "source": [
    "### Integer"
   ]
  },
  {
   "cell_type": "markdown",
   "id": "e1a16888-6ff6-4490-8d29-eca764e3776d",
   "metadata": {
    "tags": []
   },
   "source": [
    "Integers are whole numbers, positive or negative, without decimals, of unlimited length.\n"
   ]
  },
  {
   "cell_type": "code",
   "execution_count": 6,
   "id": "8017e436-92ca-48f2-b61e-3357b686bae9",
   "metadata": {
    "tags": []
   },
   "outputs": [
    {
     "data": {
      "text/plain": [
       "int"
      ]
     },
     "execution_count": 6,
     "metadata": {},
     "output_type": "execute_result"
    }
   ],
   "source": [
    "a = 4 \n",
    "type(a)"
   ]
  },
  {
   "cell_type": "markdown",
   "id": "ac8a6f48-5eb0-4c3e-b963-3cdcde56d94d",
   "metadata": {
    "tags": []
   },
   "source": [
    "### Float"
   ]
  },
  {
   "cell_type": "markdown",
   "id": "5e2d5401-6be4-46e6-aa5e-d88df1fc1666",
   "metadata": {},
   "source": [
    "Floats are numbers with a decimal point or use an exponential (e) to define the number."
   ]
  },
  {
   "cell_type": "code",
   "execution_count": 10,
   "id": "b07497db-db9c-4f90-a026-2b68959022c6",
   "metadata": {
    "tags": []
   },
   "outputs": [],
   "source": [
    "a = 4. \n",
    "b = 3.1"
   ]
  },
  {
   "cell_type": "code",
   "execution_count": 11,
   "id": "ceeeb7d8-0adc-47a0-8edd-6cca90e820e4",
   "metadata": {
    "tags": []
   },
   "outputs": [
    {
     "data": {
      "text/plain": [
       "float"
      ]
     },
     "execution_count": 11,
     "metadata": {},
     "output_type": "execute_result"
    }
   ],
   "source": [
    "type(a)"
   ]
  },
  {
   "cell_type": "code",
   "execution_count": 12,
   "id": "cac636cc-6f4c-4e40-afac-0a2ea19484e8",
   "metadata": {
    "tags": []
   },
   "outputs": [
    {
     "data": {
      "text/plain": [
       "float"
      ]
     },
     "execution_count": 12,
     "metadata": {},
     "output_type": "execute_result"
    }
   ],
   "source": [
    "type(b)"
   ]
  },
  {
   "cell_type": "markdown",
   "id": "14fab68a-721a-4da2-a741-732ab176648d",
   "metadata": {},
   "source": [
    "### Complex Number"
   ]
  },
  {
   "cell_type": "markdown",
   "id": "39255795-56f2-4776-a08a-d7c4346a408d",
   "metadata": {},
   "source": [
    "Complex numbers consist of a real part and an imaginary part (usually represented by 'j' or 'J')."
   ]
  },
  {
   "cell_type": "code",
   "execution_count": 13,
   "id": "4dfd9c48-f0b5-41f7-abc8-a45c6ca550b3",
   "metadata": {
    "tags": []
   },
   "outputs": [
    {
     "data": {
      "text/plain": [
       "(1.5+0.5j)"
      ]
     },
     "execution_count": 13,
     "metadata": {},
     "output_type": "execute_result"
    }
   ],
   "source": [
    "a = 1.5 + .5j\n",
    "a"
   ]
  },
  {
   "cell_type": "code",
   "execution_count": 14,
   "id": "f0f161a5-372b-4d33-af8a-d7c21d8340b2",
   "metadata": {
    "tags": []
   },
   "outputs": [
    {
     "data": {
      "text/plain": [
       "complex"
      ]
     },
     "execution_count": 14,
     "metadata": {},
     "output_type": "execute_result"
    }
   ],
   "source": [
    "type(a)"
   ]
  },
  {
   "cell_type": "markdown",
   "id": "f908ba0b-635e-46e8-a5c3-091ff45249be",
   "metadata": {},
   "source": [
    "In Python, you can access the real, imaginary, and conjugate parts of a complex number using attributes."
   ]
  },
  {
   "cell_type": "code",
   "execution_count": 19,
   "id": "497fc9ce-a9db-4bfb-98de-561f59a161ee",
   "metadata": {
    "tags": []
   },
   "outputs": [
    {
     "data": {
      "text/plain": [
       "0.5"
      ]
     },
     "execution_count": 19,
     "metadata": {},
     "output_type": "execute_result"
    }
   ],
   "source": [
    "a.imag # Accessing the imaginary part"
   ]
  },
  {
   "cell_type": "code",
   "execution_count": 18,
   "id": "48ff0060-1b60-434b-bede-e5b6dc689c3c",
   "metadata": {
    "tags": []
   },
   "outputs": [
    {
     "data": {
      "text/plain": [
       "1.5"
      ]
     },
     "execution_count": 18,
     "metadata": {},
     "output_type": "execute_result"
    }
   ],
   "source": [
    "a.real # Accessing the real part"
   ]
  },
  {
   "cell_type": "code",
   "execution_count": 20,
   "id": "5a42e813-b76e-449a-97dc-3c83df385364",
   "metadata": {
    "tags": []
   },
   "outputs": [
    {
     "data": {
      "text/plain": [
       "<function complex.conjugate()>"
      ]
     },
     "execution_count": 20,
     "metadata": {},
     "output_type": "execute_result"
    }
   ],
   "source": [
    "a.conjugate # Accessing the conjugate"
   ]
  },
  {
   "cell_type": "markdown",
   "id": "56e66c08-9b8d-4a07-b68a-b134d109830a",
   "metadata": {},
   "source": [
    "When we use 'a.conjugate()', we're calling the conjugate() method on the **a** object, which is an instance of the complex class. This method calculates and returns the conjugate of the complex number represented by **a**. "
   ]
  },
  {
   "cell_type": "markdown",
   "id": "989261b8-1141-463e-9e46-4be4ce7bf924",
   "metadata": {},
   "source": [
    "## Boolean"
   ]
  },
  {
   "cell_type": "markdown",
   "id": "c3c46a89-1e93-4d64-8598-0823654895c8",
   "metadata": {},
   "source": [
    "Booleans represent one of two values: True or False."
   ]
  },
  {
   "cell_type": "code",
   "execution_count": 21,
   "id": "c9f7dff2-dc4a-4039-b18c-7b849793e5bd",
   "metadata": {
    "tags": []
   },
   "outputs": [
    {
     "data": {
      "text/plain": [
       "bool"
      ]
     },
     "execution_count": 21,
     "metadata": {},
     "output_type": "execute_result"
    }
   ],
   "source": [
    "a = True\n",
    "type(a)"
   ]
  },
  {
   "cell_type": "markdown",
   "id": "b2455a27-8f0d-48ac-af81-3c7e7d6ce475",
   "metadata": {
    "tags": []
   },
   "source": [
    "## Secuence Type"
   ]
  },
  {
   "cell_type": "markdown",
   "id": "9b336860-bf76-4cb5-a9a5-2ddd39ecceea",
   "metadata": {},
   "source": [
    "### Strings"
   ]
  },
  {
   "cell_type": "markdown",
   "id": "872fcf12-23c7-49bb-a56a-246b7b39ae3b",
   "metadata": {},
   "source": [
    "Strings are sequences of characters, enclosed within single, double, or triple quotes."
   ]
  },
  {
   "cell_type": "code",
   "execution_count": 23,
   "id": "79a63443-6914-49f3-b8fa-86def04b06b0",
   "metadata": {
    "tags": []
   },
   "outputs": [
    {
     "data": {
      "text/plain": [
       "str"
      ]
     },
     "execution_count": 23,
     "metadata": {},
     "output_type": "execute_result"
    }
   ],
   "source": [
    "a = 'Hello'\n",
    "type(a)"
   ]
  },
  {
   "cell_type": "code",
   "execution_count": 22,
   "id": "44624213-433f-45b3-ac40-38ac8bd62027",
   "metadata": {
    "tags": []
   },
   "outputs": [
    {
     "data": {
      "text/plain": [
       "str"
      ]
     },
     "execution_count": 22,
     "metadata": {},
     "output_type": "execute_result"
    }
   ],
   "source": [
    "a = \"Hello\"\n",
    "type(a)"
   ]
  },
  {
   "cell_type": "code",
   "execution_count": 24,
   "id": "6c49032a-7aea-46a8-8e87-729a2325ac03",
   "metadata": {
    "tags": []
   },
   "outputs": [
    {
     "data": {
      "text/plain": [
       "str"
      ]
     },
     "execution_count": 24,
     "metadata": {},
     "output_type": "execute_result"
    }
   ],
   "source": [
    "a = '''Hello'''\n",
    "type(a)"
   ]
  },
  {
   "cell_type": "markdown",
   "id": "960b6dd6-ff42-4bf9-b621-69942b0f0704",
   "metadata": {
    "tags": []
   },
   "source": [
    "### List"
   ]
  },
  {
   "cell_type": "markdown",
   "id": "5432596d-de96-4dbe-aa0e-31c66f3ef740",
   "metadata": {},
   "source": [
    "Lists are ordered collections of items, mutables, and can contain any type of data."
   ]
  },
  {
   "cell_type": "markdown",
   "id": "9cfbfc0b-24b7-47cf-af10-f7db6b0a1309",
   "metadata": {},
   "source": [
    "#### Creating a List"
   ]
  },
  {
   "cell_type": "markdown",
   "id": "99232bdc-78d8-41e5-9377-6d8263cd45cd",
   "metadata": {},
   "source": [
    "We can declare a list in several ways"
   ]
  },
  {
   "cell_type": "markdown",
   "id": "c70db548-f385-4dd7-baf8-7739d0db4f13",
   "metadata": {},
   "source": [
    "1. Using the `list()` function:"
   ]
  },
  {
   "cell_type": "code",
   "execution_count": 48,
   "id": "2a23bd20-420e-43a9-9eac-35ae64eabd6f",
   "metadata": {
    "tags": []
   },
   "outputs": [
    {
     "data": {
      "text/plain": [
       "list"
      ]
     },
     "execution_count": 48,
     "metadata": {},
     "output_type": "execute_result"
    }
   ],
   "source": [
    "l = list((1,2,3.0,4+0.5j,True,\"apple\",\"banna\"))\n",
    "type(l) "
   ]
  },
  {
   "cell_type": "markdown",
   "id": "a3f3f112-b86d-461a-b3b6-a8fd6f4818bd",
   "metadata": {},
   "source": [
    "2. Using square brackets `[]`:"
   ]
  },
  {
   "cell_type": "code",
   "execution_count": 35,
   "id": "b3db0cee-9612-4c35-9dbd-b6b211235f42",
   "metadata": {
    "tags": []
   },
   "outputs": [
    {
     "data": {
      "text/plain": [
       "list"
      ]
     },
     "execution_count": 35,
     "metadata": {},
     "output_type": "execute_result"
    }
   ],
   "source": [
    "m = [1,2,3.0,4+0.5j,True,\"apple\",\"banna\"] # This is exactly the same\n",
    "type (m)"
   ]
  },
  {
   "cell_type": "markdown",
   "id": "7f83b19c-8376-4b7e-9b9d-5fda5b7fb00b",
   "metadata": {},
   "source": [
    "3. Using list comprehension:"
   ]
  },
  {
   "cell_type": "code",
   "execution_count": 36,
   "id": "83f9422d-cf85-4bc5-a26a-c18f41bac9b2",
   "metadata": {
    "tags": []
   },
   "outputs": [
    {
     "data": {
      "text/plain": [
       "list"
      ]
     },
     "execution_count": 36,
     "metadata": {},
     "output_type": "execute_result"
    }
   ],
   "source": [
    "n = [x for x in range(1,6)]\n",
    "type(n)"
   ]
  },
  {
   "cell_type": "code",
   "execution_count": 37,
   "id": "bf5881ad-ab14-4f66-ba90-b46a0f1a2afd",
   "metadata": {
    "tags": []
   },
   "outputs": [
    {
     "name": "stdout",
     "output_type": "stream",
     "text": [
      "[1, 2, 3, 4, 5]\n"
     ]
    }
   ],
   "source": [
    "print(n)"
   ]
  },
  {
   "cell_type": "code",
   "execution_count": 29,
   "id": "c781c0d6-8c2c-431e-be06-ab2261442172",
   "metadata": {
    "tags": []
   },
   "outputs": [
    {
     "name": "stdout",
     "output_type": "stream",
     "text": [
      "a: 1\n",
      "b: [2, 3, 4, 5]\n",
      "c: 6\n"
     ]
    }
   ],
   "source": [
    "# Random notes\n",
    "a, *b, c = 1,2,3,4,5,6\n",
    "print(\"a:\", a)\n",
    "print(\"b:\", b)\n",
    "print(\"c:\", c)"
   ]
  },
  {
   "cell_type": "markdown",
   "id": "ba2719bc-6a27-463a-bcf7-d5283bb957fb",
   "metadata": {},
   "source": [
    "#### Accessing Elements of a List"
   ]
  },
  {
   "cell_type": "markdown",
   "id": "524b68f3-d413-48b1-9fcf-b28aa9b3be50",
   "metadata": {},
   "source": [
    "> <span style=\"color:red;\">**Important!**</span>\n",
    "In Python, lists are **zero-indexed**, which means that the first element has an index of 0, the second element has an index of 1, and so on."
   ]
  },
  {
   "cell_type": "code",
   "execution_count": 49,
   "id": "2ec64c73-ecd5-4e1d-af8e-ff8d65733cb1",
   "metadata": {
    "tags": []
   },
   "outputs": [],
   "source": [
    "l = list((1,2,3.0,4+0.5j,True,\"apple\",\"banna\")) # List definition"
   ]
  },
  {
   "cell_type": "markdown",
   "id": "0d3007c4-537f-4215-9f26-7cac8b110e70",
   "metadata": {},
   "source": [
    "1. Direct Access:"
   ]
  },
  {
   "cell_type": "code",
   "execution_count": 39,
   "id": "fc2d8623-343c-495c-8517-60d7ec437b1c",
   "metadata": {
    "tags": []
   },
   "outputs": [
    {
     "name": "stdout",
     "output_type": "stream",
     "text": [
      "1\n"
     ]
    }
   ],
   "source": [
    "print(l[0])  # Accesses the first element"
   ]
  },
  {
   "cell_type": "markdown",
   "id": "676094a6-194d-4f90-86fb-734612d90766",
   "metadata": {},
   "source": [
    "Python also supports **negative indexing**, where -1 refers to the last element, -2 refers to the second to last element, and so on.\n",
    "\n",
    "This allows us to access elements from the end of the list without needing to know the length of the list."
   ]
  },
  {
   "cell_type": "code",
   "execution_count": 40,
   "id": "8a2085eb-f7cf-470b-bc73-a5b8bdf73245",
   "metadata": {
    "tags": []
   },
   "outputs": [
    {
     "name": "stdout",
     "output_type": "stream",
     "text": [
      "banna\n"
     ]
    }
   ],
   "source": [
    "print(l[-1]) # Accesses the last element"
   ]
  },
  {
   "cell_type": "markdown",
   "id": "bfd80484-f25d-4218-8ff0-b2c4a40ea8a0",
   "metadata": {},
   "source": [
    "2. Slicing:"
   ]
  },
  {
   "cell_type": "markdown",
   "id": "d8db254f-d78c-42d3-9033-c67a14298909",
   "metadata": {},
   "source": [
    "We can get subsets of elements using slicing notation."
   ]
  },
  {
   "cell_type": "code",
   "execution_count": 43,
   "id": "26146d60-cccd-4eae-a9ef-94329689ab21",
   "metadata": {
    "tags": []
   },
   "outputs": [
    {
     "name": "stdout",
     "output_type": "stream",
     "text": [
      "[2, 3.0]\n"
     ]
    }
   ],
   "source": [
    "print(l[1:3]) # Accesses elements from index 1 to index 2, index 3 is not include"
   ]
  },
  {
   "cell_type": "code",
   "execution_count": 44,
   "id": "33f73020-c929-493d-8bff-c8e62a92079e",
   "metadata": {
    "tags": []
   },
   "outputs": [
    {
     "name": "stdout",
     "output_type": "stream",
     "text": [
      "[1, 2, 3.0]\n"
     ]
    }
   ],
   "source": [
    "print(l[:3])  # Accesses the first three elements"
   ]
  },
  {
   "cell_type": "code",
   "execution_count": 45,
   "id": "acf5aff2-d4c3-4584-9bcb-be038d15dc32",
   "metadata": {
    "tags": []
   },
   "outputs": [
    {
     "name": "stdout",
     "output_type": "stream",
     "text": [
      "[3.0, (4+0.5j), True, 'apple', 'banna']\n"
     ]
    }
   ],
   "source": [
    "print(l[2:])  # Accesses elements from index 2 to the end"
   ]
  },
  {
   "cell_type": "code",
   "execution_count": 51,
   "id": "6bdb0a6a-514e-4a03-9e87-caec237ac932",
   "metadata": {
    "tags": []
   },
   "outputs": [
    {
     "data": {
      "text/plain": [
       "[1, 3.0, True, 'banna']"
      ]
     },
     "execution_count": 51,
     "metadata": {},
     "output_type": "execute_result"
    }
   ],
   "source": [
    "l[::2] # [starts:stops:steps]"
   ]
  },
  {
   "cell_type": "markdown",
   "id": "dc8d8198-ce87-4367-8791-8d7f8b3078bd",
   "metadata": {
    "tags": []
   },
   "source": [
    "#### Modifying Elements of a List"
   ]
  },
  {
   "cell_type": "markdown",
   "id": "21843f3a-ec2b-479b-bb39-ed21ab9ed134",
   "metadata": {},
   "source": [
    "We can modify elements of a list assigning new values through their index"
   ]
  },
  {
   "cell_type": "code",
   "execution_count": 46,
   "id": "78018b87-6a8d-409c-9d66-22a33c5624e9",
   "metadata": {
    "tags": []
   },
   "outputs": [
    {
     "name": "stdout",
     "output_type": "stream",
     "text": [
      "[100, 2, 3.0, (4+0.5j), True, 'apple', 'banna']\n"
     ]
    }
   ],
   "source": [
    "l[0] = 100  # Modifies the first element of the list\n",
    "print(l)"
   ]
  },
  {
   "cell_type": "markdown",
   "id": "463fc063-432a-4b9f-b5f8-150d82a68897",
   "metadata": {},
   "source": [
    "#### List Methods"
   ]
  },
  {
   "cell_type": "markdown",
   "id": "341189f1-372c-4884-ac1c-6757498e1e42",
   "metadata": {},
   "source": [
    "1. `append()`. Adds an element to the end of the list:"
   ]
  },
  {
   "cell_type": "code",
   "execution_count": 57,
   "id": "177bd5a7-8524-42c3-baf1-a2e0ed3064b8",
   "metadata": {
    "tags": []
   },
   "outputs": [
    {
     "name": "stdout",
     "output_type": "stream",
     "text": [
      "[1, 2, 3, [4, 5, 6]]\n"
     ]
    }
   ],
   "source": [
    "l = [1,2,3]\n",
    "m = [4, 5, 6]\n",
    "l.append(m)\n",
    "print(l)"
   ]
  },
  {
   "cell_type": "markdown",
   "id": "f0adee7a-8202-44b1-b186-ba02091e3ddd",
   "metadata": {},
   "source": [
    "2. `extend()`. Adds elements of another list to the end of the current list"
   ]
  },
  {
   "cell_type": "code",
   "execution_count": 59,
   "id": "255d5d1c-5316-4aa2-ba45-a0100fc56453",
   "metadata": {
    "tags": []
   },
   "outputs": [
    {
     "name": "stdout",
     "output_type": "stream",
     "text": [
      "[1, 2, 3, 4, 5]\n"
     ]
    }
   ],
   "source": [
    "l = [1, 2, 3]\n",
    "m = [4,5]\n",
    "l.extend(m)\n",
    "print(l)"
   ]
  },
  {
   "cell_type": "markdown",
   "id": "46337dd2-18a2-48bd-8590-4e784d5d7198",
   "metadata": {},
   "source": [
    "3. `copy()`. Creates a shallow copy of the list. Changes made to the original list will not affect the copied list, and vice versa:"
   ]
  },
  {
   "cell_type": "code",
   "execution_count": 61,
   "id": "77f2249c-1ab3-4a45-927d-5b3ab23ddd40",
   "metadata": {
    "tags": []
   },
   "outputs": [
    {
     "name": "stdout",
     "output_type": "stream",
     "text": [
      "[1, 2, 3, 4]\n",
      "[1, 2, 3]\n"
     ]
    }
   ],
   "source": [
    "original_list = [1, 2, 3]\n",
    "copied_list = original_list.copy()\n",
    "original_list.append(4)\n",
    "print(original_list)   \n",
    "print(copied_list) "
   ]
  },
  {
   "cell_type": "markdown",
   "id": "b8d87002-dc40-4df5-b5f9-7c5d22765e62",
   "metadata": {},
   "source": [
    "4. `insert()`. Inserts an element at a specific position in the list:"
   ]
  },
  {
   "cell_type": "code",
   "execution_count": 62,
   "id": "09d53cff-31df-48d0-8fa8-aaa8aa2a4e30",
   "metadata": {
    "tags": []
   },
   "outputs": [
    {
     "name": "stdout",
     "output_type": "stream",
     "text": [
      "[1, 1.5, 2, 3]\n"
     ]
    }
   ],
   "source": [
    "l = [1, 2, 3]\n",
    "l.insert(1, 1.5)\n",
    "print(l)"
   ]
  },
  {
   "cell_type": "markdown",
   "id": "20ea6467-dbf5-4c5b-a7d6-cc0fd9f7a503",
   "metadata": {},
   "source": [
    "5. `remove()`. Removes the first occurrence of an element from the list:"
   ]
  },
  {
   "cell_type": "code",
   "execution_count": 63,
   "id": "adcd37d3-b2a9-4a85-8b0c-627a5a34c09c",
   "metadata": {
    "tags": []
   },
   "outputs": [
    {
     "name": "stdout",
     "output_type": "stream",
     "text": [
      "[1, 3, 2]\n"
     ]
    }
   ],
   "source": [
    "l = [1, 2, 3, 2]\n",
    "l.remove(2)\n",
    "print(l) "
   ]
  },
  {
   "cell_type": "markdown",
   "id": "00db5677-3a7f-4c79-8e79-efa474e51171",
   "metadata": {},
   "source": [
    "6. `pop()`. Removes and returns the element at a specific position in the list. If no position is specified, removes and returns the last element."
   ]
  },
  {
   "cell_type": "code",
   "execution_count": 64,
   "id": "92550c11-7941-4a5c-b3f1-9bc9cb7b2df7",
   "metadata": {
    "tags": []
   },
   "outputs": [
    {
     "name": "stdout",
     "output_type": "stream",
     "text": [
      "2\n",
      "[1, 3]\n"
     ]
    }
   ],
   "source": [
    "l = [1, 2, 3]\n",
    "popped_element = l.pop(1)\n",
    "print(popped_element)\n",
    "print(l) "
   ]
  },
  {
   "cell_type": "markdown",
   "id": "a555c188-ec41-4595-b50e-c95641dadf23",
   "metadata": {},
   "source": [
    "7. `index()`. Returns the index of the first occurrence of an element in the list.  "
   ]
  },
  {
   "cell_type": "code",
   "execution_count": 65,
   "id": "abf3c5e7-567f-4813-9b78-f7ad7a3ce1cd",
   "metadata": {
    "tags": []
   },
   "outputs": [
    {
     "name": "stdout",
     "output_type": "stream",
     "text": [
      "1\n"
     ]
    }
   ],
   "source": [
    "l = [1, 2, 3, 2]\n",
    "index = l.index(2)\n",
    "print(index)"
   ]
  },
  {
   "cell_type": "markdown",
   "id": "6cf3299d-26c8-4210-9bf1-3891ecfe3a2f",
   "metadata": {},
   "source": [
    "8. `count()`. Returns the number of times an element appears in the list."
   ]
  },
  {
   "cell_type": "code",
   "execution_count": 66,
   "id": "88415609-6dc2-41bd-8c0c-9dcee1a50f29",
   "metadata": {
    "tags": []
   },
   "outputs": [
    {
     "name": "stdout",
     "output_type": "stream",
     "text": [
      "2\n"
     ]
    }
   ],
   "source": [
    "l = [1, 2, 3, 2]\n",
    "count = l.count(2)\n",
    "print(count)"
   ]
  },
  {
   "cell_type": "markdown",
   "id": "2bf90c64-d84e-4d40-bdef-6f0189bbcf61",
   "metadata": {
    "tags": []
   },
   "source": [
    "9. `sort()`. Sorts the elements of the list in place."
   ]
  },
  {
   "cell_type": "code",
   "execution_count": 69,
   "id": "bfa51037-cffe-4bbc-9143-664c8c5d263a",
   "metadata": {
    "tags": []
   },
   "outputs": [
    {
     "name": "stdout",
     "output_type": "stream",
     "text": [
      "[1, 2, 3]\n"
     ]
    }
   ],
   "source": [
    "l = [3, 1, 2]\n",
    "l.sort()\n",
    "print(l) "
   ]
  },
  {
   "cell_type": "markdown",
   "id": "10eadef5-3b48-4230-9d7d-4d3fb8f45b13",
   "metadata": {},
   "source": [
    "10. `reverse()`. Reverses the order of the elements of the list in place:"
   ]
  },
  {
   "cell_type": "code",
   "execution_count": 70,
   "id": "9b75f961-361e-4469-9084-f2e21a0a5a58",
   "metadata": {
    "tags": []
   },
   "outputs": [
    {
     "name": "stdout",
     "output_type": "stream",
     "text": [
      "[3, 2, 1]\n"
     ]
    }
   ],
   "source": [
    "l = [1, 2, 3]\n",
    "l.reverse()\n",
    "print(l)"
   ]
  },
  {
   "cell_type": "markdown",
   "id": "96ca7665-9d20-4a27-afff-a3efd6d6374a",
   "metadata": {},
   "source": [
    "### Tuple"
   ]
  },
  {
   "cell_type": "markdown",
   "id": "34c1b38f-0fc1-4305-9216-87e79bda958d",
   "metadata": {},
   "source": [
    "Tuples are ordered collections of items, immutable and can contain any type of data"
   ]
  },
  {
   "cell_type": "code",
   "execution_count": 71,
   "id": "114daadb-927c-4c6f-a3d1-2180c82f1513",
   "metadata": {
    "tags": []
   },
   "outputs": [
    {
     "data": {
      "text/plain": [
       "tuple"
      ]
     },
     "execution_count": 71,
     "metadata": {},
     "output_type": "execute_result"
    }
   ],
   "source": [
    "t = (1, 2, 3, \"apple\", \"banana\", \"cherry\")\n",
    "type(t)"
   ]
  },
  {
   "cell_type": "markdown",
   "id": "19ca2212-305e-4af4-a518-9cc3594176be",
   "metadata": {
    "tags": []
   },
   "source": [
    "Tuples are a data structure similar to lists, but they are immutable, meaning they cannot be modified once created."
   ]
  },
  {
   "cell_type": "markdown",
   "id": "1247d471-a31c-4639-bc47-b9be94b63051",
   "metadata": {
    "tags": []
   },
   "source": [
    "#### Accesing Tuple Elements"
   ]
  },
  {
   "cell_type": "code",
   "execution_count": 75,
   "id": "2080cd74-47bf-433a-afc6-d78498b87c3d",
   "metadata": {
    "tags": []
   },
   "outputs": [
    {
     "name": "stdout",
     "output_type": "stream",
     "text": [
      "1\n",
      "cherry\n"
     ]
    }
   ],
   "source": [
    "print(t[0])  # Output: 1\n",
    "print(t[-1]) # Output: 'cherry'"
   ]
  },
  {
   "cell_type": "markdown",
   "id": "4b90ee21-c3c8-4c54-a58d-7de9524c666a",
   "metadata": {
    "tags": []
   },
   "source": [
    "#### Tuple Methods"
   ]
  },
  {
   "cell_type": "markdown",
   "id": "127127ad-983a-43c8-9af5-b93838d0939c",
   "metadata": {
    "tags": []
   },
   "source": [
    "1. `count()`. Returns the number of times a specific element appears in the tuple.\n",
    "2. `index()`. Returns the index of the first occurrence of a specific element in the tuple."
   ]
  },
  {
   "cell_type": "markdown",
   "id": "4c02cd7f-75ec-4f41-8972-97ca04f2da16",
   "metadata": {},
   "source": [
    "## Non-Sequence Type"
   ]
  },
  {
   "cell_type": "markdown",
   "id": "166d7259-ad60-4961-9767-c36622063f07",
   "metadata": {},
   "source": [
    "### Set"
   ]
  },
  {
   "cell_type": "markdown",
   "id": "5756b461-72d8-43e5-9f9f-892db789f9f9",
   "metadata": {},
   "source": [
    "A set is an unordered collection of unique elements and are mutable."
   ]
  },
  {
   "cell_type": "markdown",
   "id": "38dcd89c-5a9b-4bb3-a0b4-9cae0f464c99",
   "metadata": {},
   "source": [
    "#### Creating Sets"
   ]
  },
  {
   "cell_type": "markdown",
   "id": "4de4c6fc-ca35-4557-aff6-cc0c8921d0fd",
   "metadata": {},
   "source": [
    "Sets can be created using curly braces {}:"
   ]
  },
  {
   "cell_type": "code",
   "execution_count": 78,
   "id": "9746c30a-5a9f-4785-8c14-0546d360dc40",
   "metadata": {
    "tags": []
   },
   "outputs": [
    {
     "data": {
      "text/plain": [
       "set"
      ]
     },
     "execution_count": 78,
     "metadata": {},
     "output_type": "execute_result"
    }
   ],
   "source": [
    "s = {1, 2, 3}\n",
    "type(s)"
   ]
  },
  {
   "cell_type": "markdown",
   "id": "39d63d7f-ba91-4e69-b5bf-75c931f4218b",
   "metadata": {},
   "source": [
    "or by using the set() constructor:"
   ]
  },
  {
   "cell_type": "code",
   "execution_count": 79,
   "id": "1f9f472c-f6fd-4776-ba50-7821c7d6e1a2",
   "metadata": {
    "tags": []
   },
   "outputs": [
    {
     "data": {
      "text/plain": [
       "set"
      ]
     },
     "execution_count": 79,
     "metadata": {},
     "output_type": "execute_result"
    }
   ],
   "source": [
    "s = set([4, 5, 6])\n",
    "type(s)"
   ]
  },
  {
   "cell_type": "markdown",
   "id": "c9c1ab5a-4ef9-4922-b484-597f17e1a3f7",
   "metadata": {},
   "source": [
    "#### Accessing Set Elements"
   ]
  },
  {
   "cell_type": "markdown",
   "id": "04cb3d8c-084e-4050-a533-8cdbc5cc706b",
   "metadata": {},
   "source": [
    "Since sets are unordered, we cannot access elements by index. Instead, we can check for membership using the in keyword:"
   ]
  },
  {
   "cell_type": "code",
   "execution_count": 84,
   "id": "cf1a397b-f9b3-4b71-80a3-f2d17b874b47",
   "metadata": {
    "tags": []
   },
   "outputs": [
    {
     "name": "stdout",
     "output_type": "stream",
     "text": [
      "False\n"
     ]
    }
   ],
   "source": [
    "print(1 in s) "
   ]
  },
  {
   "cell_type": "code",
   "execution_count": 85,
   "id": "24481dc3-7d6a-46af-9e95-f2c247886e0f",
   "metadata": {
    "tags": []
   },
   "outputs": [
    {
     "name": "stdout",
     "output_type": "stream",
     "text": [
      "True\n"
     ]
    }
   ],
   "source": [
    "print(4 in s)  "
   ]
  },
  {
   "cell_type": "markdown",
   "id": "51b9df9e-8e81-421e-92ed-0ccaaa99fcd1",
   "metadata": {},
   "source": [
    "#### Set Methods"
   ]
  },
  {
   "cell_type": "markdown",
   "id": "a4374d13-c163-48c2-90a4-b68e2b9e38f9",
   "metadata": {},
   "source": [
    "1. `add()`. Adds a single element to the set:   "
   ]
  },
  {
   "cell_type": "code",
   "execution_count": 89,
   "id": "79ab6dfb-4eb3-4dac-84e7-4ac89e82a4ed",
   "metadata": {
    "tags": []
   },
   "outputs": [
    {
     "name": "stdout",
     "output_type": "stream",
     "text": [
      "{1, 2, 3, 4}\n"
     ]
    }
   ],
   "source": [
    "s = {1,2,3}\n",
    "s.add(4)\n",
    "print(s)"
   ]
  },
  {
   "cell_type": "markdown",
   "id": "8dbad606-7bab-4971-84ae-a88245b30e96",
   "metadata": {},
   "source": [
    "2. `update()`. Adds multiple elements to the set:"
   ]
  },
  {
   "cell_type": "code",
   "execution_count": 91,
   "id": "6edce674-06e0-4a27-bf99-d01403d096cc",
   "metadata": {
    "tags": []
   },
   "outputs": [
    {
     "name": "stdout",
     "output_type": "stream",
     "text": [
      "{1, 2, 3, 4, 5, 6}\n"
     ]
    }
   ],
   "source": [
    "s = {1,2,3}\n",
    "s.update([4,5,6])\n",
    "print(s)"
   ]
  },
  {
   "cell_type": "markdown",
   "id": "fc0d74d9-1444-476c-aa9f-9fff99e0d247",
   "metadata": {},
   "source": [
    "3. `difference()`. Obtain the elements that are in the first set and are'nt in the second. "
   ]
  },
  {
   "cell_type": "code",
   "execution_count": 26,
   "id": "85fda096-5962-498e-b931-42db48a989de",
   "metadata": {
    "tags": []
   },
   "outputs": [
    {
     "data": {
      "text/plain": [
       "{1, 2, 3}"
      ]
     },
     "execution_count": 26,
     "metadata": {},
     "output_type": "execute_result"
    }
   ],
   "source": [
    "s1 = {1, 2, 3, 4, 5}\n",
    "s2 = {4, 5, 6, 7, 8}\n",
    "s1.difference(s2)"
   ]
  },
  {
   "cell_type": "markdown",
   "id": "199c14a2-64bf-4eeb-9a0e-5e243dd9595d",
   "metadata": {},
   "source": [
    "4. `union()`. Join two sets"
   ]
  },
  {
   "cell_type": "code",
   "execution_count": 27,
   "id": "4e0f4550-88e4-4fc5-bfd1-c00a2573e99b",
   "metadata": {
    "tags": []
   },
   "outputs": [
    {
     "data": {
      "text/plain": [
       "{1, 2, 3, 4, 5, 6, 7, 8}"
      ]
     },
     "execution_count": 27,
     "metadata": {},
     "output_type": "execute_result"
    }
   ],
   "source": [
    "s1 = {1, 2, 3, 4, 5}\n",
    "s2 = {4, 5, 6, 7, 8}\n",
    "s1.union(s2)"
   ]
  },
  {
   "cell_type": "markdown",
   "id": "471a2d05-6a39-4bf3-92f7-ca2dcc9de1f2",
   "metadata": {},
   "source": [
    "5. `remove()`. Removes a specific element from the set. Raises an error if the element is not present:"
   ]
  },
  {
   "cell_type": "code",
   "execution_count": 92,
   "id": "21bac3cd-d370-434b-8475-597cef0a846b",
   "metadata": {
    "tags": []
   },
   "outputs": [
    {
     "name": "stdout",
     "output_type": "stream",
     "text": [
      "{1, 2}\n"
     ]
    }
   ],
   "source": [
    "s = {1,2,3}\n",
    "s.remove(3)\n",
    "print(s)"
   ]
  },
  {
   "cell_type": "markdown",
   "id": "c2e57476-7a16-40b4-b375-bf3964feb3da",
   "metadata": {},
   "source": [
    "6. `discard()`. Removes a specific element from the set if it is present. Does not raise an error if the element is not present:"
   ]
  },
  {
   "cell_type": "code",
   "execution_count": 95,
   "id": "b35f39ac-3cc6-4cbc-b2d4-127ef6d1f167",
   "metadata": {
    "tags": []
   },
   "outputs": [
    {
     "name": "stdout",
     "output_type": "stream",
     "text": [
      "{1, 3}\n"
     ]
    }
   ],
   "source": [
    "s = {1,2,3}\n",
    "s.discard(4)\n",
    "s.discard(2)\n",
    "print(s)"
   ]
  },
  {
   "cell_type": "markdown",
   "id": "e85a5b12-1483-4df1-b1f0-5c02e74c262f",
   "metadata": {},
   "source": [
    "7. `pop()`. Removes and returns an arbitrary element from the set:"
   ]
  },
  {
   "cell_type": "code",
   "execution_count": 97,
   "id": "0edc61b3-92d2-4e56-9754-55824ca095b4",
   "metadata": {
    "tags": []
   },
   "outputs": [
    {
     "name": "stdout",
     "output_type": "stream",
     "text": [
      "{2, 3}\n"
     ]
    }
   ],
   "source": [
    "s = {1,2,3}\n",
    "popped_element = s.pop()\n",
    "print(s)"
   ]
  },
  {
   "cell_type": "markdown",
   "id": "a91e5a13-6dfe-439b-90f8-b03a9f09e428",
   "metadata": {},
   "source": [
    "8. `clear()`. Removes all elements from the set:"
   ]
  },
  {
   "cell_type": "code",
   "execution_count": 98,
   "id": "bcc8cc27-e0dc-446b-a135-a76fc60c39f1",
   "metadata": {
    "tags": []
   },
   "outputs": [
    {
     "name": "stdout",
     "output_type": "stream",
     "text": [
      "set()\n"
     ]
    }
   ],
   "source": [
    "s = {1,2,3}\n",
    "s.clear()\n",
    "print(s)"
   ]
  },
  {
   "cell_type": "markdown",
   "id": "9f884de0-f7e9-416a-9588-90173e5be2bb",
   "metadata": {
    "tags": []
   },
   "source": [
    "### Dictionary"
   ]
  },
  {
   "cell_type": "markdown",
   "id": "d9dc87cc-f688-4951-889e-b39cc997227f",
   "metadata": {},
   "source": [
    "A dictionary is a data structure that allows storing key-value pairs.\n",
    "\n",
    "Dictionaries are mutable, meaning you can modify, add, or remove elements after creation.\n",
    "\n",
    "Keys in a dictionary must be unique and immutable, while values can be of any data type, including lists, tuples, sets, or other dictionaries."
   ]
  },
  {
   "cell_type": "markdown",
   "id": "5f294b47-5d3b-4c86-8d4c-3c93811e040c",
   "metadata": {},
   "source": [
    "#### Creating dictionaries"
   ]
  },
  {
   "cell_type": "markdown",
   "id": "114d94a9-40fc-40ef-88cb-cb1185d078bd",
   "metadata": {},
   "source": [
    "Dictionaries can be created using curly braces `{}` and specifying key-value pairs separated by commas `,` inside them:"
   ]
  },
  {
   "cell_type": "code",
   "execution_count": 118,
   "id": "149cfada-6442-4155-85cf-d091bbc061bf",
   "metadata": {
    "tags": []
   },
   "outputs": [
    {
     "data": {
      "text/plain": [
       "dict"
      ]
     },
     "execution_count": 118,
     "metadata": {},
     "output_type": "execute_result"
    }
   ],
   "source": [
    "d = {\"key1\": \"value1\", \"key2\": \"value2\", \"key3\": \"value3\"}\n",
    "type(d)"
   ]
  },
  {
   "cell_type": "markdown",
   "id": "2e3e5674-b9d4-42f0-b0ed-cbc0a1b21625",
   "metadata": {},
   "source": [
    "We can also create a dictionary using the `dict()` constructor and passing a list of key-value tuples as an argument:"
   ]
  },
  {
   "cell_type": "code",
   "execution_count": 115,
   "id": "3b1de911-b7a8-475f-8fdf-aa307070d0ea",
   "metadata": {
    "tags": []
   },
   "outputs": [
    {
     "data": {
      "text/plain": [
       "dict"
      ]
     },
     "execution_count": 115,
     "metadata": {},
     "output_type": "execute_result"
    }
   ],
   "source": [
    "d = dict([('key1', 'value1'), ('key2', 'value2'), ('key3', 'value3')])\n",
    "type(d)"
   ]
  },
  {
   "cell_type": "markdown",
   "id": "b3dba689-729e-4af3-ace7-bce4a85bf483",
   "metadata": {},
   "source": [
    "Using dictionaries comprehension:"
   ]
  },
  {
   "cell_type": "code",
   "execution_count": 13,
   "id": "4c2e873c-b998-4479-85ab-896f12269a99",
   "metadata": {
    "tags": []
   },
   "outputs": [
    {
     "data": {
      "text/plain": [
       "{0: 0, 1: 1, 2: 4, 3: 9, 4: 16, 5: 25, 6: 36, 7: 49, 8: 64, 9: 81}"
      ]
     },
     "execution_count": 13,
     "metadata": {},
     "output_type": "execute_result"
    }
   ],
   "source": [
    "d = {x:x**2 for x in range(10)}\n",
    "d"
   ]
  },
  {
   "cell_type": "markdown",
   "id": "4a54504f-6571-4f0e-aefd-d53ae4a56e9c",
   "metadata": {},
   "source": [
    "#### Accessing Elements of a List"
   ]
  },
  {
   "cell_type": "markdown",
   "id": "184a11b4-2d53-404d-a16b-8035bfcd2576",
   "metadata": {},
   "source": [
    "Return the value of the key"
   ]
  },
  {
   "cell_type": "code",
   "execution_count": 22,
   "id": "743fde9e-9d39-4d47-96a3-52747c91b6ff",
   "metadata": {
    "tags": []
   },
   "outputs": [
    {
     "data": {
      "text/plain": [
       "98745"
      ]
     },
     "execution_count": 22,
     "metadata": {},
     "output_type": "execute_result"
    }
   ],
   "source": [
    "t = {\"eva\": 98745, \"elena\": 32165, \"marc\": 45678}\n",
    "t[\"eva\"]"
   ]
  },
  {
   "cell_type": "markdown",
   "id": "4d12ae5b-f149-45c5-89fd-441dd7cf3da5",
   "metadata": {},
   "source": [
    "Add a new key with its value"
   ]
  },
  {
   "cell_type": "code",
   "execution_count": 24,
   "id": "a190d1ff-cbfb-4780-9d89-b2a708e5d916",
   "metadata": {
    "tags": []
   },
   "outputs": [
    {
     "data": {
      "text/plain": [
       "{'eva': 98745, 'elena': 32165, 'marc': 45678, 'gerad': 65498}"
      ]
     },
     "execution_count": 24,
     "metadata": {},
     "output_type": "execute_result"
    }
   ],
   "source": [
    "t[\"gerad\"] = 65498\n",
    "t"
   ]
  },
  {
   "cell_type": "markdown",
   "id": "6133afa2-81d8-4582-86e0-8edbe8031f0c",
   "metadata": {},
   "source": [
    "#### Dictionary Methods"
   ]
  },
  {
   "cell_type": "markdown",
   "id": "e15ecd4f-afa1-42f5-b046-16d4075840a2",
   "metadata": {},
   "source": [
    "1. `keys()`. Returns a view of all keys in the dictionary:"
   ]
  },
  {
   "cell_type": "code",
   "execution_count": 103,
   "id": "54edc02e-32f7-4419-980f-757b0af9eb45",
   "metadata": {
    "tags": []
   },
   "outputs": [
    {
     "data": {
      "text/plain": [
       "dict_keys(['key1', 'key2', 'key3'])"
      ]
     },
     "execution_count": 103,
     "metadata": {},
     "output_type": "execute_result"
    }
   ],
   "source": [
    "d.keys()"
   ]
  },
  {
   "cell_type": "markdown",
   "id": "afced0e6-ba90-4e7f-b7a7-faba591f2358",
   "metadata": {},
   "source": [
    "2. `values()`. Returns a view of all values in the dictionary:"
   ]
  },
  {
   "cell_type": "code",
   "execution_count": 104,
   "id": "6e1ee3ea-3856-4dad-b90c-321cedb1fc53",
   "metadata": {
    "tags": []
   },
   "outputs": [
    {
     "data": {
      "text/plain": [
       "dict_values(['value1', 'value2', 'value3'])"
      ]
     },
     "execution_count": 104,
     "metadata": {},
     "output_type": "execute_result"
    }
   ],
   "source": [
    "d.values()"
   ]
  },
  {
   "cell_type": "markdown",
   "id": "95cb1a44-e529-47c0-bd12-5463ace2a0ae",
   "metadata": {},
   "source": [
    "3.  `items()`. Returns a view of all key-value pairs in the dictionary as tuples:"
   ]
  },
  {
   "cell_type": "code",
   "execution_count": 105,
   "id": "e43b7d2e-a311-4f64-a0bc-b1f8d2995dd4",
   "metadata": {
    "tags": []
   },
   "outputs": [
    {
     "data": {
      "text/plain": [
       "dict_items([('key1', 'value1'), ('key2', 'value2'), ('key3', 'value3')])"
      ]
     },
     "execution_count": 105,
     "metadata": {},
     "output_type": "execute_result"
    }
   ],
   "source": [
    "d.items()"
   ]
  },
  {
   "cell_type": "markdown",
   "id": "4fcbdef5-eeef-412a-b037-3d44ae6881c5",
   "metadata": {},
   "source": [
    "4. `get()`. Returns the value associated with the specified key. If the key is not present, it returns a default value (or None if no default value is provided):"
   ]
  },
  {
   "cell_type": "code",
   "execution_count": 107,
   "id": "a20e1c33-b1d8-426d-ae12-79fce49766af",
   "metadata": {
    "tags": []
   },
   "outputs": [
    {
     "data": {
      "text/plain": [
       "'value2'"
      ]
     },
     "execution_count": 107,
     "metadata": {},
     "output_type": "execute_result"
    }
   ],
   "source": [
    "d.get(\"key2\") # Using the get() method to retrieve the value associated with a key"
   ]
  },
  {
   "cell_type": "code",
   "execution_count": 110,
   "id": "4dd059d4-e4a5-46a9-9132-b70b22e21391",
   "metadata": {
    "tags": []
   },
   "outputs": [
    {
     "data": {
      "text/plain": [
       "'default_value'"
      ]
     },
     "execution_count": 110,
     "metadata": {},
     "output_type": "execute_result"
    }
   ],
   "source": [
    "d.get(\"key4\", \"default_value\") # Using the get() method with a default value if the key is not present"
   ]
  },
  {
   "cell_type": "code",
   "execution_count": 109,
   "id": "aba34282-463e-4dba-93c6-414b34dd55a5",
   "metadata": {
    "tags": []
   },
   "outputs": [
    {
     "name": "stdout",
     "output_type": "stream",
     "text": [
      "{'key1': 'value1', 'key2': 'value2', 'key3': 'value3'}\n"
     ]
    }
   ],
   "source": [
    "print(d)"
   ]
  },
  {
   "cell_type": "markdown",
   "id": "bc712109-ac43-4d97-a607-ca10455addc8",
   "metadata": {},
   "source": [
    "5. `update()`. Adds key-value pairs from another dictionary or a list of key-value tuples to the current dictionary:"
   ]
  },
  {
   "cell_type": "code",
   "execution_count": 119,
   "id": "ecc7a6a2-76c5-4104-9bbc-6c2dd5788c12",
   "metadata": {
    "tags": []
   },
   "outputs": [
    {
     "data": {
      "text/plain": [
       "{'key1': 'value1', 'key2': 'value2', 'key3': 'value3', 'key4': 'value4'}"
      ]
     },
     "execution_count": 119,
     "metadata": {},
     "output_type": "execute_result"
    }
   ],
   "source": [
    "d.update({\"key4\": \"value4\"})\n",
    "d"
   ]
  },
  {
   "cell_type": "markdown",
   "id": "29398219-41d8-44b8-9f9c-6bb442b02283",
   "metadata": {},
   "source": [
    "6. `pop()`. Removes and returns the value associated with the specified key:"
   ]
  },
  {
   "cell_type": "code",
   "execution_count": 120,
   "id": "a3df7f89-3589-4928-8260-0e49b37254b0",
   "metadata": {
    "tags": []
   },
   "outputs": [
    {
     "name": "stdout",
     "output_type": "stream",
     "text": [
      "value2\n",
      "{'key1': 'value1', 'key3': 'value3', 'key4': 'value4'}\n"
     ]
    }
   ],
   "source": [
    "value = d.pop(\"key2\")\n",
    "print(value)    \n",
    "print(d)"
   ]
  },
  {
   "cell_type": "markdown",
   "id": "44c58fef-d76d-4f71-b535-6808538536f4",
   "metadata": {},
   "source": [
    "7. `popitem()`. Removes and returns the last key-value pair added to the dictionary:"
   ]
  },
  {
   "cell_type": "code",
   "execution_count": 121,
   "id": "ce819dc8-ab30-4e1d-bf14-981f46f0aa01",
   "metadata": {
    "tags": []
   },
   "outputs": [
    {
     "name": "stdout",
     "output_type": "stream",
     "text": [
      "('key4', 'value4')\n",
      "{'key1': 'value1', 'key3': 'value3'}\n"
     ]
    }
   ],
   "source": [
    "last_item = d.popitem()\n",
    "print(last_item) \n",
    "print(d) "
   ]
  },
  {
   "cell_type": "markdown",
   "id": "2cf31e2c-7cb3-408a-a6af-b47660f3d901",
   "metadata": {},
   "source": [
    "8. `clear()`. Removes all elements from the dictionary:"
   ]
  },
  {
   "cell_type": "code",
   "execution_count": 123,
   "id": "c23d7731-e0d7-4655-a9e8-f52a1ec3a905",
   "metadata": {
    "tags": []
   },
   "outputs": [
    {
     "data": {
      "text/plain": [
       "{}"
      ]
     },
     "execution_count": 123,
     "metadata": {},
     "output_type": "execute_result"
    }
   ],
   "source": [
    "d.clear()\n",
    "d"
   ]
  },
  {
   "cell_type": "markdown",
   "id": "f039ca07-6eb6-461a-ad16-22dbb5f08ffb",
   "metadata": {},
   "source": [
    "# Mutability of Data Types"
   ]
  },
  {
   "cell_type": "markdown",
   "id": "de7e67d5-488f-45f1-8fbc-91e11896fde8",
   "metadata": {},
   "source": [
    "| Mutable             | Immutable              |\n",
    "|---------------------|------------------------|\n",
    "| Lists               | Integers               |\n",
    "| Sets                | Floats                 |\n",
    "| Dictionaries        | Complex                |\n",
    "|                     | Strings                |\n",
    "|                     | Tuples                 |"
   ]
  },
  {
   "cell_type": "markdown",
   "id": "fe5de650-4373-4ee9-88d1-d304af1c2b4a",
   "metadata": {},
   "source": [
    "## Mutable Objects"
   ]
  },
  {
   "cell_type": "markdown",
   "id": "9158e103-8728-45ce-b9ff-6d8f93d23aa2",
   "metadata": {},
   "source": [
    "Mutable objects are those whose values can be changed after creation.\n",
    "\n",
    "Mutable objects include lists, dictionaries, and sets.\n",
    "\n",
    "> <span style=\"color:red;\">**Important!**</span>\n",
    "When assigning a mutable object to another variable, both variables reference the same object in memory."
   ]
  },
  {
   "cell_type": "code",
   "execution_count": 128,
   "id": "dc47a4d5-ae57-420e-865f-86f6c0dc88d6",
   "metadata": {
    "tags": []
   },
   "outputs": [
    {
     "name": "stdout",
     "output_type": "stream",
     "text": [
      "[10, 2, 3]\n"
     ]
    }
   ],
   "source": [
    "# Example with a mutable object (list)\n",
    "a = [1, 2, 3]\n",
    "b = a      # 'b' references the same list object as 'a'\n",
    "b[0] = 10  # Modifying 'b' also affects 'a'\n",
    "print(a)   # Output: [10, 2, 3]"
   ]
  },
  {
   "cell_type": "code",
   "execution_count": 29,
   "id": "23349aac-1cb2-4539-878f-ce63ec6be367",
   "metadata": {},
   "outputs": [
    {
     "data": {
      "text/plain": [
       "[5, 6, 7, 8, [[...], 2, 3, 4]]"
      ]
     },
     "execution_count": 29,
     "metadata": {},
     "output_type": "execute_result"
    }
   ],
   "source": [
    "A = [1,2,3,4]\n",
    "B = [5,6,7,8,A]\n",
    "C = B # It's a references for the  object\n",
    "A[0] = C\n",
    "C"
   ]
  },
  {
   "cell_type": "markdown",
   "id": "46c37725-c844-47fb-bcf9-b8e2ea4153d6",
   "metadata": {},
   "source": [
    "## Immutable Objects"
   ]
  },
  {
   "cell_type": "markdown",
   "id": "28acf0f9-34f4-45ba-9c1e-af36cc4ae313",
   "metadata": {},
   "source": [
    "Immutable objects are those whose values cannot be changed after creation.\n",
    "\n",
    "Immutable objects include integers, floats, complex, strings, and tuples.\n",
    "\n",
    "When assigning an immutable object to another variable, a new object is created in memory."
   ]
  },
  {
   "cell_type": "code",
   "execution_count": 131,
   "id": "20001f11-a514-4190-a80a-8066ab26e4c6",
   "metadata": {
    "tags": []
   },
   "outputs": [
    {
     "name": "stdout",
     "output_type": "stream",
     "text": [
      "5\n"
     ]
    }
   ],
   "source": [
    "# Example with an immutable object (integer)\n",
    "a = 5\n",
    "b = a    # 'b' references the same integer object as 'a'\n",
    "b = 4    # A new integer object with value 1 is created, 'b' now references this new object\n",
    "print(a) # Output: 5"
   ]
  },
  {
   "cell_type": "markdown",
   "id": "b3da7cb5-58e9-46b6-862e-1d19757e531d",
   "metadata": {},
   "source": [
    "# Storing Object References"
   ]
  },
  {
   "cell_type": "markdown",
   "id": "83e70ec7-7a8e-4db0-9650-b5e19b983d69",
   "metadata": {},
   "source": [
    "In Python, we can store references to objects in various data structures (lists, dictionaries, tuples and sets). This capability allows us to store and access functions or any other type of object dynamically. Here's how we can do it:"
   ]
  },
  {
   "cell_type": "code",
   "execution_count": 133,
   "id": "4906e182-e38a-45e9-967e-f4d5d79623b1",
   "metadata": {
    "tags": []
   },
   "outputs": [
    {
     "name": "stdout",
     "output_type": "stream",
     "text": [
      "3\n"
     ]
    }
   ],
   "source": [
    "# In a list:\n",
    "my_list = [abs, \"hello\", (1, 2, 3)]\n",
    "\n",
    "# Accessing and calling the function stored in the list\n",
    "result = my_list[0](-3)\n",
    "print(result)  # Output: 3 (The absolute value of -3)"
   ]
  },
  {
   "cell_type": "code",
   "execution_count": 136,
   "id": "39e510db-29db-43e5-bb54-9438810f5eda",
   "metadata": {
    "tags": []
   },
   "outputs": [
    {
     "name": "stdout",
     "output_type": "stream",
     "text": [
      "3\n"
     ]
    }
   ],
   "source": [
    "# In a tuple:\n",
    "my_tuple = (abs, [1, 2, 3], {\"key\": \"value\"})\n",
    "\n",
    "# Accessing and calling the function stored in the tuple\n",
    "result = my_tuple[0](-3)\n",
    "print(result)  # Output: 3 (The absolute value of -3)"
   ]
  },
  {
   "cell_type": "code",
   "execution_count": 135,
   "id": "68f39336-3467-4a9d-bb01-f3f37a3e8c61",
   "metadata": {
    "tags": []
   },
   "outputs": [
    {
     "name": "stdout",
     "output_type": "stream",
     "text": [
      "3\n"
     ]
    }
   ],
   "source": [
    "# In a set:\n",
    "my_set = {abs, \"world\", (4, 5, 6)}\n",
    "\n",
    "# Attempting to access a function in a set is not possible since sets are not indexed\n",
    "# However, you can check if the function is present in the set\n",
    "if abs in my_set:\n",
    "    result = abs(-3)\n",
    "    print(result)  # Output: 3 (The absolute value of -3)"
   ]
  },
  {
   "cell_type": "code",
   "execution_count": 137,
   "id": "0bdc6069-23c8-4cc6-9367-caa699e61209",
   "metadata": {
    "tags": []
   },
   "outputs": [
    {
     "name": "stdout",
     "output_type": "stream",
     "text": [
      "3\n"
     ]
    }
   ],
   "source": [
    "# In a dictionary:\n",
    "my_dict = {\n",
    "    \"abs_function\": abs,\n",
    "    \"hello_string\": \"hello\",\n",
    "    \"tuple_data\": (1, 2, 3),\n",
    "    \"list_data\": [4, 5, 6]\n",
    "}\n",
    "\n",
    "# Accessing and calling the function stored in the dictionary\n",
    "result = my_dict[\"abs_function\"](-3)\n",
    "print(result)  # Output: 3 (The absolute value of -3)\n"
   ]
  },
  {
   "cell_type": "markdown",
   "id": "dd54b012-6516-44f7-b5b6-9aad6240eb4c",
   "metadata": {},
   "source": [
    "# Strings formatting"
   ]
  },
  {
   "cell_type": "code",
   "execution_count": 57,
   "id": "912eb72e-101e-41d5-8239-c8dcbf5616e2",
   "metadata": {},
   "outputs": [],
   "source": [
    "I = 4\n",
    "F = 4.4\n",
    "S = \"hello\"\n",
    "\n",
    "\"This is I: %d, F: %f, S:%s\" %I,F,S"
   ]
  },
  {
   "cell_type": "code",
   "execution_count": 59,
   "id": "9ed42bb5-7c3f-407d-b49d-acc7fd9e6c01",
   "metadata": {
    "tags": []
   },
   "outputs": [
    {
     "data": {
      "text/plain": [
       "'This is I: 4, F: 4.4, S: hello'"
      ]
     },
     "execution_count": 59,
     "metadata": {},
     "output_type": "execute_result"
    }
   ],
   "source": [
    "I = 4\n",
    "F = 4.4\n",
    "S = \"hello\"\n",
    "\n",
    "f\"This is I: {I}, F: {F}, S: {S}\" "
   ]
  },
  {
   "cell_type": "code",
   "execution_count": 61,
   "id": "ef59ddd9-36b2-4078-8b26-53a58a536920",
   "metadata": {},
   "outputs": [
    {
     "data": {
      "text/plain": [
       "'This is I: 4, F: 4.4, S: hello'"
      ]
     },
     "execution_count": 61,
     "metadata": {},
     "output_type": "execute_result"
    }
   ],
   "source": [
    "I = 4\n",
    "F = 4.4\n",
    "S = \"hello\"\n",
    "\n",
    "\"This is I: {I}, F: {F}, S: {S}\".format(I=I, F=F, S=S) "
   ]
  },
  {
   "cell_type": "code",
   "execution_count": 62,
   "id": "9affc9d6-b999-4972-97c8-6d1d6293d748",
   "metadata": {},
   "outputs": [
    {
     "data": {
      "text/plain": [
       "'This is I: 4, F: 4.4, S: hello'"
      ]
     },
     "execution_count": 62,
     "metadata": {},
     "output_type": "execute_result"
    }
   ],
   "source": [
    "d = {\"I\":4,\n",
    "     \"F\":4.4,\n",
    "     \"S\": \"hello\" }\n",
    "\n",
    "\"This is I: {I}, F: {F}, S: {S}\".format(**d)"
   ]
  },
  {
   "cell_type": "markdown",
   "id": "244cd1ac-10ac-4cfb-b0e8-d5b634a37c64",
   "metadata": {},
   "source": [
    "# Python Operators"
   ]
  },
  {
   "cell_type": "markdown",
   "id": "e7dcc4f3-e90c-4d10-9696-9c512ffb138e",
   "metadata": {},
   "source": [
    "Python provides a wide range of built-in mathematical operations and functions to perform arithmetic calculations. \n",
    "\n",
    "These operations can be used with numeric data types such as integers, floats, and complex numbers"
   ]
  },
  {
   "cell_type": "markdown",
   "id": "efb81ca2-efac-4f82-81d9-f21d6034bdbd",
   "metadata": {
    "tags": []
   },
   "source": [
    "## Arithmetic Operations"
   ]
  },
  {
   "cell_type": "markdown",
   "id": "adb084af-4f8c-418d-9e81-a72cbcedee06",
   "metadata": {},
   "source": [
    "Arithmetic operators are used with numeric values to perform common mathematical operations"
   ]
  },
  {
   "cell_type": "markdown",
   "id": "75dbd52b-99ba-4059-bb52-ad5b33220f0f",
   "metadata": {
    "tags": []
   },
   "source": [
    "| Operator | Name            | Example | \n",
    "|----------|-----------------|---------|\n",
    "| +        | Addition        | x + y   |\n",
    "| -        | Subtraction     | x - y   |\n",
    "| *        | Multiplication  | x * y   |\n",
    "| /        | Division        | x / y   |\n",
    "| //       | Floor division  | x // y  |\n",
    "| %        | Modulus         | x % y   |\n",
    "| **       | Exponentiation  | x ** y  |\n"
   ]
  },
  {
   "cell_type": "code",
   "execution_count": 2,
   "id": "6b3ec43b-ad08-4e83-b9c6-057abb64a358",
   "metadata": {
    "tags": []
   },
   "outputs": [
    {
     "name": "stdout",
     "output_type": "stream",
     "text": [
      "Addition: 13\n",
      "Subtraction: 7\n",
      "Multiplication: 30\n",
      "Division: 3.3333333333333335\n",
      "Floor Division: 3\n",
      "Modulus: 1\n",
      "Exponentiation: 1000\n"
     ]
    }
   ],
   "source": [
    "# Arithmetic operations\n",
    "a = 10\n",
    "b = 3\n",
    "print(\"Addition:\", a + b)        # Output: 13\n",
    "print(\"Subtraction:\", a - b)     # Output: 7\n",
    "print(\"Multiplication:\", a * b)  # Output: 30\n",
    "print(\"Division:\", a / b)        # Output: 3.3333333333333335\n",
    "print(\"Floor Division:\", a // b) # Output: 3\n",
    "print(\"Modulus:\", a % b)         # Output: 1\n",
    "print(\"Exponentiation:\", a ** b) # Output: 1000"
   ]
  },
  {
   "cell_type": "code",
   "execution_count": 12,
   "id": "044a2f4f-7abe-4a85-b54e-1b8a42c91d0c",
   "metadata": {},
   "outputs": [
    {
     "name": "stdout",
     "output_type": "stream",
     "text": [
      "Addition: hello world\n",
      "Multiplication: hello hello hello \n"
     ]
    }
   ],
   "source": [
    "# Arithmetic operations with srings\n",
    "a = \"hello \" + \"world\"\n",
    "b = 3*\"hello \"\n",
    "print(\"Addition:\", a) # Output: 'hello world'\n",
    "print(\"Multiplication:\", b)"
   ]
  },
  {
   "cell_type": "markdown",
   "id": "04d16b1f-01e0-41c6-8961-74c5cbb3e696",
   "metadata": {},
   "source": [
    "## Assigment Operators"
   ]
  },
  {
   "cell_type": "markdown",
   "id": "22dff92a-f779-4543-ad71-4f429e66bdcd",
   "metadata": {},
   "source": [
    "Assignment operators are used to assign values to variables:"
   ]
  },
  {
   "cell_type": "markdown",
   "id": "51b498c8-b0c8-40af-8ebe-6bf5c5aa5419",
   "metadata": {},
   "source": [
    "| Operator | Name                | Example |\n",
    "|----------|---------------------|---------|\n",
    "| =        | Assignment          | x = 5   |\n",
    "| +=       | Addition            | x += 3  |\n",
    "| -=       | Subtraction         | x -= 3  |\n",
    "| *=       | Multiplication      | x *= 3  |\n",
    "| /=       | Division            | x /= 3  |\n",
    "| %=       | Modulus             | x %= 3  |\n",
    "| //=      | Floor division      | x //= 3 |\n",
    "| \\**=     | Exponentiation      | x \\**= 3|\n",
    "| &=       | Bitwise AND         | x &= 3  |\n",
    "| \\|=      | Bitwise OR          | x \\|= 3  |\n",
    "| ^=       | Bitwise XOR         | x ^= 3  |\n",
    "| >>=      | Bitwise right shift | x >>= 3 |\n",
    "| <<=      | Bitwise left shift  | x <<= 3 |"
   ]
  },
  {
   "cell_type": "markdown",
   "id": "1f7baa57-78f0-4647-801a-f99c3de47885",
   "metadata": {},
   "source": [
    "## Comparison Operators"
   ]
  },
  {
   "cell_type": "markdown",
   "id": "e4fd64dd-1d0b-454f-a779-f144213f39f3",
   "metadata": {
    "tags": []
   },
   "source": [
    "Comparison operators are used to compare two values:"
   ]
  },
  {
   "cell_type": "markdown",
   "id": "bfaf9173-41af-4888-9e38-bef1fd6014f7",
   "metadata": {},
   "source": [
    "| Operator | Name                     | Example                        |\n",
    "|----------|--------------------------|--------------------------------|\n",
    "| ==       | Equal                    | x == y                         |\n",
    "| !=       | Not equal                | x != y                         |\n",
    "| >        | Greater than             | x > y                          |\n",
    "| <        | Less than                | x < y                          |\n",
    "| >=       | Greater than or equal to | x >= y                         |\n",
    "| <=       | Less than or equal to    | x <= y                         |"
   ]
  },
  {
   "cell_type": "code",
   "execution_count": 15,
   "id": "f92f4760-ffb8-49fa-ac2c-ed0dd2d06ad6",
   "metadata": {},
   "outputs": [
    {
     "name": "stdout",
     "output_type": "stream",
     "text": [
      "Equal: True\n",
      "Grater than: False\n"
     ]
    }
   ],
   "source": [
    "# Examples with equal and grater than\n",
    "print(\"Equal:\",(2*3)==6)\n",
    "print(\"Grater than:\",5 > 6)"
   ]
  },
  {
   "cell_type": "markdown",
   "id": "066bd459-0a7e-4b33-bebc-66eaff052c8d",
   "metadata": {},
   "source": [
    "***What is consider False?***\n",
    "- Any number equal to zero (0, 0.0, 0+0j)\n",
    "- An empty container string, list, tuple, set, dictioanry.\n",
    "- False constant\n",
    "- None constant"
   ]
  },
  {
   "cell_type": "markdown",
   "id": "445f0bb4-1959-4993-8588-0e2d40c5231f",
   "metadata": {},
   "source": [
    "## Locigal Operators"
   ]
  },
  {
   "cell_type": "markdown",
   "id": "87c1fec0-1b83-4073-a653-fe8ed2951061",
   "metadata": {},
   "source": [
    "Logical operators are used to combine conditional statements:"
   ]
  },
  {
   "cell_type": "markdown",
   "id": "de3d960f-c7d2-4811-8e6d-6faa524ca25e",
   "metadata": {},
   "source": [
    "| Operator | Description                                             | Example               |\n",
    "|----------|---------------------------------------------------------|-----------------------|\n",
    "| and      | Returns True if both statements are true                | x < 5 and  x < 10     |\n",
    "| or       | Returns True if one of the statements is true           | x < 5 or x < 4        |\n",
    "| not      | Reverse the result, returns False if the result is true | not(x < 5 and x < 10) |"
   ]
  },
  {
   "cell_type": "code",
   "execution_count": 16,
   "id": "6e2a2b68-cf18-4f53-bfba-f320eb839eb8",
   "metadata": {
    "tags": []
   },
   "outputs": [
    {
     "name": "stdout",
     "output_type": "stream",
     "text": [
      "and operator: False\n"
     ]
    }
   ],
   "source": [
    "# Example\n",
    "print(\"and operator:\", (4<5) and (10<8))"
   ]
  },
  {
   "cell_type": "markdown",
   "id": "341cc19c-7fee-4e5c-ad4e-abae844b89fb",
   "metadata": {},
   "source": [
    "## Identity Operators"
   ]
  },
  {
   "cell_type": "markdown",
   "id": "7737d7a2-9b50-401d-b96a-ff590c4b455b",
   "metadata": {},
   "source": [
    "| Operator | Description                                            | Example    |\n",
    "|----------|--------------------------------------------------------|------------|\n",
    "| is       | Returns True if both variables are the same object     | x is y     |\n",
    "| is not   | Returns True if both variables are not the same object | x is not y |"
   ]
  },
  {
   "cell_type": "code",
   "execution_count": 7,
   "id": "0b429c72-b080-4420-bd88-c07497013478",
   "metadata": {},
   "outputs": [
    {
     "data": {
      "text/plain": [
       "True"
      ]
     },
     "execution_count": 7,
     "metadata": {},
     "output_type": "execute_result"
    }
   ],
   "source": [
    "# Example 1\n",
    "a = 5\n",
    "b = 5 # Same as b = a\n",
    "a is b "
   ]
  },
  {
   "cell_type": "code",
   "execution_count": 8,
   "id": "cbe92807-cab5-4e9b-ad4b-045badb91b56",
   "metadata": {
    "tags": []
   },
   "outputs": [
    {
     "data": {
      "text/plain": [
       "False"
      ]
     },
     "execution_count": 8,
     "metadata": {},
     "output_type": "execute_result"
    }
   ],
   "source": [
    "# Example 2\n",
    "a = 1027\n",
    "b = 1027\n",
    "a is b"
   ]
  },
  {
   "cell_type": "code",
   "execution_count": 5,
   "id": "d0d0c269-a195-410b-91c2-6ac9b0bc8e42",
   "metadata": {},
   "outputs": [
    {
     "data": {
      "text/plain": [
       "False"
      ]
     },
     "execution_count": 5,
     "metadata": {},
     "output_type": "execute_result"
    }
   ],
   "source": [
    "# Example 3\n",
    "a = [1,2,3] # this is exactly the same\n",
    "b = [1,2,3]\n",
    "a is b"
   ]
  },
  {
   "cell_type": "code",
   "execution_count": 10,
   "id": "bfbf98b2-d831-4cac-8ca4-be0e1f3cd855",
   "metadata": {
    "tags": []
   },
   "outputs": [
    {
     "data": {
      "text/plain": [
       "False"
      ]
     },
     "execution_count": 10,
     "metadata": {},
     "output_type": "execute_result"
    }
   ],
   "source": [
    "# Example 4\n",
    "l = [1,2,3,4]\n",
    "b = l.copy() \n",
    "l[-1] = 100\n",
    "b is l"
   ]
  },
  {
   "cell_type": "markdown",
   "id": "62a8121b-12ac-494e-ad4e-d852288e8608",
   "metadata": {},
   "source": [
    "### Singleton Optimization in Python "
   ]
  },
  {
   "cell_type": "markdown",
   "id": "2b6f4d05-cf96-4f83-a614-a85da44eee2a",
   "metadata": {},
   "source": [
    "The examples we're observing illustrate the concept of singleton optimization, a memory optimization technique employed by Python for immutable objects. The aim of singleton optimization is to assign a single memory location for commonly used immutable objects, thereby reducing memory usage and enhancing performance.\n",
    "\n",
    "Python preallocates memory for small integers within a specific range, typically from -5 to 256. Consequently, every reference to an integer within this range points to the same memory location.\n",
    "\n",
    "Similarly, Python interns short strings (usually strings with fewer than 20 characters), meaning that multiple references to identical short strings will share the same memory location."
   ]
  },
  {
   "cell_type": "markdown",
   "id": "e65635b6-05ca-432f-9948-ba8d02425fb9",
   "metadata": {},
   "source": [
    "## Membership Operators"
   ]
  },
  {
   "cell_type": "markdown",
   "id": "9e9717c3-461f-4a2a-a2da-8f7532fa0a67",
   "metadata": {},
   "source": [
    "Membership operators are used to test if a sequence is presented in an object:"
   ]
  },
  {
   "cell_type": "markdown",
   "id": "b8367dae-7266-46a6-950e-c3ec073ae3ec",
   "metadata": {},
   "source": [
    "| Operator | Description                                                                      | Example    |\n",
    "|----------|----------------------------------------------------------------------------------|------------|\n",
    "| in       | Returns True if a sequence with the specified value is present in the object     | x in y     |\n",
    "| not in   | Returns True if a sequence with the specified value is not present in the object | x not in y |"
   ]
  },
  {
   "cell_type": "markdown",
   "id": "a8d6f59d-1ce5-481c-ba69-0b1b724743e8",
   "metadata": {},
   "source": [
    "## Bitwise Operators"
   ]
  },
  {
   "cell_type": "markdown",
   "id": "ac11d302-2b00-4f0f-96db-ebce673d4cb5",
   "metadata": {},
   "source": [
    "Bitwise operators are used to compare (binary) numbers:"
   ]
  },
  {
   "cell_type": "markdown",
   "id": "aafbbda0-f79d-4d9a-8241-ff884f245cda",
   "metadata": {},
   "source": [
    "| Operator | Name                     | Description                                                                                             | Example |\n",
    "|----------|--------------------------|---------------------------------------------------------------------------------------------------------|---------|\n",
    "| &        | AND                      | Sets each bit to 1 if both bits are 1                                                                   | x & y   |\n",
    "| \\|       | OR                       | Sets each bit to 1 if one of two bits is 1                                                              | x \\| y  |\n",
    "| ^        | XOR                      | Sets each bit to 1 if only one of two bits is 1                                                         | x ^ y   |\n",
    "| ~        | NOT                      | Inverts all the bits                                                                                    | ~x      |\n",
    "| <<       | Zero fill left shift     | Shift left by pushing zeros in from the right and let the leftmost bits fall off                        | x << 2  |\n",
    "| >>       | Signed right shift       | Shift right by pushing copies of the leftmost bit in from the left, and let the rightmost bits fall off | x >> 2  |"
   ]
  },
  {
   "cell_type": "markdown",
   "id": "a8220be3-524d-487e-9566-03b2e4dcf805",
   "metadata": {},
   "source": [
    "# Controlling flow"
   ]
  },
  {
   "cell_type": "code",
   "execution_count": 66,
   "id": "3abf91b9-24ee-4ef7-810a-a770535d8022",
   "metadata": {},
   "outputs": [
    {
     "name": "stdout",
     "output_type": "stream",
     "text": [
      "Yes\n"
     ]
    }
   ],
   "source": [
    "if 2*2 == 4:\n",
    "    print(\"Yes\") # identations is code\n",
    "elif 4==6:\n",
    "    print(\"maybe\")\n",
    "else:\n",
    "    print(\"No\")"
   ]
  },
  {
   "cell_type": "code",
   "execution_count": 68,
   "id": "ec4ca172-47ef-4547-98be-c8d0e55e0247",
   "metadata": {},
   "outputs": [
    {
     "name": "stdout",
     "output_type": "stream",
     "text": [
      "False\n"
     ]
    }
   ],
   "source": [
    "if 0: \n",
    "    print(\"True\")\n",
    "else:\n",
    "    print(\"False\")\n",
    "    "
   ]
  },
  {
   "cell_type": "markdown",
   "id": "9657bcf0-b627-4807-85bf-1c36458af167",
   "metadata": {},
   "source": [
    "# Looping"
   ]
  },
  {
   "cell_type": "markdown",
   "id": "2c933d63-cc7a-41ae-a5eb-f56ec84d7778",
   "metadata": {},
   "source": [
    "## For"
   ]
  },
  {
   "cell_type": "code",
   "execution_count": 77,
   "id": "f61bfa46-2011-4d84-bd3c-df9ef4511231",
   "metadata": {},
   "outputs": [
    {
     "name": "stdout",
     "output_type": "stream",
     "text": [
      "0\n",
      "1\n",
      "2\n",
      "3\n",
      "4\n",
      "5\n",
      "6\n",
      "7\n",
      "8\n",
      "9\n"
     ]
    }
   ],
   "source": [
    "for i in range(10):\n",
    "    print(i)"
   ]
  },
  {
   "cell_type": "code",
   "execution_count": 11,
   "id": "1e584cf4-c993-4841-9f11-88871aef86e8",
   "metadata": {},
   "outputs": [
    {
     "name": "stdout",
     "output_type": "stream",
     "text": [
      "I\n",
      "F\n",
      "S\n"
     ]
    }
   ],
   "source": [
    "d = {'I': 4, 'F': 4.4, 'S': 'hello'}\n",
    "for e in d:\n",
    "    print(e)\n"
   ]
  },
  {
   "cell_type": "code",
   "execution_count": 12,
   "id": "50895958-5ea3-43f7-adb9-a8f63b3fa002",
   "metadata": {},
   "outputs": [
    {
     "name": "stdout",
     "output_type": "stream",
     "text": [
      "I\n",
      "4\n",
      "F\n",
      "4.4\n",
      "S\n",
      "hello\n"
     ]
    }
   ],
   "source": [
    "for k,v in d.items():\n",
    "    print(k)\n",
    "    print(v)"
   ]
  },
  {
   "cell_type": "code",
   "execution_count": 83,
   "id": "61374591-9cd9-407b-84f0-f2b73997e0de",
   "metadata": {},
   "outputs": [
    {
     "name": "stdout",
     "output_type": "stream",
     "text": [
      "0 hello\n",
      "1 world\n",
      "2 !\n"
     ]
    }
   ],
   "source": [
    "l = [\"hello\", \"world\", \"!\"]\n",
    "for i, e in enumerate(l):\n",
    "    print(i, e)"
   ]
  },
  {
   "cell_type": "markdown",
   "id": "92dbc74e-5428-4416-884c-f29b8a136f43",
   "metadata": {},
   "source": [
    "## While"
   ]
  },
  {
   "cell_type": "code",
   "execution_count": 14,
   "id": "cee23208-49b7-4fba-bc99-64fc659d040f",
   "metadata": {
    "tags": []
   },
   "outputs": [
    {
     "name": "stdout",
     "output_type": "stream",
     "text": [
      "1\n",
      "2\n",
      "3\n",
      "4\n",
      "5\n"
     ]
    }
   ],
   "source": [
    "num = 1\n",
    "while num <= 5:\n",
    "    print(num)\n",
    "    num += 1"
   ]
  },
  {
   "cell_type": "markdown",
   "id": "166b4f7e-f8c8-4034-8a86-d029193a7c1c",
   "metadata": {},
   "source": [
    "# Function"
   ]
  },
  {
   "cell_type": "code",
   "execution_count": 15,
   "id": "69ece942-cf58-4b32-baae-b5ed6d261592",
   "metadata": {},
   "outputs": [
    {
     "data": {
      "text/plain": [
       "function"
      ]
     },
     "execution_count": 15,
     "metadata": {},
     "output_type": "execute_result"
    }
   ],
   "source": [
    "def f():\n",
    "    print(\"f is executed\")\n",
    "type(f)"
   ]
  },
  {
   "cell_type": "code",
   "execution_count": 101,
   "id": "b9921b01-d21e-4339-8ccc-4cc0724bbdf5",
   "metadata": {},
   "outputs": [
    {
     "name": "stdout",
     "output_type": "stream",
     "text": [
      "f is executed\n"
     ]
    }
   ],
   "source": [
    "f()"
   ]
  },
  {
   "cell_type": "markdown",
   "id": "c588b7dc-a7fc-472d-9c83-8e7857c4c2fe",
   "metadata": {},
   "source": [
    "Function with argument and return"
   ]
  },
  {
   "cell_type": "code",
   "execution_count": 105,
   "id": "331b4700-c996-4cc4-aea7-5fb415da18a0",
   "metadata": {},
   "outputs": [
    {
     "data": {
      "text/plain": [
       "16"
      ]
     },
     "execution_count": 105,
     "metadata": {},
     "output_type": "execute_result"
    }
   ],
   "source": [
    "def f2(x):\n",
    "    return(x**2)\n",
    "out = f2(4)\n",
    "out"
   ]
  },
  {
   "cell_type": "markdown",
   "id": "4017662d-0728-49a8-a870-12d9a5763fa5",
   "metadata": {
    "tags": []
   },
   "source": [
    "Function with a default argument"
   ]
  },
  {
   "cell_type": "code",
   "execution_count": 106,
   "id": "523eca95-4785-4506-89c8-2b35b5f07277",
   "metadata": {},
   "outputs": [
    {
     "data": {
      "text/plain": [
       "25"
      ]
     },
     "execution_count": 106,
     "metadata": {},
     "output_type": "execute_result"
    }
   ],
   "source": [
    "def f2(x = 5):\n",
    "    return(x**2)\n",
    "out = f2()\n",
    "out"
   ]
  },
  {
   "cell_type": "markdown",
   "id": "c7d06840-0ef0-44c8-8b91-c352a14241aa",
   "metadata": {},
   "source": [
    "Function with more than one argument"
   ]
  },
  {
   "cell_type": "code",
   "execution_count": 109,
   "id": "34785d07-248f-4324-8720-cbdfbc85c1d4",
   "metadata": {},
   "outputs": [
    {
     "data": {
      "text/plain": [
       "64"
      ]
     },
     "execution_count": 109,
     "metadata": {},
     "output_type": "execute_result"
    }
   ],
   "source": [
    "def f3(x,y):\n",
    "    return(x**y)\n",
    "out = f3(2,6)\n",
    "out"
   ]
  },
  {
   "cell_type": "code",
   "execution_count": 110,
   "id": "88cce2e7-0934-4740-ba06-83e97a2dabe0",
   "metadata": {},
   "outputs": [
    {
     "data": {
      "text/plain": [
       "36"
      ]
     },
     "execution_count": 110,
     "metadata": {},
     "output_type": "execute_result"
    }
   ],
   "source": [
    "out = f3(y=2, x=6)\n",
    "out"
   ]
  },
  {
   "cell_type": "markdown",
   "id": "b5079f5d-640c-4eb2-8c29-30a81736c2fa",
   "metadata": {},
   "source": [
    "> Random notes on function calls"
   ]
  },
  {
   "cell_type": "code",
   "execution_count": 16,
   "id": "13a5d77a-5d69-4be6-aa75-1bf1d75d1479",
   "metadata": {},
   "outputs": [
    {
     "data": {
      "text/plain": [
       "3"
      ]
     },
     "execution_count": 16,
     "metadata": {},
     "output_type": "execute_result"
    }
   ],
   "source": [
    "# Function definition\n",
    "def add(x,y):\n",
    "    return (x+y)\n",
    "\n",
    "# Use \n",
    "x,y = 1,2\n",
    "add(x,y)\n",
    "\n",
    "# Use with arguments in a list\n",
    "l = [1,2]\n",
    "add(*l) # This only works with positional numbers \n",
    "\n",
    "# Use with arguments in dictionary\n",
    "d = {\"x\":1,\"y\":2}\n",
    "add(**d)"
   ]
  },
  {
   "cell_type": "code",
   "execution_count": 17,
   "id": "8657ff08-3589-464f-afa9-5aaf6b00265d",
   "metadata": {},
   "outputs": [
    {
     "data": {
      "text/plain": [
       "7"
      ]
     },
     "execution_count": 17,
     "metadata": {},
     "output_type": "execute_result"
    }
   ],
   "source": [
    "l = [3]\n",
    "d = {\"y\":4}\n",
    "add(*l,**d)"
   ]
  },
  {
   "cell_type": "code",
   "execution_count": 19,
   "id": "b0e6263e-3cd0-47cb-bfd6-cb060ae9d7a8",
   "metadata": {},
   "outputs": [
    {
     "data": {
      "text/plain": [
       "16"
      ]
     },
     "execution_count": 19,
     "metadata": {},
     "output_type": "execute_result"
    }
   ],
   "source": [
    "# lambda functions with one argument\n",
    "p = lambda x:x**2 # declaration of a function without calling def. Important, do not have a name. It's a inline function.\n",
    "p(4)"
   ]
  },
  {
   "cell_type": "code",
   "execution_count": 20,
   "id": "28b85141-3a6f-483a-9e75-1f8ee783b725",
   "metadata": {},
   "outputs": [
    {
     "data": {
      "text/plain": [
       "4096"
      ]
     },
     "execution_count": 20,
     "metadata": {},
     "output_type": "execute_result"
    }
   ],
   "source": [
    "# lamda function with more than one arguments\n",
    "p = lambda x,y:x**y\n",
    "p(4,6)"
   ]
  },
  {
   "cell_type": "markdown",
   "id": "6c577384-650f-4232-85f1-9a96e1ff3466",
   "metadata": {},
   "source": [
    "# Methods "
   ]
  },
  {
   "cell_type": "markdown",
   "id": "b0216a07-76d1-4c74-b3d9-08e38f03b81f",
   "metadata": {},
   "source": [
    "## Map"
   ]
  },
  {
   "cell_type": "code",
   "execution_count": null,
   "id": "7db40200-eb0d-42be-a3b2-48caf2370132",
   "metadata": {},
   "outputs": [
    {
     "data": {
      "text/plain": [
       "[2, 3, 4, 5, 6, 7]"
      ]
     },
     "execution_count": 5,
     "metadata": {},
     "output_type": "execute_result"
    }
   ],
   "source": [
    "# map method \n",
    "l = [1,2,3,4,5,6]\n",
    "def add(x):\n",
    "    return(x+1)\n",
    "\n",
    "m = map(add,l)\n",
    "list(m)"
   ]
  },
  {
   "cell_type": "code",
   "execution_count": 7,
   "id": "a3ed2ffa-83b9-402e-b58f-2ceea6fadc8b",
   "metadata": {
    "tags": []
   },
   "outputs": [
    {
     "data": {
      "text/plain": [
       "[2, 3, 4, 5, 6, 7]"
      ]
     },
     "execution_count": 7,
     "metadata": {},
     "output_type": "execute_result"
    }
   ],
   "source": [
    "# map method with lambda\n",
    "l = [1,2,3,4,5,6]\n",
    "m = map(lambda x:x+1, l)\n",
    "list(m)"
   ]
  },
  {
   "cell_type": "markdown",
   "id": "19e343f5-60b1-439c-8c8f-fa764e4944d8",
   "metadata": {},
   "source": [
    "> <span style=\"color:red\">**Important!**</span> Map it's a single time use object"
   ]
  },
  {
   "cell_type": "code",
   "execution_count": 9,
   "id": "8c29f4b1-df0b-4bda-b9b1-69735d08d385",
   "metadata": {
    "tags": []
   },
   "outputs": [
    {
     "data": {
      "text/plain": [
       "map"
      ]
     },
     "execution_count": 9,
     "metadata": {},
     "output_type": "execute_result"
    }
   ],
   "source": [
    "m = map(lambda x:x+1, l)\n",
    "type(m)"
   ]
  },
  {
   "cell_type": "code",
   "execution_count": 10,
   "id": "f17522c5-7cd2-4021-992a-2fd63e639c2e",
   "metadata": {
    "tags": []
   },
   "outputs": [
    {
     "data": {
      "text/plain": [
       "map"
      ]
     },
     "execution_count": 10,
     "metadata": {},
     "output_type": "execute_result"
    }
   ],
   "source": [
    "list(m)\n",
    "type(m)"
   ]
  },
  {
   "cell_type": "code",
   "execution_count": 14,
   "id": "0ca22e3d-3c73-4b13-b494-d6ae6ca1147d",
   "metadata": {
    "tags": []
   },
   "outputs": [
    {
     "data": {
      "text/plain": [
       "[]"
      ]
     },
     "execution_count": 14,
     "metadata": {},
     "output_type": "execute_result"
    }
   ],
   "source": [
    "list(m)"
   ]
  },
  {
   "cell_type": "code",
   "execution_count": 15,
   "id": "f5cd6838-ef5c-4f01-bb33-a65f3ad553f4",
   "metadata": {
    "tags": []
   },
   "outputs": [
    {
     "data": {
      "text/plain": [
       "2"
      ]
     },
     "execution_count": 15,
     "metadata": {},
     "output_type": "execute_result"
    }
   ],
   "source": [
    "m = map(lambda x:x+1, l)\n",
    "next(m) # With next we can use m more than one time"
   ]
  },
  {
   "cell_type": "code",
   "execution_count": 16,
   "id": "c89cce1e-3391-4909-8bd3-e03fae221c60",
   "metadata": {
    "tags": []
   },
   "outputs": [
    {
     "data": {
      "text/plain": [
       "3"
      ]
     },
     "execution_count": 16,
     "metadata": {},
     "output_type": "execute_result"
    }
   ],
   "source": [
    "next(m)"
   ]
  },
  {
   "cell_type": "code",
   "execution_count": 21,
   "id": "50a7b9f0-56d6-429b-9de3-b68c832a2187",
   "metadata": {
    "tags": []
   },
   "outputs": [
    {
     "ename": "StopIteration",
     "evalue": "",
     "output_type": "error",
     "traceback": [
      "\u001b[0;31m---------------------------------------------------------------------------\u001b[0m",
      "\u001b[0;31mStopIteration\u001b[0m                             Traceback (most recent call last)",
      "Cell \u001b[0;32mIn[21], line 1\u001b[0m\n\u001b[0;32m----> 1\u001b[0m \u001b[38;5;28;43mnext\u001b[39;49m\u001b[43m(\u001b[49m\u001b[43mm\u001b[49m\u001b[43m)\u001b[49m\n",
      "\u001b[0;31mStopIteration\u001b[0m: "
     ]
    }
   ],
   "source": [
    "next(m)"
   ]
  },
  {
   "cell_type": "markdown",
   "id": "e445cc54-e585-4e9f-ab6d-ea4709ffba63",
   "metadata": {},
   "source": [
    "## Reduce"
   ]
  },
  {
   "cell_type": "code",
   "execution_count": 26,
   "id": "63a81629-3d78-491d-8423-e777eb8d1efb",
   "metadata": {
    "tags": []
   },
   "outputs": [
    {
     "data": {
      "text/plain": [
       "15"
      ]
     },
     "execution_count": 26,
     "metadata": {},
     "output_type": "execute_result"
    }
   ],
   "source": [
    "from functools import reduce\n",
    "l = [1,2,3,4,5]\n",
    "reduce(lambda x,y:x+y,l) # 1. 1+2=3  2. 3+3=6  3. 6+4=10  4. 10+5=15"
   ]
  },
  {
   "cell_type": "markdown",
   "id": "bc5239db-3d3a-4aa2-9af7-d32d706f8aaa",
   "metadata": {},
   "source": [
    "## Zip"
   ]
  },
  {
   "cell_type": "code",
   "execution_count": 28,
   "id": "724d2407-5c07-4d6f-9450-fdc3981bc4a0",
   "metadata": {
    "tags": []
   },
   "outputs": [
    {
     "data": {
      "text/plain": [
       "[(1, 'a'), (2, 'b'), (3, 'c')]"
      ]
     },
     "execution_count": 28,
     "metadata": {},
     "output_type": "execute_result"
    }
   ],
   "source": [
    "a = [1,2,3]\n",
    "b = [\"a\",\"b\",\"c\"]\n",
    "\n",
    "list(zip(a,b))"
   ]
  },
  {
   "cell_type": "markdown",
   "id": "6e5715e5-55d2-45f0-b853-f9858474665c",
   "metadata": {},
   "source": [
    "# Generators  "
   ]
  },
  {
   "cell_type": "markdown",
   "id": "ea0f6464-a229-4171-95e2-70a9907a9a10",
   "metadata": {},
   "source": [
    "It is like a function, but with generators we can use the equivalen of the return every number of times that we want"
   ]
  },
  {
   "cell_type": "code",
   "execution_count": 38,
   "id": "15dcfb13-e66a-42a1-873e-a4d313817b33",
   "metadata": {
    "tags": []
   },
   "outputs": [
    {
     "data": {
      "text/plain": [
       "function"
      ]
     },
     "execution_count": 38,
     "metadata": {},
     "output_type": "execute_result"
    }
   ],
   "source": [
    "def fungen(): \n",
    "    yield(\"one\") # instead of return\n",
    "    yield(\"two\")\n",
    "    \n",
    "type(fungen)"
   ]
  },
  {
   "cell_type": "code",
   "execution_count": 39,
   "id": "2aaa84b7-bade-4641-a405-62716c7ab489",
   "metadata": {
    "tags": []
   },
   "outputs": [
    {
     "data": {
      "text/plain": [
       "generator"
      ]
     },
     "execution_count": 39,
     "metadata": {},
     "output_type": "execute_result"
    }
   ],
   "source": [
    "g = fungen()\n",
    "type(g)"
   ]
  },
  {
   "cell_type": "code",
   "execution_count": 40,
   "id": "39cb96bf-06a4-415d-8565-497bc4e0ce04",
   "metadata": {
    "tags": []
   },
   "outputs": [
    {
     "data": {
      "text/plain": [
       "'one'"
      ]
     },
     "execution_count": 40,
     "metadata": {},
     "output_type": "execute_result"
    }
   ],
   "source": [
    "next(g)"
   ]
  },
  {
   "cell_type": "code",
   "execution_count": 41,
   "id": "aa933463-4d0b-4a05-b72d-16fac5db7129",
   "metadata": {
    "tags": []
   },
   "outputs": [
    {
     "data": {
      "text/plain": [
       "'two'"
      ]
     },
     "execution_count": 41,
     "metadata": {},
     "output_type": "execute_result"
    }
   ],
   "source": [
    "next(g)"
   ]
  },
  {
   "cell_type": "code",
   "execution_count": 42,
   "id": "db1599fe-06ee-468e-a435-2d5ec3ad360c",
   "metadata": {
    "tags": []
   },
   "outputs": [
    {
     "ename": "StopIteration",
     "evalue": "",
     "output_type": "error",
     "traceback": [
      "\u001b[0;31m---------------------------------------------------------------------------\u001b[0m",
      "\u001b[0;31mStopIteration\u001b[0m                             Traceback (most recent call last)",
      "Cell \u001b[0;32mIn[42], line 1\u001b[0m\n\u001b[0;32m----> 1\u001b[0m \u001b[38;5;28;43mnext\u001b[39;49m\u001b[43m(\u001b[49m\u001b[43mg\u001b[49m\u001b[43m)\u001b[49m\n",
      "\u001b[0;31mStopIteration\u001b[0m: "
     ]
    }
   ],
   "source": [
    "next(g)"
   ]
  },
  {
   "cell_type": "code",
   "execution_count": 43,
   "id": "a20032eb-6aca-4ebd-b87a-27a13649b4f4",
   "metadata": {
    "tags": []
   },
   "outputs": [
    {
     "data": {
      "text/plain": [
       "['one', 'two']"
      ]
     },
     "execution_count": 43,
     "metadata": {},
     "output_type": "execute_result"
    }
   ],
   "source": [
    "g2 = fungen()\n",
    "list(g2)"
   ]
  },
  {
   "cell_type": "code",
   "execution_count": 45,
   "id": "848dd4d1-9136-487b-9637-53461076e142",
   "metadata": {
    "tags": []
   },
   "outputs": [
    {
     "data": {
      "text/plain": [
       "[]"
      ]
     },
     "execution_count": 45,
     "metadata": {},
     "output_type": "execute_result"
    }
   ],
   "source": [
    "list(g2)"
   ]
  },
  {
   "cell_type": "code",
   "execution_count": 47,
   "id": "f668e0a7-e603-4bac-b6eb-d2a5a83baddf",
   "metadata": {
    "tags": []
   },
   "outputs": [],
   "source": [
    "def counter():\n",
    "    i = 0\n",
    "    while True:\n",
    "        yield(i)\n",
    "        i += 1"
   ]
  },
  {
   "cell_type": "code",
   "execution_count": 49,
   "id": "2828b305-92c4-4c9d-8c4c-34e3f96483af",
   "metadata": {
    "tags": []
   },
   "outputs": [],
   "source": [
    "c1 = counter()\n",
    "c2 = counter()"
   ]
  },
  {
   "cell_type": "code",
   "execution_count": 54,
   "id": "2235bc69-43e9-477d-8667-895337464c38",
   "metadata": {
    "tags": []
   },
   "outputs": [
    {
     "data": {
      "text/plain": [
       "4"
      ]
     },
     "execution_count": 54,
     "metadata": {},
     "output_type": "execute_result"
    }
   ],
   "source": [
    "next(c1) # We can call infinity times"
   ]
  },
  {
   "cell_type": "markdown",
   "id": "1733a777-2003-4948-9cb2-f21e61a6e71b",
   "metadata": {},
   "source": [
    "# Coroutines"
   ]
  },
  {
   "cell_type": "markdown",
   "id": "2949f42a-ccce-4f92-bf22-9965d199234b",
   "metadata": {},
   "source": [
    "- generators in which yield is a values"
   ]
  },
  {
   "cell_type": "code",
   "execution_count": 65,
   "id": "a7675754-1331-47b9-8477-3d6a63e5300d",
   "metadata": {
    "tags": []
   },
   "outputs": [
    {
     "data": {
      "text/plain": [
       "generator"
      ]
     },
     "execution_count": 65,
     "metadata": {},
     "output_type": "execute_result"
    }
   ],
   "source": [
    "def sendmesomthing():\n",
    "    print(\"Coroutines init\")\n",
    "    while True:\n",
    "        g = (yield)\n",
    "        print(g)\n",
    "s = sendmesomthing()\n",
    "type(s)"
   ]
  },
  {
   "cell_type": "code",
   "execution_count": 68,
   "id": "b2eefdce-1a67-452e-8a1c-354c7a5a1aee",
   "metadata": {
    "tags": []
   },
   "outputs": [
    {
     "name": "stdout",
     "output_type": "stream",
     "text": [
      "Coroutines init\n",
      "hello\n"
     ]
    }
   ],
   "source": [
    "next(s) # It is important put this method before we use the function\n",
    "s.send(\"hello\")"
   ]
  },
  {
   "cell_type": "code",
   "execution_count": 74,
   "id": "15ec1e9c-e8ca-4f83-a4ea-75209b250e46",
   "metadata": {
    "tags": []
   },
   "outputs": [
    {
     "name": "stdout",
     "output_type": "stream",
     "text": [
      "world\n"
     ]
    }
   ],
   "source": [
    "s.send(\"world\") # If we use this line first, we get an error because we should advanced to the code to the yield line using next"
   ]
  },
  {
   "cell_type": "code",
   "execution_count": 70,
   "id": "e932961a-c233-44a1-af70-4d1f7b499762",
   "metadata": {
    "tags": []
   },
   "outputs": [
    {
     "name": "stdout",
     "output_type": "stream",
     "text": [
      "\n"
     ]
    }
   ],
   "source": [
    "def grep(pattern):\n",
    "    print(\"\")\n",
    "    while True:\n",
    "        g = (yield)\n",
    "        if pattern in g:\n",
    "            print(g)\n",
    "\n",
    "s1 = grep(\"bat\")\n",
    "next(s1)\n",
    "\n",
    "s1.send(\"this is a cat\")"
   ]
  },
  {
   "cell_type": "code",
   "execution_count": 72,
   "id": "51524589-5380-4dd8-b0c5-a4b9a7e5877c",
   "metadata": {
    "tags": []
   },
   "outputs": [
    {
     "name": "stdout",
     "output_type": "stream",
     "text": [
      "this is a bat\n"
     ]
    }
   ],
   "source": [
    "s1.send(\"this is a bat\")"
   ]
  },
  {
   "cell_type": "code",
   "execution_count": 73,
   "id": "ee92e41a-d0a0-4728-b273-b61f3580e344",
   "metadata": {
    "tags": []
   },
   "outputs": [],
   "source": [
    "s1.close()"
   ]
  },
  {
   "cell_type": "markdown",
   "id": "0439a2d9-fc2a-4f57-b52d-ea4ecc091a26",
   "metadata": {},
   "source": [
    "# Decorators"
   ]
  },
  {
   "cell_type": "markdown",
   "id": "aa965a86-f873-421e-acba-8e1b3bbebc65",
   "metadata": {},
   "source": [
    "A decorators is a function \n",
    "- Input is a function \n",
    "- Output is a function"
   ]
  },
  {
   "cell_type": "code",
   "execution_count": 75,
   "id": "ac50258d-a3de-492f-82c6-031b56bbe088",
   "metadata": {
    "tags": []
   },
   "outputs": [
    {
     "data": {
      "text/plain": [
       "2"
      ]
     },
     "execution_count": 75,
     "metadata": {},
     "output_type": "execute_result"
    }
   ],
   "source": [
    "def deco(f):\n",
    "    return(f)\n",
    "\n",
    "outf = deco(abs)\n",
    "outf(-2)"
   ]
  },
  {
   "cell_type": "code",
   "execution_count": 84,
   "id": "820d1dbe-3177-4b23-bd48-a4ef759e4e41",
   "metadata": {
    "tags": []
   },
   "outputs": [],
   "source": [
    "def deco(f): # f will be the decorated function\n",
    "    def outf(x): # impostor function\n",
    "                # x are the arguments of the decorated function\n",
    "        output = f(x)\n",
    "        print(\"input is\",x)\n",
    "        print(\"output is\", output)\n",
    "        return(output) # output is the output value, of the decorated functions\n",
    "    return(outf) # returning the impostor function\n"
   ]
  },
  {
   "cell_type": "code",
   "execution_count": 85,
   "id": "a5d8db45-8792-464a-85b7-46f0a50c7543",
   "metadata": {
    "tags": []
   },
   "outputs": [
    {
     "name": "stdout",
     "output_type": "stream",
     "text": [
      "input is 3\n",
      "output is 4\n",
      "input is 3\n",
      "output is 4\n"
     ]
    },
    {
     "data": {
      "text/plain": [
       "4"
      ]
     },
     "execution_count": 85,
     "metadata": {},
     "output_type": "execute_result"
    }
   ],
   "source": [
    "newf = deco(add)\n",
    "newf(3)"
   ]
  },
  {
   "cell_type": "code",
   "execution_count": 86,
   "id": "318ac7aa-31d1-4521-8dae-e089c9a83439",
   "metadata": {
    "tags": []
   },
   "outputs": [
    {
     "name": "stdout",
     "output_type": "stream",
     "text": [
      "input is 3\n",
      "output is 4\n"
     ]
    },
    {
     "data": {
      "text/plain": [
       "4"
      ]
     },
     "execution_count": 86,
     "metadata": {},
     "output_type": "execute_result"
    }
   ],
   "source": [
    "add(3)"
   ]
  },
  {
   "cell_type": "markdown",
   "id": "fb4c9b24-db04-416f-95aa-4affba292b1a",
   "metadata": {},
   "source": [
    "Modifing deco function "
   ]
  },
  {
   "cell_type": "code",
   "execution_count": 87,
   "id": "a799069f-30a4-4a34-ba0e-0d61d97dbba6",
   "metadata": {
    "tags": []
   },
   "outputs": [
    {
     "name": "stdout",
     "output_type": "stream",
     "text": [
      "input is 3\n",
      "output is 4\n"
     ]
    },
    {
     "data": {
      "text/plain": [
       "4"
      ]
     },
     "execution_count": 87,
     "metadata": {},
     "output_type": "execute_result"
    }
   ],
   "source": [
    "@deco \n",
    "def add(x):\n",
    "    return(x+1)\n",
    "\n",
    "add(3)"
   ]
  },
  {
   "cell_type": "markdown",
   "id": "7abb6fed-eb19-4c14-836f-76d86fc83797",
   "metadata": {},
   "source": [
    "Rosenbrock function\n",
    "\n",
    "$$\n",
    "f(x,y) = (a-x)²+b(y-x²)²\n",
    "$$\n",
    "this shows a minimu at (a, a²)\n",
    "\n",
    "To-do:\n",
    "- Code function rb(xi)\n",
    "- xi = (1,2)\n",
    "- For next week: Tracing the optimization: build a decorator to trace the work of the optimization alforithm just printing out the x,y, and reosenbrock function value, and counting the number of evaluations."
   ]
  },
  {
   "cell_type": "code",
   "execution_count": 89,
   "id": "28397d65-a5ef-407c-bbc4-d347dfe54d5a",
   "metadata": {
    "tags": []
   },
   "outputs": [
    {
     "data": {
      "text/plain": [
       "104.0"
      ]
     },
     "execution_count": 89,
     "metadata": {},
     "output_type": "execute_result"
    }
   ],
   "source": [
    "def rb(xi):\n",
    "    x,y = xi\n",
    "    return ((5-x)**2 + 4.*(y-x**2)**2)\n",
    "\n",
    "rb ((3.,4.))"
   ]
  },
  {
   "cell_type": "code",
   "execution_count": 90,
   "id": "fad53d76-d56b-4c33-80b0-8b2a4830db03",
   "metadata": {
    "tags": []
   },
   "outputs": [
    {
     "data": {
      "text/plain": [
       "      fun: 4.690653511384729e-12\n",
       " hess_inv: array([[ 0.49982585,  4.99815263],\n",
       "       [ 4.99815263, 50.10542239]])\n",
       "      jac: array([ 7.06378665e-05, -6.67887599e-06])\n",
       "  message: 'Desired error not necessarily achieved due to precision loss.'\n",
       "     nfev: 131\n",
       "      nit: 13\n",
       "     njev: 40\n",
       "   status: 2\n",
       "  success: False\n",
       "        x: array([ 4.99999864, 24.99998555])"
      ]
     },
     "execution_count": 90,
     "metadata": {},
     "output_type": "execute_result"
    }
   ],
   "source": [
    "from scipy.optimize import minimize\n",
    "x0 = (4.0,3.0)\n",
    "minimize(rb,x0)"
   ]
  },
  {
   "cell_type": "markdown",
   "id": "cc126d54-e4fc-4ba0-8a67-03f83b07b5a1",
   "metadata": {},
   "source": [
    "# Exercises"
   ]
  },
  {
   "cell_type": "markdown",
   "id": "552ccc99-1548-4b9c-8e19-1c747295845f",
   "metadata": {},
   "source": [
    "> <span style=\"color:green\">**Exercise 1**.</span> Create a list A, creat a list B that contains A, copy the list B into C, modify A and check C values"
   ]
  },
  {
   "cell_type": "code",
   "execution_count": 27,
   "id": "ad67fde1-c9a0-42ce-8c4f-3896f463de55",
   "metadata": {},
   "outputs": [
    {
     "data": {
      "text/plain": [
       "[5, 6, 7, 8, [1, 2, 3, 1000]]"
      ]
     },
     "execution_count": 27,
     "metadata": {},
     "output_type": "execute_result"
    }
   ],
   "source": [
    "A = [1,2,3,4]\n",
    "B = [5,6,7,8,A]\n",
    "C = B # It's a references for the  object\n",
    "A[-1] = 1000\n",
    "C "
   ]
  },
  {
   "cell_type": "markdown",
   "id": "f5ab80fb-51ff-4b09-ad0d-39c934c735de",
   "metadata": {},
   "source": [
    "> <span style=\"color:green\">**Exercise 2.**</span> Compute the decimals of Pi using the Wallis formula: $ \\pi = 2 \\cdot \\prod_{n=1}^{\\infty} \\frac{4n^2}{4n^2 - 1} $"
   ]
  },
  {
   "cell_type": "code",
   "execution_count": 17,
   "id": "9a9a32a2-08b7-45cf-9d3b-0b79f51d4ec9",
   "metadata": {},
   "outputs": [
    {
     "name": "stdout",
     "output_type": "stream",
     "text": [
      "Pi: 3.1408069608284657\n"
     ]
    }
   ],
   "source": [
    "N = 1000\n",
    "Pi = 2.0\n",
    "for i in range(1,N):\n",
    "    Pi *= (4*i**2/(4*i**2-1))\n",
    "print(\"Pi:\", Pi)"
   ]
  },
  {
   "cell_type": "markdown",
   "id": "3b7d652c-0473-4e47-908b-96740d46acb9",
   "metadata": {},
   "source": [
    "> <span style=\"color:green\">**Exercise 3.**</span> Compute the decimals of Pi using the Wallis formula: $ \\pi = 2 \\cdot \\prod_{n=1}^{\\infty} \\frac{4n^2}{4n^2 - 1} $ without a for"
   ]
  },
  {
   "cell_type": "code",
   "execution_count": 32,
   "id": "57e9d038-2a56-452b-a567-3fd4e96f5c9e",
   "metadata": {
    "tags": []
   },
   "outputs": [
    {
     "data": {
      "text/plain": [
       "3.1408069608284657"
      ]
     },
     "execution_count": 32,
     "metadata": {},
     "output_type": "execute_result"
    }
   ],
   "source": [
    "from functools import reduce\n",
    "\n",
    "def pi(N=100):\n",
    "    M= range(1,N)\n",
    "    \n",
    "    P = map(lambda i: 4.*i**2/(4.*i**2-1),M)\n",
    "    R = reduce(lambda j,k: j*k, P)\n",
    "    return (2*R)\n",
    "\n",
    "pi(1000)"
   ]
  },
  {
   "cell_type": "markdown",
   "id": "2cd5a27b-bb5e-4c1b-bb29-009e12a62061",
   "metadata": {},
   "source": [
    "> <span style=\"color:green\">**Exercise 4.**</span> Compute the decimals of Pi using the Wallis formula and generators: "
   ]
  },
  {
   "cell_type": "code",
   "execution_count": null,
   "id": "c11d7b76-456e-417a-8b2b-437a806ae173",
   "metadata": {},
   "outputs": [],
   "source": [
    "def fungen(): \n",
    "    yield(\"one\") # instead of return\n",
    "    yield(\"two\")"
   ]
  }
 ],
 "metadata": {
  "kernelspec": {
   "display_name": "Python 3 (ipykernel)",
   "language": "python",
   "name": "python3"
  },
  "language_info": {
   "codemirror_mode": {
    "name": "ipython",
    "version": 3
   },
   "file_extension": ".py",
   "mimetype": "text/x-python",
   "name": "python",
   "nbconvert_exporter": "python",
   "pygments_lexer": "ipython3",
   "version": "3.10.12"
  },
  "toc-autonumbering": true,
  "toc-showcode": false,
  "toc-showmarkdowntxt": false,
  "toc-showtags": false
 },
 "nbformat": 4,
 "nbformat_minor": 5
}
