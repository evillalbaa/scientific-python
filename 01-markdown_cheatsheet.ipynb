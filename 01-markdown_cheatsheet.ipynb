{
 "cells": [
  {
   "cell_type": "markdown",
   "id": "deca084c-352a-4c8d-a315-c63bf3869ec6",
   "metadata": {
    "tags": []
   },
   "source": [
    "# **Markdown CheatSheet**"
   ]
  },
  {
   "cell_type": "markdown",
   "id": "73025ebc-9fe2-4b37-9153-efc04509c5e7",
   "metadata": {
    "tags": []
   },
   "source": [
    "## Table of Contents"
   ]
  },
  {
   "cell_type": "markdown",
   "id": "61c6dc67-ff38-45b0-9bb4-962dddf12dbc",
   "metadata": {
    "tags": []
   },
   "source": [
    "To generate a table of contents (TOC) in Markdown, you can use the `toc` extension. Here's how to install it:\n",
    "\n",
    "```bash\n",
    "!jupyter labextension install @jupyterlab/toc\n",
    "```\n",
    "\n",
    "After installing the extension, the TOC icon will appear in the sidebar of your JupyterLab interface. Click on the TOC icon to generate and display the table of contents for your Markdown document.\n",
    "\n",
    "---"
   ]
  },
  {
   "cell_type": "markdown",
   "id": "139e7b9b-0d4c-4289-b94f-336c3d096187",
   "metadata": {
    "tags": []
   },
   "source": [
    "## Headers"
   ]
  },
  {
   "cell_type": "markdown",
   "id": "d9476f3a-ce88-4938-8525-2d71ef170bbf",
   "metadata": {
    "tags": []
   },
   "source": [
    "### Header 3\n",
    "\n",
    "#### Header 4\n",
    "\n",
    "##### Header 5\n",
    "\n",
    "---"
   ]
  },
  {
   "cell_type": "markdown",
   "id": "a34f6046-a824-4bde-9f95-9849ad4da343",
   "metadata": {
    "tags": []
   },
   "source": [
    "## Text Formatting"
   ]
  },
  {
   "cell_type": "markdown",
   "id": "10a0a49d-2b2d-4ce6-9adf-df8069764994",
   "metadata": {
    "tags": []
   },
   "source": [
    "**Bold Text**\n",
    "\n",
    "*Italic Text*\n",
    "\n",
    "~~Strikethrough Text~~\n",
    "\n",
    "`Monospace Text`\n",
    "\n",
    "---"
   ]
  },
  {
   "cell_type": "markdown",
   "id": "ddeffe8b-aa0f-41ce-a5fe-fdcd667ad110",
   "metadata": {
    "tags": []
   },
   "source": [
    "## Lists"
   ]
  },
  {
   "cell_type": "markdown",
   "id": "a1e9de37-70c7-441b-8b47-45696737e1df",
   "metadata": {
    "tags": []
   },
   "source": [
    "### Unordered List\n",
    "\n",
    "- Item 1\n",
    "- Item 2\n",
    "  - Subitem 2.1\n",
    "  - Subitem 2.2\n",
    "    - Subsubitem 2.2.1\n",
    "- Item 3"
   ]
  },
  {
   "cell_type": "markdown",
   "id": "50b3970a-89ad-41fc-9e77-6e9ed91126fd",
   "metadata": {
    "tags": []
   },
   "source": [
    "### Ordered List\n",
    "\n",
    "1. First Item\n",
    "2. Second Item\n",
    "3. Third Item\n",
    "   - Subitem 3.1\n",
    "   - Subitem 3.2\n",
    "4. Fourth Item\n",
    "\n",
    "---"
   ]
  },
  {
   "cell_type": "markdown",
   "id": "0891a503-04cd-492e-8cc8-9d960be504b6",
   "metadata": {
    "tags": []
   },
   "source": [
    "## Links and Images"
   ]
  },
  {
   "cell_type": "markdown",
   "id": "46a1e4c3-a232-4a77-a3ef-784859850a7c",
   "metadata": {
    "tags": []
   },
   "source": [
    "[Link to Google](https://www.google.com)\n",
    "\n",
    "![Python Logo](https://www.python.org/static/img/python-logo.png)\n",
    "\n",
    "---"
   ]
  },
  {
   "cell_type": "markdown",
   "id": "6930aac8-3ca2-4d0d-9193-d18464f648b8",
   "metadata": {
    "tags": []
   },
   "source": [
    "## Blockquotes"
   ]
  },
  {
   "cell_type": "markdown",
   "id": "4ea6b57e-8b11-4f2d-9e38-7b8fc66d9ff7",
   "metadata": {
    "tags": []
   },
   "source": [
    "> This is a blockquote.\n",
    ">\n",
    "> It can span multiple lines.\n",
    "\n",
    "---"
   ]
  },
  {
   "cell_type": "markdown",
   "id": "5e16ecbe-61c1-4b9c-a7df-7da373cbdf2e",
   "metadata": {
    "tags": []
   },
   "source": [
    "## Code Blocks"
   ]
  },
  {
   "cell_type": "markdown",
   "id": "7de7e22b-24fe-445d-a1e7-97a4f1023272",
   "metadata": {
    "tags": []
   },
   "source": [
    "```python\n",
    "# Python Code Block\n",
    "def greet(name):\n",
    "    print(\"Hello, \" + name + \"!\")\n",
    "```\n",
    "---"
   ]
  },
  {
   "cell_type": "markdown",
   "id": "2816de8f-257e-47cb-8a9b-1d55f149cd75",
   "metadata": {
    "tags": []
   },
   "source": [
    "## Tables"
   ]
  },
  {
   "cell_type": "markdown",
   "id": "f062566d-0550-435b-8f85-98292efc121f",
   "metadata": {
    "tags": []
   },
   "source": [
    "| Name   | Age | Gender |\n",
    "|--------|-----|--------|\n",
    "| Alice  | 30  | Female |\n",
    "| Bob    | 25  | Male   |\n",
    "| Charlie| 35  | Male   |\n",
    "\n",
    "---"
   ]
  },
  {
   "cell_type": "markdown",
   "id": "a9fe4c66-b956-49c6-a57a-0b966935aad6",
   "metadata": {},
   "source": [
    "## Math Equations"
   ]
  },
  {
   "cell_type": "markdown",
   "id": "7aeac04f-e5df-48ef-aabb-86b5ddc34791",
   "metadata": {},
   "source": [
    "### Inline Math: $E = mc^2$\n",
    "\n",
    "### Display Math:\n",
    "\n",
    "$$\n",
    "\\int_{-\\infty}^{\\infty} e^{-x^2} \\, dx = \\sqrt{\\pi}\n",
    "$$\n",
    "\n",
    "---"
   ]
  },
  {
   "cell_type": "markdown",
   "id": "2a502567-669c-46d3-9b59-2c7590b51960",
   "metadata": {},
   "source": [
    "## Task Lists"
   ]
  },
  {
   "cell_type": "markdown",
   "id": "f9a3ceee-2ee1-4d58-b579-8de514e66fc5",
   "metadata": {},
   "source": [
    "- [x] Task 1\n",
    "- [ ] Task 2\n",
    "- [ ] Task 3\n",
    "\n",
    "---"
   ]
  },
  {
   "cell_type": "markdown",
   "id": "77f1b57f-a25a-4475-8c29-da39751fd0fc",
   "metadata": {
    "tags": []
   },
   "source": [
    "## Superscript and Subscript"
   ]
  },
  {
   "cell_type": "markdown",
   "id": "921fbab9-467c-4c76-ae86-63e0a41d8d3b",
   "metadata": {},
   "source": [
    "H<sub>2</sub>O is water.\n",
    "\n",
    "x<sup>2</sup> + y<sup>2</sup>  = r<sup>2</sup> "
   ]
  }
 ],
 "metadata": {
  "kernelspec": {
   "display_name": "Python 3 (ipykernel)",
   "language": "python",
   "name": "python3"
  },
  "language_info": {
   "codemirror_mode": {
    "name": "ipython",
    "version": 3
   },
   "file_extension": ".py",
   "mimetype": "text/x-python",
   "name": "python",
   "nbconvert_exporter": "python",
   "pygments_lexer": "ipython3",
   "version": "3.10.12"
  },
  "toc-autonumbering": false,
  "toc-showcode": true,
  "toc-showmarkdowntxt": false,
  "toc-showtags": false
 },
 "nbformat": 4,
 "nbformat_minor": 5
}
