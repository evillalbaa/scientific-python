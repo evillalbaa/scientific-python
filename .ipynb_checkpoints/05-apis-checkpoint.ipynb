{
 "cells": [
  {
   "cell_type": "markdown",
   "id": "317db3bb-6535-4a4c-a8c4-5d51e211ed30",
   "metadata": {},
   "source": [
    "# APIs"
   ]
  },
  {
   "cell_type": "markdown",
   "id": "9182671b-5938-4490-a68a-b11c9b47d992",
   "metadata": {},
   "source": [
    "**APIs** (Application Programming Interfaces), are sets of rules and protocols that allow different software applications to communicate with each other. \n",
    "\n",
    "They define the methods and data formats that applications can use to request and exchange information.\n",
    "\n",
    "<div style=\"text-align:center;\">\n",
    "  <img src=\"images/api_arquitecture.png\" alt=\"API\" style=\"width:45%;\">\n",
    "</div>\n",
    "\n",
    "**Key Concepts:**\n",
    "\n",
    "- **Endpoint:** An endpoint is a specific URL or URI that represents a particular resource or functionality provided by a server.\n",
    "- **HTTP Methods:** APIs typically use HTTP methods like GET, POST, PUT, and DELETE to perform various actions on resources.\n",
    "\n",
    "- **Request and Response:** When you make a request to an API endpoint, you send data (parameters or payloads) to the server. The server processes the request and sends back a response containing the requested data or confirmation of the action.\n",
    "\n",
    "**REST-API**\n",
    "\n",
    "**HTTP COMMANDS**\n",
    "- **Post:** Create a resource\n",
    "- **Put:** Update an entire resource\n",
    "- **Get:** Retrieve/select a resource\n",
    "- **Delate:** Delete a resource\n",
    "\n",
    "**STATUS CODE**\n",
    "- **1xx** Informational\n",
    "- **2xx** Success\n",
    "- **3xx** Redirection\n",
    "- **4xx** Client Error\n",
    "- **5xx** Server Error"
   ]
  },
  {
   "cell_type": "markdown",
   "id": "781c3bff-bd7a-48ed-8dab-84c1ad18d243",
   "metadata": {},
   "source": [
    "**Using APIs with Python:** \n",
    "\n",
    "- **Importing the requests Library:** We start by importing the requests library, which provides easy-to-use methods for sending HTTP requests.\n",
    "\n",
    "- **Sending a GET Request:** We define the URL of the API endpoint you want to access. Then, we use the requests.get() function to send a GET request to that URL.\n",
    "\n",
    "- **Handling the Response:** Once we've sent the request, you receive a response object (r in your code). We can access various properties of the response object, such as headers, status code, and content. The response content typically contains the data returned by the API in a specific format, such as JSON or XML."
   ]
  },
  {
   "cell_type": "code",
   "execution_count": 1,
   "id": "3285ff6b-b4b9-46d4-8eb6-d070dcd8ee60",
   "metadata": {
    "tags": []
   },
   "outputs": [],
   "source": [
    "import requests\n",
    "\n",
    "url = \"http://api.open-notify.org/iss-now.json\"\n",
    "\n",
    "r = requests.get(url)"
   ]
  },
  {
   "cell_type": "code",
   "execution_count": 6,
   "id": "a397290a-3464-4e6c-9092-9ef8bf848c1a",
   "metadata": {
    "tags": []
   },
   "outputs": [
    {
     "data": {
      "text/plain": [
       "{'Server': 'nginx/1.10.3', 'Date': 'Wed, 13 Mar 2024 12:53:45 GMT', 'Content-Type': 'application/json', 'Content-Length': '113', 'Connection': 'keep-alive', 'access-control-allow-origin': '*'}"
      ]
     },
     "execution_count": 6,
     "metadata": {},
     "output_type": "execute_result"
    }
   ],
   "source": [
    "r.headers"
   ]
  },
  {
   "cell_type": "code",
   "execution_count": 7,
   "id": "a19f36f1-acfb-425a-992e-0cfa5ce7beec",
   "metadata": {
    "tags": []
   },
   "outputs": [
    {
     "data": {
      "text/plain": [
       "200"
      ]
     },
     "execution_count": 7,
     "metadata": {},
     "output_type": "execute_result"
    }
   ],
   "source": [
    "r.status_code"
   ]
  },
  {
   "cell_type": "code",
   "execution_count": 5,
   "id": "80510361-a5c4-4759-a216-a7454c9c5320",
   "metadata": {
    "tags": []
   },
   "outputs": [
    {
     "data": {
      "text/plain": [
       "b'{\"message\": \"success\", \"iss_position\": {\"latitude\": \"20.4672\", \"longitude\": \"-151.9138\"}, \"timestamp\": 1710933925}'"
      ]
     },
     "execution_count": 5,
     "metadata": {},
     "output_type": "execute_result"
    }
   ],
   "source": [
    "r.content"
   ]
  },
  {
   "cell_type": "code",
   "execution_count": 2,
   "id": "8284e819-a60b-47fc-965b-82f5dcf06caf",
   "metadata": {
    "tags": []
   },
   "outputs": [
    {
     "data": {
      "text/plain": [
       "{'message': 'success',\n",
       " 'iss_position': {'latitude': '20.4672', 'longitude': '-151.9138'},\n",
       " 'timestamp': 1710933925}"
      ]
     },
     "execution_count": 2,
     "metadata": {},
     "output_type": "execute_result"
    }
   ],
   "source": [
    "m = r.json()\n",
    "m"
   ]
  },
  {
   "cell_type": "code",
   "execution_count": 3,
   "id": "53a2e911-cb18-4774-9e75-c45043d9c78b",
   "metadata": {
    "tags": []
   },
   "outputs": [
    {
     "data": {
      "text/plain": [
       "dict"
      ]
     },
     "execution_count": 3,
     "metadata": {},
     "output_type": "execute_result"
    }
   ],
   "source": [
    "type(m)"
   ]
  },
  {
   "cell_type": "code",
   "execution_count": 6,
   "id": "16a9288e-ee80-495a-8663-1c5f0709bb4e",
   "metadata": {
    "tags": []
   },
   "outputs": [
    {
     "data": {
      "text/plain": [
       "20.4672"
      ]
     },
     "execution_count": 6,
     "metadata": {},
     "output_type": "execute_result"
    }
   ],
   "source": [
    "l = m['iss_position'].values()\n",
    "float(list(l)[0])"
   ]
  },
  {
   "cell_type": "markdown",
   "id": "35a7042a-38a9-4b41-9e7a-a527705d8bc0",
   "metadata": {},
   "source": [
    "In this exercise we propose the use of geopy https://geopy.readthedocs.io in conjunction with an API, [Open Notify](http://api.open-notify.org), which contains information both about humans residing outside the earth (that is, in space ) as of the position of the International Space Station.\n",
    "\n",
    "Code a function that gets the longitude and latitude of the position over which the ISS is flying. Calculate, in an approximate way, its speed (assuming it was on the surface of the earth), obtaining two consecutive locations within a time interval, and calculating the distance between them.\n",
    "\n",
    "You can guide yourself with these two functions:\n",
    "- the `sleep` function of the `time` library, to stop for a number of seconds.\\n\",\n",
    "- the `distance` function of `geopy.distance` to calculate the distance between two locations on the globe."
   ]
  },
  {
   "cell_type": "code",
   "execution_count": 23,
   "id": "798d399b-c07e-4417-b39d-dfc8839da80e",
   "metadata": {
    "tags": []
   },
   "outputs": [
    {
     "name": "stdout",
     "output_type": "stream",
     "text": [
      "distance: 6.907822711885162\n",
      "velocity:  6.907822711885162\n"
     ]
    }
   ],
   "source": [
    "import requests\n",
    "import time\n",
    "from geopy import distance\n",
    "\n",
    "url = \"http://api.open-notify.org/iss-now.json\"\n",
    "time_seconds = 1 # Time between two location mesures\n",
    "\n",
    "location_one = requests.get(url)\n",
    "location_one = location_one.json()\n",
    "location_one = tuple(location_one['iss_position'].values())\n",
    "\n",
    "time.sleep(time_seconds)\n",
    "location_two = requests.get(url)\n",
    "location_two = location_two.json()\n",
    "location_two = tuple(location_two['iss_position'].values())\n",
    "\n",
    "distance = distance.distance(location_one, location_two).km\n",
    "velocity = distance/time_seconds\n",
    "\n",
    "print('distance:', distance)\n",
    "print('velocity: ',velocity)"
   ]
  },
  {
   "cell_type": "markdown",
   "id": "e18a3269-c22e-4db0-94de-c407826d7643",
   "metadata": {},
   "source": [
    "Create an API"
   ]
  },
  {
   "cell_type": "markdown",
   "id": "602554a1-a5d2-45a3-9e22-fad8d504b539",
   "metadata": {},
   "source": [
    "pip install uvicorn \n",
    "sudo port install py-fastapi\n",
    "python -m venv apienv\n",
    "source apienv/bin/activate\n",
    "- si ahora hacemos pip, solo lo instalará en el entrono virtual\n",
    "pip install fastapi\n",
    "pip install uvicorn \n",
    "ls apienv/bin # Vemos lo que hemos instalado\n",
    "touch sciapi.py \n",
    "- Editamos el script\n",
    "open .\n",
    "apienv/bin/uvicorn sciapi:app --reload\n",
    "\n",
    "-T2\n",
    "curl -X 'GET' 'http://127.0.0.1:8000/'\n",
    "\n",
    "-Browser\n",
    "http://127.0.0.1:8000/\n",
    "\n",
    "http://127.0.0.1:8000/docs\n",
    "swagger for document the API"
   ]
  },
  {
   "cell_type": "markdown",
   "id": "7a120f03-830d-452a-86b1-1cb90c556c70",
   "metadata": {},
   "source": [
    "ipywigets\n",
    "==="
   ]
  },
  {
   "cell_type": "code",
   "execution_count": 26,
   "id": "d4d97e56-1ecc-46f4-9118-43c90ad55c33",
   "metadata": {
    "tags": []
   },
   "outputs": [],
   "source": [
    "from ipywidgets import interact\n",
    "\n",
    "def p(x=1):\n",
    "    print(x)"
   ]
  },
  {
   "cell_type": "code",
   "execution_count": 27,
   "id": "ab9a96e1-59dd-4f4d-9e5f-cdaccc482279",
   "metadata": {
    "tags": []
   },
   "outputs": [
    {
     "name": "stdout",
     "output_type": "stream",
     "text": [
      "2\n"
     ]
    }
   ],
   "source": [
    "p(2)"
   ]
  },
  {
   "cell_type": "code",
   "execution_count": 30,
   "id": "89e5925d-e5b9-4cb3-b597-1cb9b6906421",
   "metadata": {
    "tags": []
   },
   "outputs": [
    {
     "data": {
      "application/vnd.jupyter.widget-view+json": {
       "model_id": "06a961ebb32748adb7f03b44db47c917",
       "version_major": 2,
       "version_minor": 0
      },
      "text/plain": [
       "interactive(children=(IntSlider(value=1, description='x', max=3, min=-1), Output()), _dom_classes=('widget-int…"
      ]
     },
     "metadata": {},
     "output_type": "display_data"
    }
   ],
   "source": [
    "interact(p);"
   ]
  },
  {
   "cell_type": "code",
   "execution_count": 31,
   "id": "589c7bbc-36e8-469e-baab-12bf2b50f1c0",
   "metadata": {
    "tags": []
   },
   "outputs": [
    {
     "data": {
      "application/vnd.jupyter.widget-view+json": {
       "model_id": "d4d339c630104abfb93b8d7e8a37685b",
       "version_major": 2,
       "version_minor": 0
      },
      "text/plain": [
       "interactive(children=(IntSlider(value=1, description='x', max=3, min=-1), Output()), _dom_classes=('widget-int…"
      ]
     },
     "metadata": {},
     "output_type": "display_data"
    }
   ],
   "source": [
    "@interact\n",
    "def p(x=1):\n",
    "    print(x)"
   ]
  },
  {
   "cell_type": "code",
   "execution_count": 32,
   "id": "d1d4bb44-5606-493d-97df-4421c7a0efaa",
   "metadata": {
    "tags": []
   },
   "outputs": [
    {
     "data": {
      "application/vnd.jupyter.widget-view+json": {
       "model_id": "758042d989e34ba1b3e6d81bf161f154",
       "version_major": 2,
       "version_minor": 0
      },
      "text/plain": [
       "interactive(children=(FloatSlider(value=1.3, description='x', max=3.9000000000000004, min=-1.3), Output()), _d…"
      ]
     },
     "metadata": {},
     "output_type": "display_data"
    }
   ],
   "source": [
    "@interact(x=1.3)\n",
    "def p(x=1):\n",
    "    print(x)"
   ]
  },
  {
   "cell_type": "code",
   "execution_count": 33,
   "id": "78df2506-63c4-4cb6-8b2b-d9fe249d8d3c",
   "metadata": {
    "tags": []
   },
   "outputs": [
    {
     "data": {
      "application/vnd.jupyter.widget-view+json": {
       "model_id": "7c1bfb77485947308758fa0cb6be1dd0",
       "version_major": 2,
       "version_minor": 0
      },
      "text/plain": [
       "interactive(children=(Checkbox(value=False, description='x'), Output()), _dom_classes=('widget-interact',))"
      ]
     },
     "metadata": {},
     "output_type": "display_data"
    }
   ],
   "source": [
    "@interact(x=False)\n",
    "def p(x=1):\n",
    "    print(x)"
   ]
  },
  {
   "cell_type": "code",
   "execution_count": 34,
   "id": "6e3883a6-4135-4164-8f58-f1d6dc2ff213",
   "metadata": {
    "tags": []
   },
   "outputs": [
    {
     "data": {
      "application/vnd.jupyter.widget-view+json": {
       "model_id": "8d1e417f78bc4449b5f3f095aa813d26",
       "version_major": 2,
       "version_minor": 0
      },
      "text/plain": [
       "interactive(children=(Text(value='some text', description='x'), Output()), _dom_classes=('widget-interact',))"
      ]
     },
     "metadata": {},
     "output_type": "display_data"
    }
   ],
   "source": [
    "@interact(x=\"some text\")\n",
    "def p(x=1):\n",
    "    print(x)"
   ]
  },
  {
   "cell_type": "code",
   "execution_count": 37,
   "id": "ad92391c-ebfd-4ff4-aec3-aa90439434d4",
   "metadata": {
    "tags": []
   },
   "outputs": [],
   "source": [
    "from ipywidgets import interact, widgets\n",
    "iw = widgets.IntSlider(min= -10,\n",
    "                 max=10,\n",
    "                 step=2,\n",
    "                 value=0,\n",
    "                 description=\"Domain\")"
   ]
  },
  {
   "cell_type": "code",
   "execution_count": 38,
   "id": "5548c094-eef7-4dfa-9669-9047c7244250",
   "metadata": {
    "tags": []
   },
   "outputs": [
    {
     "data": {
      "application/vnd.jupyter.widget-view+json": {
       "model_id": "52d46875bd3d40c5bed9ebb3f46b2848",
       "version_major": 2,
       "version_minor": 0
      },
      "text/plain": [
       "IntSlider(value=0, description='Domain', max=10, min=-10, step=2)"
      ]
     },
     "execution_count": 38,
     "metadata": {},
     "output_type": "execute_result"
    }
   ],
   "source": [
    "iw"
   ]
  },
  {
   "cell_type": "code",
   "execution_count": 39,
   "id": "9ef29d4f-f951-413d-b880-b4bbba977bf3",
   "metadata": {
    "tags": []
   },
   "outputs": [
    {
     "data": {
      "application/vnd.jupyter.widget-view+json": {
       "model_id": "52d46875bd3d40c5bed9ebb3f46b2848",
       "version_major": 2,
       "version_minor": 0
      },
      "text/plain": [
       "IntSlider(value=0, description='Domain', max=10, min=-10, step=2)"
      ]
     },
     "execution_count": 39,
     "metadata": {},
     "output_type": "execute_result"
    }
   ],
   "source": [
    "iw"
   ]
  },
  {
   "cell_type": "code",
   "execution_count": null,
   "id": "3131ea72-d2fd-4578-8349-7d65af1bb9b3",
   "metadata": {},
   "outputs": [],
   "source": [
    "@interact(x=widgets.Dropdown(options = ([\"A\",\"B\",\"C\"])))"
   ]
  },
  {
   "cell_type": "code",
   "execution_count": 44,
   "id": "d7d9dbbc-f6fd-4d82-b0cc-ba220d255a8c",
   "metadata": {
    "tags": []
   },
   "outputs": [
    {
     "data": {
      "application/vnd.jupyter.widget-view+json": {
       "model_id": "f97f52e532b54912ac829efade073f09",
       "version_major": 2,
       "version_minor": 0
      },
      "text/plain": [
       "DatePicker(value=None, step=1)"
      ]
     },
     "execution_count": 44,
     "metadata": {},
     "output_type": "execute_result"
    }
   ],
   "source": [
    "widgets.DatePicker()"
   ]
  },
  {
   "cell_type": "code",
   "execution_count": 53,
   "id": "31511300-a491-41ea-bdf7-dd155112f931",
   "metadata": {
    "tags": []
   },
   "outputs": [
    {
     "data": {
      "application/vnd.jupyter.widget-view+json": {
       "model_id": "7980e59085f74b9e9d470b71d8609144",
       "version_major": 2,
       "version_minor": 0
      },
      "text/plain": [
       "VBox(children=(FloatSlider(value=0.0, description='freq', max=1.0, min=-1.0), FloatSlider(value=0.0, descripti…"
      ]
     },
     "execution_count": 53,
     "metadata": {},
     "output_type": "execute_result"
    }
   ],
   "source": [
    "import numpy as np\n",
    "import matplotlib.pylab as plt\n",
    "\n",
    "m = widgets.FloatSlider(min=-1, max= 1, step=0.1, description=\"freq\")\n",
    "c = widgets.FloatSlider(min=-1, max= 1, step=0.1, description=\"phase\")\n",
    "ui = widgets.VBox([m,c])\n",
    "ui"
   ]
  },
  {
   "cell_type": "code",
   "execution_count": 48,
   "id": "e5be9e9d-010d-4743-9dbe-3715dc58ee4e",
   "metadata": {
    "tags": []
   },
   "outputs": [
    {
     "data": {
      "image/png": "[encoded data removed]",
      "text/plain": [
       "<Figure size 640x480 with 1 Axes>"
      ]
     },
     "metadata": {},
     "output_type": "display_data"
    }
   ],
   "source": [
    "def plot(m,c):\n",
    "    n = np.linspace(0,10,100)\n",
    "    x = n*np.sin(n)\n",
    "    y = n*np.cos(m*n + c)\n",
    "    plt.plot(x,y)\n",
    "    plt.show()\n",
    "\n",
    "plot(3.3,4.)"
   ]
  },
  {
   "cell_type": "code",
   "execution_count": 49,
   "id": "cfa0cfa5-5bed-4a0c-b3e3-210dd5e94cdf",
   "metadata": {
    "tags": []
   },
   "outputs": [],
   "source": [
    "out = widgets.interactive_output(plot, {\"m\":m, \"c\":c})"
   ]
  },
  {
   "cell_type": "code",
   "execution_count": 51,
   "id": "051e8dee-de48-4331-ab13-adfa99a2ab50",
   "metadata": {
    "tags": []
   },
   "outputs": [
    {
     "data": {
      "application/vnd.jupyter.widget-view+json": {
       "model_id": "bc66369599e84920889e60b95f24375d",
       "version_major": 2,
       "version_minor": 0
      },
      "text/plain": [
       "Output(outputs=({'output_type': 'display_data', 'data': {'text/plain': '<Figure size 640x480 with 1 Axes>', 'i…"
      ]
     },
     "execution_count": 51,
     "metadata": {},
     "output_type": "execute_result"
    }
   ],
   "source": [
    "out # Change with the above sliders"
   ]
  },
  {
   "cell_type": "code",
   "execution_count": 54,
   "id": "b4c705ce-9cbc-4c8a-9fda-fea18e25eb89",
   "metadata": {
    "tags": []
   },
   "outputs": [
    {
     "data": {
      "application/vnd.jupyter.widget-view+json": {
       "model_id": "fdbc994240ea4743ab3a582a1028bbd7",
       "version_major": 2,
       "version_minor": 0
      },
      "text/plain": [
       "HBox(children=(VBox(children=(FloatSlider(value=0.0, description='freq', max=1.0, min=-1.0), FloatSlider(value…"
      ]
     },
     "execution_count": 54,
     "metadata": {},
     "output_type": "execute_result"
    }
   ],
   "source": [
    "widgets.HBox([ui,out])"
   ]
  },
  {
   "cell_type": "code",
   "execution_count": null,
   "id": "40d06db0-9e8f-4ca2-82b0-4ecc76826a54",
   "metadata": {},
   "outputs": [],
   "source": []
  }
 ],
 "metadata": {
  "kernelspec": {
   "display_name": "Python 3 (ipykernel)",
   "language": "python",
   "name": "python3"
  },
  "language_info": {
   "codemirror_mode": {
    "name": "ipython",
    "version": 3
   },
   "file_extension": ".py",
   "mimetype": "text/x-python",
   "name": "python",
   "nbconvert_exporter": "python",
   "pygments_lexer": "ipython3",
   "version": "3.10.12"
  },
  "toc-showcode": false
 },
 "nbformat": 4,
 "nbformat_minor": 5
}
