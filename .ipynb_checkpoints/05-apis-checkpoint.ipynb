{
 "cells": [
  {
   "cell_type": "markdown",
   "id": "317db3bb-6535-4a4c-a8c4-5d51e211ed30",
   "metadata": {},
   "source": [
    "# APIs"
   ]
  },
  {
   "cell_type": "markdown",
   "id": "9182671b-5938-4490-a68a-b11c9b47d992",
   "metadata": {},
   "source": [
    "**APIs** (Application Programming Interfaces), are sets of rules and protocols that allow different software applications to communicate with each other. \n",
    "\n",
    "They define the methods and data formats that applications can use to request and exchange information.\n",
    "\n",
    "**Key Concepts:**\n",
    "\n",
    "- **Endpoint:** An endpoint is a specific URL or URI that represents a particular resource or functionality provided by a server.\n",
    "- **HTTP Methods:** APIs typically use HTTP methods like GET, POST, PUT, and DELETE to perform various actions on resources.\n",
    "\n",
    "- **Request and Response:** When you make a request to an API endpoint, you send data (parameters or payloads) to the server. The server processes the request and sends back a response containing the requested data or confirmation of the action."
   ]
  },
  {
   "cell_type": "markdown",
   "id": "781c3bff-bd7a-48ed-8dab-84c1ad18d243",
   "metadata": {},
   "source": [
    "**Using APIs with Python:** \n",
    "\n",
    "- **Importing the requests Library:** We start by importing the requests library, which provides easy-to-use methods for sending HTTP requests.\n",
    "\n",
    "- **Sending a GET Request:** We define the URL of the API endpoint you want to access. Then, we use the requests.get() function to send a GET request to that URL.\n",
    "\n",
    "- **Handling the Response:** Once we've sent the request, you receive a response object (r in your code). We can access various properties of the response object, such as headers, status code, and content. The response content typically contains the data returned by the API in a specific format, such as JSON or XML."
   ]
  },
  {
   "cell_type": "code",
   "execution_count": 5,
   "id": "3285ff6b-b4b9-46d4-8eb6-d070dcd8ee60",
   "metadata": {
    "tags": []
   },
   "outputs": [],
   "source": [
    "import requests\n",
    "\n",
    "url = \"http://api.open-notify.org/iss-now.json\"\n",
    "\n",
    "r = requests.get(url)"
   ]
  },
  {
   "cell_type": "code",
   "execution_count": 6,
   "id": "a397290a-3464-4e6c-9092-9ef8bf848c1a",
   "metadata": {
    "tags": []
   },
   "outputs": [
    {
     "data": {
      "text/plain": [
       "{'Server': 'nginx/1.10.3', 'Date': 'Wed, 13 Mar 2024 12:53:45 GMT', 'Content-Type': 'application/json', 'Content-Length': '113', 'Connection': 'keep-alive', 'access-control-allow-origin': '*'}"
      ]
     },
     "execution_count": 6,
     "metadata": {},
     "output_type": "execute_result"
    }
   ],
   "source": [
    "r.headers"
   ]
  },
  {
   "cell_type": "code",
   "execution_count": 7,
   "id": "a19f36f1-acfb-425a-992e-0cfa5ce7beec",
   "metadata": {
    "tags": []
   },
   "outputs": [
    {
     "data": {
      "text/plain": [
       "200"
      ]
     },
     "execution_count": 7,
     "metadata": {},
     "output_type": "execute_result"
    }
   ],
   "source": [
    "r.status_code"
   ]
  },
  {
   "cell_type": "code",
   "execution_count": 8,
   "id": "80510361-a5c4-4759-a216-a7454c9c5320",
   "metadata": {
    "tags": []
   },
   "outputs": [
    {
     "data": {
      "text/plain": [
       "b'{\"iss_position\": {\"latitude\": \"-36.3871\", \"longitude\": \"28.6585\"}, \"timestamp\": 1710334425, \"message\": \"success\"}'"
      ]
     },
     "execution_count": 8,
     "metadata": {},
     "output_type": "execute_result"
    }
   ],
   "source": [
    "r.content"
   ]
  }
 ],
 "metadata": {
  "kernelspec": {
   "display_name": "Python 3 (ipykernel)",
   "language": "python",
   "name": "python3"
  },
  "language_info": {
   "codemirror_mode": {
    "name": "ipython",
    "version": 3
   },
   "file_extension": ".py",
   "mimetype": "text/x-python",
   "name": "python",
   "nbconvert_exporter": "python",
   "pygments_lexer": "ipython3",
   "version": "3.10.12"
  }
 },
 "nbformat": 4,
 "nbformat_minor": 5
}
