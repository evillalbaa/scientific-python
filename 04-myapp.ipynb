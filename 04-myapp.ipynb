{
 "cells": [
  {
   "cell_type": "markdown",
   "id": "1c16bff4-ff14-4eea-a17f-56791c30fa1c",
   "metadata": {},
   "source": [
    "# Creating a Python Program"
   ]
  },
  {
   "cell_type": "markdown",
   "id": "bf0c483e-6c53-4350-a6d2-59051ff5deca",
   "metadata": {},
   "source": [
    "## Script Creation"
   ]
  },
  {
   "cell_type": "markdown",
   "id": "ab869e82-48b6-4006-98f3-c2d373b36c16",
   "metadata": {},
   "source": [
    "To begin, let's create a Python script file named `04-myapp` using the `touch` command in the termianl:\n",
    "```bash\n",
    "$ touch 04-myapp\n",
    "```\n",
    "\n",
    "Next, add the **shebang line** at the top of your script file. The shebang line `#!/usr/bin/env python3` instructs the operating system to use the Python 3 interpreter to execute the script.\n",
    "\n",
    "Before we can execute the script directly, we need to make it executable. To do this, run the following command:\n",
    "```bash\n",
    "$ chmod a+r 04-myapp\n",
    "```\n",
    "This command grants execute permission to the script, allowing it to be run as an executable file."
   ]
  },
  {
   "cell_type": "markdown",
   "id": "220b8930-a93b-4adf-a96a-06e819a2c90a",
   "metadata": {},
   "source": [
    "## Writing Python Code"
   ]
  },
  {
   "cell_type": "markdown",
   "id": "05f319db-6279-49d5-9b3c-efe8243071da",
   "metadata": {},
   "source": [
    "In the sccript we have just created copy the following code:"
   ]
  },
  {
   "cell_type": "markdown",
   "id": "794001c0-09f1-4a87-814b-bc9d8b67f8ce",
   "metadata": {},
   "source": [
    "```python\n",
    "#!/usr/bin/env python3\n",
    "\n",
    "import typer\n",
    "\n",
    "app = typer.Typer()\n",
    "\n",
    "\n",
    "@app.command()\n",
    "def hello(name: str):\n",
    "    print(f\"hello {name}\")\n",
    "    \n",
    "@app.command()\n",
    "def bye():\n",
    "\t'bye function' # description of the function\n",
    "\tprint(\"bye\")\n",
    "\n",
    "\n",
    "@app.command()\n",
    "def adder(a,b):\n",
    "\t'adder'\n",
    "\tprint(f\"{a} + {b} = {a+b}\")\n",
    "\n",
    "\n",
    "if __name__ == \"__main__\":\n",
    "    app()\n",
    "```"
   ]
  },
  {
   "cell_type": "markdown",
   "id": "c6be4c64-7d49-4b91-b891-eabd7817eab6",
   "metadata": {},
   "source": [
    "In this code we use the **typer library** that simplifies the creation of command-line interfaces (CLIs) with Python. It provides a convenient way to define commands, arguments, and options for a CLI application, making it easy to build powerful and user-friendly command-line tools.\n",
    "\n",
    "The Typer library is **commonly used with decorators** to define commands and options in command-line interface (CLI) applications in Python. The decorators provided by Typer simplify the creation of CLI interfaces by allowing us to easily define functions that represent commands and options within our application.\n",
    "\n",
    "In the provided code:\n",
    "\n",
    "- We use the `@app.command()` decorator before each function to indicate that the function represents a command in our Typer application.\n",
    "- Within each decorated function, we define the logic for the corresponding command. For example, the `hello()` function takes a name argument and displays a greeting based on that name.\n",
    "- Additionally, functions can have **docstrings** that provide brief descriptions of what each command does. These descriptions are used to automatically generate documentation and help for the CLI application. For instance in `bye()` function we can see the docstring `'bye function'`"
   ]
  },
  {
   "cell_type": "markdown",
   "id": "593e9647-e59b-4405-aa6a-27943e4febe1",
   "metadata": {},
   "source": [
    "## Using the code"
   ]
  },
  {
   "cell_type": "markdown",
   "id": "5a83b7e8-f3c4-46a0-91fd-cbf0ac04cbe4",
   "metadata": {},
   "source": [
    "To **run the script**, open a terminal and navigate to the directory where the script `04-myapp` is located.\n",
    "\n",
    "Once in the directory containing the script, we can execute different **commands** defined in the script:\n",
    "- `hello`: Greets a user with a custom name.\n",
    "- `bye`: Prints a farewell message.\n",
    "- `adder`: Adds two numbers together and prints the result.\n",
    "\n",
    "To **run a command** use the following syntax:\n",
    "```bash\n",
    "$ ./04-myapp <command> [options]\n",
    "```\n",
    "\n",
    "For instance:\n",
    "```bash\n",
    "$ ./04-myapp hello Elena\n",
    "$ ./04-myapp bye\n",
    "$ ./04-myapp adder A B\n",
    "```\n",
    "\n",
    "To get and see a list of available commands and options, use the `--help` option:\n",
    "```bash\n",
    "$ ./04-myapp --help\n",
    "```\n",
    "\n",
    "Moreover, each command has a brief description that provides information on its purpose.\n",
    "To view the description of a specific command, use the `--help` option followed by the command name. \n",
    "```bash\n",
    "$ ./04-myapp <command> --help./04-myapp --help\n",
    "```"
   ]
  }
 ],
 "metadata": {
  "kernelspec": {
   "display_name": "Python 3 (ipykernel)",
   "language": "python",
   "name": "python3"
  },
  "language_info": {
   "codemirror_mode": {
    "name": "ipython",
    "version": 3
   },
   "file_extension": ".py",
   "mimetype": "text/x-python",
   "name": "python",
   "nbconvert_exporter": "python",
   "pygments_lexer": "ipython3",
   "version": "3.10.12"
  },
  "toc-showcode": true
 },
 "nbformat": 4,
 "nbformat_minor": 5
}
