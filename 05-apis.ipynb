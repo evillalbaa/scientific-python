{
 "cells": [
  {
   "cell_type": "markdown",
   "id": "317db3bb-6535-4a4c-a8c4-5d51e211ed30",
   "metadata": {},
   "source": [
    "# APIs"
   ]
  },
  {
   "cell_type": "markdown",
   "id": "c54eec60-9895-4dee-bfae-5b0cb0032f6e",
   "metadata": {},
   "source": [
    "**APIs** (Application Programming Interfaces), are sets of rules and protocols that allow different software applications to communicate with each other. \n",
    "\n",
    "They define the methods and data formats that applications can use to request and exchange information.\n",
    "\n",
    "<div style=\"text-align:center;\">\n",
    "  <img src=\"images/api_arquitecture.png\" alt=\"API\" style=\"width:45%;\">\n",
    "</div>"
   ]
  },
  {
   "cell_type": "markdown",
   "id": "e7c8d776-9f76-4b4b-ae4f-62daf234c136",
   "metadata": {},
   "source": [
    "## REST-API"
   ]
  },
  {
   "cell_type": "markdown",
   "id": "c210074f-1736-4263-8360-bc1e2f93fc8a",
   "metadata": {},
   "source": [
    "A **REST-API** is an API that adheres to the principles of REST to facilitate communication between distributed systems over the internet. A REST-API exposes resources (data) on the server via unique URLs and defines CRUD operations on these resources using standard HTTP methods. The REST-API returns responses in a commonly accepted format such as JSON or XML."
   ]
  },
  {
   "cell_type": "markdown",
   "id": "ac04ed2e-293b-4e68-936d-fc4a062c6f29",
   "metadata": {},
   "source": [
    "## Difference between API and REST-API"
   ]
  },
  {
   "cell_type": "markdown",
   "id": "d5e3cd59-fb92-4f50-a392-3c05d64b6aa6",
   "metadata": {},
   "source": [
    "- **Architecture Style:** An API can be based on different architecture styles, whereas a REST-API follows the REST architectural style.\n",
    "- **Protocols and Methods:** APIs can use different communication protocols and request methods, while REST-APIs are based on the HTTP protocol and use standard HTTP methods (GET, POST, PUT, DELETE).\n",
    "- **URLs and Resources:** REST-APIs expose resources through unique URLs, while APIs may expose functionalities or data in different ways.\n",
    "- **Response Format:** REST-APIs typically return responses in standard formats like JSON or XML, while other APIs may use different formats."
   ]
  },
  {
   "cell_type": "markdown",
   "id": "0f563d97-e286-4528-9e5f-5179dca22ff7",
   "metadata": {},
   "source": [
    "## Key Concepts"
   ]
  },
  {
   "cell_type": "markdown",
   "id": "39140f19-8e2b-41e5-b35c-bc6850a85bf9",
   "metadata": {},
   "source": [
    "- **Endpoint:** An endpoint is a specific URL or URI that represents a particular resource or functionality provided by a server.\n",
    "- **HTTP Methods:** APIs typically use HTTP methods like GET, POST, PUT, and DELETE to perform various actions on resources.\n",
    "\n",
    "- **Request and Response:** When you make a request to an API endpoint, you send data (parameters or payloads) to the server. The server processes the request and sends back a response containing the requested data or confirmation of the action."
   ]
  },
  {
   "cell_type": "markdown",
   "id": "13041c4c-5d9e-46e9-8c27-3a02863170db",
   "metadata": {},
   "source": [
    "## HTTP Commands"
   ]
  },
  {
   "cell_type": "markdown",
   "id": "5ff9365f-bd57-4368-b0dc-030d5e48109c",
   "metadata": {},
   "source": [
    "- **Post:** Create a resource\n",
    "- **Put:** Update an entire resource\n",
    "- **Get:** Retrieve/select a resource\n",
    "- **Delate:** Delete a resource"
   ]
  },
  {
   "cell_type": "markdown",
   "id": "b89ef505-8061-41b4-9c11-2873929a9ae6",
   "metadata": {},
   "source": [
    "## Status Code"
   ]
  },
  {
   "cell_type": "markdown",
   "id": "d4186ff0-69e3-4582-aae4-835946c3b0ab",
   "metadata": {},
   "source": [
    "- **1xx** Informational\n",
    "- **2xx** Success\n",
    "- **3xx** Redirection\n",
    "- **4xx** Client Error\n",
    "- **5xx** Server Error"
   ]
  },
  {
   "cell_type": "markdown",
   "id": "781c3bff-bd7a-48ed-8dab-84c1ad18d243",
   "metadata": {
    "tags": []
   },
   "source": [
    "## Using APIs with Python "
   ]
  },
  {
   "cell_type": "markdown",
   "id": "d0cd7b2a-f2f6-4ba1-a84f-0eeb6a93160d",
   "metadata": {},
   "source": [
    "The following code demonstrates how to use the requests library in Python to send a GET request to an API endpoint (http://api.open-notify.org/iss-now.json), retrieve data from the response, and process it. The response content is expected to be in JSON format, which is then converted to a Python dictionary for easy manipulation. Finally, the latitude value from the 'iss_position' dictionary is extracted and converted to a float data type."
   ]
  },
  {
   "cell_type": "code",
   "execution_count": 2,
   "id": "3285ff6b-b4b9-46d4-8eb6-d070dcd8ee60",
   "metadata": {
    "tags": []
   },
   "outputs": [
    {
     "data": {
      "text/plain": [
       "{'Server': 'nginx/1.10.3', 'Date': 'Mon, 01 Apr 2024 14:33:32 GMT', 'Content-Type': 'application/json', 'Content-Length': '113', 'Connection': 'keep-alive', 'access-control-allow-origin': '*'}"
      ]
     },
     "execution_count": 2,
     "metadata": {},
     "output_type": "execute_result"
    }
   ],
   "source": [
    "import requests\n",
    "\n",
    "# Define the URL of the API endpoint\n",
    "url = \"http://api.open-notify.org/iss-now.json\"\n",
    "\n",
    "# Send a GET request to the API endpoint\n",
    "r = requests.get(url)\n",
    "\n",
    "# Accessing the response headers\n",
    "r.headers"
   ]
  },
  {
   "cell_type": "code",
   "execution_count": 3,
   "id": "a19f36f1-acfb-425a-992e-0cfa5ce7beec",
   "metadata": {
    "tags": []
   },
   "outputs": [
    {
     "data": {
      "text/plain": [
       "200"
      ]
     },
     "execution_count": 3,
     "metadata": {},
     "output_type": "execute_result"
    }
   ],
   "source": [
    "# Accessing the status code of the response\n",
    "r.status_code"
   ]
  },
  {
   "cell_type": "code",
   "execution_count": 4,
   "id": "80510361-a5c4-4759-a216-a7454c9c5320",
   "metadata": {
    "tags": []
   },
   "outputs": [
    {
     "data": {
      "text/plain": [
       "b'{\"iss_position\": {\"latitude\": \"-4.8149\", \"longitude\": \"110.0669\"}, \"timestamp\": 1711982012, \"message\": \"success\"}'"
      ]
     },
     "execution_count": 4,
     "metadata": {},
     "output_type": "execute_result"
    }
   ],
   "source": [
    "# Accessing the content of the response\n",
    "r.content"
   ]
  },
  {
   "cell_type": "code",
   "execution_count": 5,
   "id": "8284e819-a60b-47fc-965b-82f5dcf06caf",
   "metadata": {
    "tags": []
   },
   "outputs": [
    {
     "data": {
      "text/plain": [
       "{'iss_position': {'latitude': '-4.8149', 'longitude': '110.0669'},\n",
       " 'timestamp': 1711982012,\n",
       " 'message': 'success'}"
      ]
     },
     "execution_count": 5,
     "metadata": {},
     "output_type": "execute_result"
    }
   ],
   "source": [
    "# Convert the response content to a JSON object\n",
    "m = r.json()\n",
    "m"
   ]
  },
  {
   "cell_type": "code",
   "execution_count": 6,
   "id": "53a2e911-cb18-4774-9e75-c45043d9c78b",
   "metadata": {
    "tags": []
   },
   "outputs": [
    {
     "data": {
      "text/plain": [
       "dict"
      ]
     },
     "execution_count": 6,
     "metadata": {},
     "output_type": "execute_result"
    }
   ],
   "source": [
    "type(m) # Check the type of the JSON object"
   ]
  },
  {
   "cell_type": "code",
   "execution_count": 8,
   "id": "16a9288e-ee80-495a-8663-1c5f0709bb4e",
   "metadata": {
    "tags": []
   },
   "outputs": [
    {
     "data": {
      "text/plain": [
       "-4.8149"
      ]
     },
     "execution_count": 8,
     "metadata": {},
     "output_type": "execute_result"
    }
   ],
   "source": [
    "# Extracting the values of the 'iss_position' key from the JSON object\n",
    "l = m['iss_position'].values()\n",
    "\n",
    "# Converting the latitude value (the first value in the 'iss_position' dictionary) to float\n",
    "float(list(l)[0])"
   ]
  },
  {
   "cell_type": "markdown",
   "id": "e18a3269-c22e-4db0-94de-c407826d7643",
   "metadata": {},
   "source": [
    "## Create an API"
   ]
  },
  {
   "cell_type": "markdown",
   "id": "4c3ec126-429d-46fe-a0ea-318ebe911faa",
   "metadata": {},
   "source": [
    "1. **Install necessary packages:** First, we need to install the required packages. In this case, we'll need uvicorn and fastapi. We can do this using pip:\n",
    "\n",
    "```bash\n",
    "pip install uvicorn fastapi\n",
    "```"
   ]
  },
  {
   "cell_type": "markdown",
   "id": "11fd4c53-cd87-4ee1-8c32-ee3f75cf4d81",
   "metadata": {},
   "source": [
    "2. **Set up a virtual environment:** It's a good practice to work within a virtual environment to isolate the project dependencies. We can create a virtual environment using python -m venv command:\n",
    "\n",
    "```bash\n",
    "python3 -m venv apienv\n",
    "```"
   ]
  },
  {
   "cell_type": "markdown",
   "id": "b52b88db-f08f-414b-8ed4-0ce11a9226fc",
   "metadata": {},
   "source": [
    "3. **Activate the virtual environment:** After creating the virtual environment, you need to activate it. On Unix/Linux/macOS systems, you can do this using the source command: \n",
    "\n",
    "```bash\n",
    "source apienv/bin/activate\n",
    "```"
   ]
  },
  {
   "cell_type": "markdown",
   "id": "c36db872-acdf-4d51-9238-84a05df8797e",
   "metadata": {},
   "source": [
    "4. **Create a Python script for your API:** Create a new Python script where we'll define our API endpoints and logic. The filed created in class was named `05-sciapi.py` and contain the following code:"
   ]
  },
  {
   "cell_type": "code",
   "execution_count": 10,
   "id": "7507988b-c0f9-42ec-97e9-bb330b9001f7",
   "metadata": {
    "tags": []
   },
   "outputs": [],
   "source": [
    "from fastapi import FastAPI\n",
    "from pydantic import BaseModel\n",
    "\n",
    "app = FastAPI()\n",
    "\n",
    "@app.get(\"/\")\n",
    "def alive():\n",
    "    'This resturns wheter the api is alive'\n",
    "    return({\"status\":\"alive\"})\n",
    "\n",
    "@app.get(\"/power/{n}\")\n",
    "def power(n: int ):\n",
    "    'This function computes the power 2 of n'\n",
    "    return({\"number\":n, \"power\":n**2})\n",
    "\n",
    "class Operand(BaseModel):\n",
    "    a: int\n",
    "    b: int\n",
    "\n",
    "@app.post(\"/adder/\")\n",
    "def adder( ops : Operand): #Depend on the class Operad variables. It's like create a new type\n",
    "    return({\"return\": ops.a + ops.b })"
   ]
  },
  {
   "cell_type": "markdown",
   "id": "78ed5f81-7076-436b-9b08-fe124803cef5",
   "metadata": {},
   "source": [
    "5. **Run the API server:** Once we've defined your API, we can run it using uvicorn:\n",
    "\n",
    "```bash\n",
    "uvicorn 05-sciapi:app --reload\n",
    "```"
   ]
  },
  {
   "cell_type": "markdown",
   "id": "e68cdd47-91ff-499b-8f04-ba1e798261b1",
   "metadata": {},
   "source": [
    "6. **Test the API:** We can test our API using curl for making requests from the command line or by accessing it through a web browser. By default, the API server will run on http://127.0.0.1:8000/. To use the adder method type the following command in the terminal:\n",
    "\n",
    "```bash\n",
    "curl -X POST \"http://localhost:8000/adder/\" -H \"Content-Type: application/json\" -d '{\"a\": 3, \"b\": 4}'\n",
    "```"
   ]
  },
  {
   "cell_type": "markdown",
   "id": "60d54769-a40e-4fb0-8c4c-3f56f13c8ba2",
   "metadata": {},
   "source": [
    "7. **Explore API documentation:** FastAPI automatically generates interactive documentation (Swagger UI) for our API. We can access it by navigating to http://127.0.0.1:8000/docs in our web browser. This documentation provides details about our API endpoints, request parameters, response models, etc."
   ]
  }
 ],
 "metadata": {
  "kernelspec": {
   "display_name": "Python 3 (ipykernel)",
   "language": "python",
   "name": "python3"
  },
  "language_info": {
   "codemirror_mode": {
    "name": "ipython",
    "version": 3
   },
   "file_extension": ".py",
   "mimetype": "text/x-python",
   "name": "python",
   "nbconvert_exporter": "python",
   "pygments_lexer": "ipython3",
   "version": "3.10.12"
  },
  "toc-showcode": false
 },
 "nbformat": 4,
 "nbformat_minor": 5
}
