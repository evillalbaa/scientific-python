{
 "cells": [
  {
   "cell_type": "markdown",
   "id": "17dab692-3068-47c7-973d-21480e838aa5",
   "metadata": {},
   "source": [
    "# Exercises"
   ]
  },
  {
   "cell_type": "markdown",
   "id": "05f2543f-785b-4410-af8b-1686c1e00a21",
   "metadata": {},
   "source": [
    "## Intro to python "
   ]
  },
  {
   "cell_type": "markdown",
   "id": "fce54978-c6f6-4064-bc5e-f5db686ee6c7",
   "metadata": {},
   "source": [
    "<span style=\"color:green\">**Exercise 1**.</span> **Create a list A, creat a list B that contains A, copy the list B into C, modify A and check C values**"
   ]
  },
  {
   "cell_type": "code",
   "execution_count": 27,
   "id": "cfdc2158-a17e-468d-944b-0cd36f3c6f93",
   "metadata": {},
   "outputs": [
    {
     "data": {
      "text/plain": [
       "[5, 6, 7, 8, [1, 2, 3, 1000]]"
      ]
     },
     "execution_count": 27,
     "metadata": {},
     "output_type": "execute_result"
    }
   ],
   "source": [
    "A = [1,2,3,4]\n",
    "B = [5,6,7,8,A]\n",
    "C = B # It's a references for the  object\n",
    "A[-1] = 1000\n",
    "C "
   ]
  },
  {
   "cell_type": "markdown",
   "id": "aae2b6ec-2b53-4645-8714-bc9de9150106",
   "metadata": {},
   "source": [
    "<span style=\"color:green\">**Exercise 2.**</span> **Compute the decimals of Pi using the Wallis formula:** \n",
    "$$ \n",
    "\\pi = 2 \\cdot \\prod_{n=1}^{\\infty} \\frac{4n^2}{4n^2 - 1} \n",
    "$$"
   ]
  },
  {
   "cell_type": "code",
   "execution_count": 17,
   "id": "5415a39b-ba05-495c-b008-09eda4073969",
   "metadata": {},
   "outputs": [
    {
     "name": "stdout",
     "output_type": "stream",
     "text": [
      "Pi: 3.1408069608284657\n"
     ]
    }
   ],
   "source": [
    "N = 1000\n",
    "Pi = 2.0\n",
    "for i in range(1,N):\n",
    "    Pi *= (4*i**2/(4*i**2-1))\n",
    "print(\"Pi:\", Pi)"
   ]
  },
  {
   "cell_type": "markdown",
   "id": "37cd977d-1541-4116-bbb1-f095453be9a0",
   "metadata": {},
   "source": [
    "<span style=\"color:green\">**Exercise 3.**</span> **Compute the decimals of Pi using the Wallis formula without a for.**"
   ]
  },
  {
   "cell_type": "code",
   "execution_count": 32,
   "id": "a6beab51-7055-4af3-8987-0e980327479a",
   "metadata": {
    "tags": []
   },
   "outputs": [
    {
     "data": {
      "text/plain": [
       "3.1408069608284657"
      ]
     },
     "execution_count": 32,
     "metadata": {},
     "output_type": "execute_result"
    }
   ],
   "source": [
    "from functools import reduce\n",
    "\n",
    "def pi(N=100):\n",
    "    M= range(1,N)\n",
    "    \n",
    "    P = map(lambda i: 4.*i**2/(4.*i**2-1),M)\n",
    "    R = reduce(lambda j,k: j*k, P)\n",
    "    return (2*R)\n",
    "\n",
    "pi(1000)"
   ]
  },
  {
   "cell_type": "markdown",
   "id": "a20a594d-ada2-42e1-840f-8f3e41c43e44",
   "metadata": {},
   "source": [
    "<span style=\"color:green\">**Exercise 4.**</span> **Compute the decimals of Pi using the Wallis formula and generators:**"
   ]
  },
  {
   "cell_type": "code",
   "execution_count": 15,
   "id": "cd164d68-6ba5-48a9-b610-3a3d2d1653e4",
   "metadata": {},
   "outputs": [
    {
     "data": {
      "text/plain": [
       "2.6666666666666665"
      ]
     },
     "execution_count": 15,
     "metadata": {},
     "output_type": "execute_result"
    }
   ],
   "source": [
    "def wallis_formula():\n",
    "    i = 1 \n",
    "    pi = 2.0\n",
    "    while True:\n",
    "        pi *= (4*i**2)/(4*i**2-1)\n",
    "        yield(pi)\n",
    "        i +=1\n",
    "\n",
    "p = wallis_formula()\n",
    "next(p)"
   ]
  },
  {
   "cell_type": "code",
   "execution_count": 26,
   "id": "ef20c003-d3e5-4edb-827e-903dba3da934",
   "metadata": {
    "tags": []
   },
   "outputs": [
    {
     "name": "stdout",
     "output_type": "stream",
     "text": [
      "3.140817047489329\n"
     ]
    }
   ],
   "source": [
    "N = 1000\n",
    "for i in range(N):\n",
    "    next(p)\n",
    "    \n",
    "print(next(p))"
   ]
  },
  {
   "cell_type": "markdown",
   "id": "15c98035-12ca-4e8e-b6ba-e1f191936faa",
   "metadata": {},
   "source": [
    "<span style=\"color:green\">**Exercise 5.**</span> **The Rosenbrock function is  mathematical function commonly used to test optimization algorithms and local search methods. It was proposed by Howard H.** \n",
    "\n",
    "**The Rosenbrock function is defined as:**\n",
    "\n",
    "$$\n",
    "f(x,y) = (a-x)²+b(y-x²)²\n",
    "$$\n",
    "\n",
    "**Where a and b are parameters that control the shape of the function and are typically set to $ a = 1 $ and $ b = 100$.**\n",
    "\n",
    "**To-do:**\n",
    "- **Define a Python function `rb(xi)` to compute the value of the Rosenbrock function at a given point `(x,y)`, assume a=5, b=4**.\n",
    "- **Check the functions from  scipy.optimize**\n",
    "- **Implement a decorator to trace the optimization process. The decorator should print out the current `(x,y)` coordinates, the value of the Rosenbrock function, and count the number of evaluations.**"
   ]
  },
  {
   "cell_type": "code",
   "execution_count": 38,
   "id": "c3648cd5-fe9a-4bef-bff7-51b5f7496a7c",
   "metadata": {
    "tags": []
   },
   "outputs": [
    {
     "name": "stdout",
     "output_type": "stream",
     "text": [
      "104.0\n"
     ]
    }
   ],
   "source": [
    "def rb(xi):\n",
    "    x,y = xi\n",
    "    a = 5\n",
    "    b = 4\n",
    "    return ((a-x)**2 + b*(y-x**2)**2)\n",
    "\n",
    "print(rb((3.,4.)))"
   ]
  },
  {
   "cell_type": "code",
   "execution_count": 41,
   "id": "f0830e1b-97fd-49f7-a790-56d71814aa37",
   "metadata": {
    "tags": []
   },
   "outputs": [
    {
     "data": {
      "text/plain": [
       "      fun: 1.0694288016706786e-11\n",
       " hess_inv: array([[ 0.49619154,  4.96206875],\n",
       "       [ 4.96206875, 49.74721432]])\n",
       "      jac: array([-1.07347518e-05,  1.07856118e-06])\n",
       "  message: 'Desired error not necessarily achieved due to precision loss.'\n",
       "     nfev: 222\n",
       "      nit: 18\n",
       "     njev: 70\n",
       "   status: 2\n",
       "  success: False\n",
       "        x: array([ 4.99999674, 24.99996752])"
      ]
     },
     "execution_count": 41,
     "metadata": {},
     "output_type": "execute_result"
    }
   ],
   "source": [
    "from scipy.optimize import minimize\n",
    "x0 = (3.0,4.0) # initial point\n",
    "minimize(rb,x0) # rb: objective function"
   ]
  },
  {
   "cell_type": "code",
   "execution_count": 42,
   "id": "6989b0cc-8abc-45aa-b610-c0c2d4552121",
   "metadata": {
    "tags": []
   },
   "outputs": [
    {
     "name": "stdout",
     "output_type": "stream",
     "text": [
      "Evaluation 1: (x, y) = [3. 4.], Rosenbrock value = 104.0\n",
      "Evaluation 2: (x, y) = [3.00000001 4.        ], Rosenbrock value = 104.00000351667407\n",
      "Evaluation 3: (x, y) = [3.         4.00000001], Rosenbrock value = 103.99999940395355\n",
      "Evaluation 4: (x, y) = [2.00420206 4.16877931], Rosenbrock value = 9.06716469446393\n",
      "Evaluation 5: (x, y) = [2.00420207 4.16877931], Rosenbrock value = 9.067164532572933\n",
      "Evaluation 6: (x, y) = [2.00420206 4.16877933], Rosenbrock value = 9.067164712578192\n",
      "Evaluation 7: (x, y) = [2.14480115 4.74344142], Rosenbrock value = 8.234264983354398\n",
      "Evaluation 8: (x, y) = [2.14480117 4.74344142], Rosenbrock value = 8.234264825000537\n",
      "Evaluation 9: (x, y) = [2.14480115 4.74344144], Rosenbrock value = 8.234265000433448\n",
      "Evaluation 10: (x, y) = [2.70719754 7.04208986], Rosenbrock value = 5.586025822002787\n",
      "Evaluation 11: (x, y) = [2.70719755 7.04208986], Rosenbrock value = 5.586025938804433\n",
      "Evaluation 12: (x, y) = [2.70719754 7.04208987], Rosenbrock value = 5.586025787810149\n",
      "Evaluation 13: (x, y) = [ 3.43804638 10.62760451], Rosenbrock value = 8.128481320656114\n",
      "Evaluation 14: (x, y) = [ 3.4380464  10.62760451], Rosenbrock value = 8.12848225163943\n",
      "Evaluation 15: (x, y) = [ 3.43804638 10.62760453], Rosenbrock value = 8.128481178492075\n",
      "Evaluation 16: (x, y) = [2.93439066 8.15669006], Rosenbrock value = 5.09105515800093\n",
      "Evaluation 17: (x, y) = [2.93439067 8.15669006], Rosenbrock value = 5.091055414036374\n",
      "Evaluation 18: (x, y) = [2.93439066 8.15669007], Rosenbrock value = 5.091055103884863\n",
      "Evaluation 19: (x, y) = [3.08009095 9.1213431 ], Rosenbrock value = 4.220754453085978\n",
      "Evaluation 20: (x, y) = [3.08009097 9.1213431 ], Rosenbrock value = 4.220754664359582\n",
      "Evaluation 21: (x, y) = [3.08009095 9.12134312], Rosenbrock value = 4.220754409501014\n",
      "Evaluation 22: (x, y) = [ 3.34696778 11.01604194], Rosenbrock value = 2.871124870026639\n",
      "Evaluation 23: (x, y) = [ 3.34696779 11.01604194], Rosenbrock value = 2.8711249693074317\n",
      "Evaluation 24: (x, y) = [ 3.34696778 11.01604195], Rosenbrock value = 2.8711248478356657\n",
      "Evaluation 25: (x, y) = [ 3.85806119 14.41831778], Rosenbrock value = 2.173835623665075\n",
      "Evaluation 26: (x, y) = [ 3.85806121 14.41831778], Rosenbrock value = 2.1738360185679673\n",
      "Evaluation 27: (x, y) = [ 3.85806119 14.41831779], Rosenbrock value = 2.1738355680755914\n",
      "Evaluation 28: (x, y) = [ 3.94490862 15.41283949], Rosenbrock value = 1.2025764288033651\n",
      "Evaluation 29: (x, y) = [ 3.94490864 15.41283949], Rosenbrock value = 1.2025765379365678\n",
      "Evaluation 30: (x, y) = [ 3.94490862 15.4128395 ], Rosenbrock value = 1.2025764109858026\n",
      "Evaluation 31: (x, y) = [ 4.31138533 18.40368415], Rosenbrock value = 0.6101435648392624\n",
      "Evaluation 32: (x, y) = [ 4.31138534 18.40368415], Rosenbrock value = 0.6101437338225824\n",
      "Evaluation 33: (x, y) = [ 4.31138533 18.40368417], Rosenbrock value = 0.6101435428619227\n",
      "Evaluation 34: (x, y) = [ 4.49878247 20.18584266], Rosenbrock value = 0.26254041096946057\n",
      "Evaluation 35: (x, y) = [ 4.49878248 20.18584266], Rosenbrock value = 0.2625404530951478\n",
      "Evaluation 36: (x, y) = [ 4.49878247 20.18584267], Rosenbrock value = 0.26254040462740547\n",
      "Evaluation 37: (x, y) = [ 4.80945449 22.92448373], Rosenbrock value = 0.20665993176579137\n",
      "Evaluation 38: (x, y) = [ 4.80945451 22.92448373], Rosenbrock value = 0.20666016272271417\n",
      "Evaluation 39: (x, y) = [ 4.80945449 22.92448374], Rosenbrock value = 0.20665990716471308\n",
      "Evaluation 40: (x, y) = [ 4.65237864 21.53982615], Rosenbrock value = 0.1647735132288335\n",
      "Evaluation 41: (x, y) = [ 4.65237866 21.53982615], Rosenbrock value = 0.16477361911554977\n",
      "Evaluation 42: (x, y) = [ 4.65237864 21.53982617], Rosenbrock value = 0.1647735007355948\n",
      "Evaluation 43: (x, y) = [ 4.82949166 23.27650416], Rosenbrock value = 0.03809258945763486\n",
      "Evaluation 44: (x, y) = [ 4.82949167 23.27650416], Rosenbrock value = 0.03809263905291538\n",
      "Evaluation 45: (x, y) = [ 4.82949166 23.27650418], Rosenbrock value = 0.03809258379692184\n",
      "Evaluation 46: (x, y) = [ 4.9063189  24.06268221], Rosenbrock value = 0.009120837769895272\n",
      "Evaluation 47: (x, y) = [ 4.90631891 24.06268221], Rosenbrock value = 0.009120845836802229\n",
      "Evaluation 48: (x, y) = [ 4.9063189  24.06268223], Rosenbrock value = 0.009120836663288957\n",
      "Evaluation 49: (x, y) = [ 5.006533   25.03146942], Rosenbrock value = 0.00464041333834918\n",
      "Evaluation 50: (x, y) = [ 5.00653302 25.03146942], Rosenbrock value = 0.004640454001819892\n",
      "Evaluation 51: (x, y) = [ 5.006533   25.03146943], Rosenbrock value = 0.00464040929676255\n",
      "Evaluation 52: (x, y) = [ 4.99645319 24.96342238], Rosenbrock value = 1.76160179875844e-05\n",
      "Evaluation 53: (x, y) = [ 4.9964532  24.96342238], Rosenbrock value = 1.7617249031545654e-05\n",
      "Evaluation 54: (x, y) = [ 4.99645319 24.96342239], Rosenbrock value = 1.7615884227756983e-05\n",
      "Evaluation 55: (x, y) = [ 4.9995562  24.99557993], Rosenbrock value = 1.9821306600096406e-07\n",
      "Evaluation 56: (x, y) = [ 4.99955622 24.99557993], Rosenbrock value = 1.9817880668731533e-07\n",
      "Evaluation 57: (x, y) = [ 4.9995562  24.99557995], Rosenbrock value = 1.9821517928798789e-07\n",
      "Evaluation 58: (x, y) = [ 4.99998557 24.99986065], Rosenbrock value = 3.048885312395768e-10\n",
      "Evaluation 59: (x, y) = [ 4.99998559 24.99986065], Rosenbrock value = 2.9868503907933817e-10\n",
      "Evaluation 60: (x, y) = [ 4.99998557 24.99986066], Rosenbrock value = 3.0547567766628004e-10\n",
      "Evaluation 61: (x, y) = [ 4.99999674 24.99996757], Rosenbrock value = 1.0694453600152934e-11\n",
      "Evaluation 62: (x, y) = [ 4.99999676 24.99996757], Rosenbrock value = 1.0515785254974166e-11\n",
      "Evaluation 63: (x, y) = [ 4.99999674 24.99996758], Rosenbrock value = 1.0712403943546971e-11\n",
      "Evaluation 64: (x, y) = [ 4.99999672 24.99996717], Rosenbrock value = 1.0772241509434359e-11\n",
      "Evaluation 65: (x, y) = [ 4.99999673 24.99996717], Rosenbrock value = 1.076983633908123e-11\n",
      "Evaluation 66: (x, y) = [ 4.99999672 24.99996719], Rosenbrock value = 1.077249278556981e-11\n",
      "Evaluation 67: (x, y) = [ 4.99999674 24.9999675 ], Rosenbrock value = 1.0695312512124178e-11\n",
      "Evaluation 68: (x, y) = [ 4.99999675 24.9999675 ], Rosenbrock value = 1.0548028421434147e-11\n",
      "Evaluation 69: (x, y) = [ 4.99999674 24.99996751], Rosenbrock value = 1.0710111476637735e-11\n",
      "Evaluation 70: (x, y) = [ 4.99999674 24.99996755], Rosenbrock value = 1.0694160809154056e-11\n",
      "Evaluation 71: (x, y) = [ 4.99999676 24.99996755], Rosenbrock value = 1.0522345791289628e-11\n",
      "Evaluation 72: (x, y) = [ 4.99999674 24.99996757], Rosenbrock value = 1.0711422991218008e-11\n",
      "Evaluation 73: (x, y) = [ 4.99999674 24.99996751], Rosenbrock value = 1.0694535106142286e-11\n",
      "Evaluation 74: (x, y) = [ 4.99999675 24.99996751], Rosenbrock value = 1.0538910499638667e-11\n",
      "Evaluation 75: (x, y) = [ 4.99999674 24.99996753], Rosenbrock value = 1.0710171564741562e-11\n",
      "Evaluation 76: (x, y) = [ 4.99999674 24.99996754], Rosenbrock value = 1.0694115025906119e-11\n",
      "Evaluation 77: (x, y) = [ 4.99999676 24.99996754], Rosenbrock value = 1.0525738470846955e-11\n",
      "Evaluation 78: (x, y) = [ 4.99999674 24.99996756], Rosenbrock value = 1.0711031942517693e-11\n",
      "Evaluation 79: (x, y) = [ 4.99999674 24.99996752], Rosenbrock value = 1.0694288016706786e-11\n",
      "Evaluation 80: (x, y) = [ 4.99999675 24.99996752], Rosenbrock value = 1.0534327750404256e-11\n",
      "Evaluation 81: (x, y) = [ 4.99999674 24.99996754], Rosenbrock value = 1.0710359830759193e-11\n",
      "Evaluation 82: (x, y) = [ 4.99999674 24.99996752], Rosenbrock value = 1.0694352821567316e-11\n",
      "Evaluation 83: (x, y) = [ 4.99999675 24.99996752], Rosenbrock value = 1.05347572597286e-11\n",
      "Evaluation 84: (x, y) = [ 4.99999674 24.99996754], Rosenbrock value = 1.0710387992550908e-11\n",
      "Evaluation 85: (x, y) = [ 4.99999674 24.99996752], Rosenbrock value = 1.0694298848281467e-11\n",
      "Evaluation 86: (x, y) = [ 4.99999675 24.99996752], Rosenbrock value = 1.0534399803707293e-11\n",
      "Evaluation 87: (x, y) = [ 4.99999674 24.99996754], Rosenbrock value = 1.071036451118061e-11\n",
      "Evaluation 88: (x, y) = [ 4.99999674 24.99996752], Rosenbrock value = 1.0694289828677935e-11\n",
      "Evaluation 89: (x, y) = [ 4.99999675 24.99996752], Rosenbrock value = 1.0534339847519255e-11\n",
      "Evaluation 90: (x, y) = [ 4.99999674 24.99996754], Rosenbrock value = 1.0710360609350147e-11\n",
      "Evaluation 91: (x, y) = [ 4.99999674 24.99996752], Rosenbrock value = 1.0694288325656916e-11\n",
      "Evaluation 92: (x, y) = [ 4.99999675 24.99996752], Rosenbrock value = 1.0534329783356486e-11\n",
      "Evaluation 93: (x, y) = [ 4.99999674 24.99996754], Rosenbrock value = 1.0710359966491085e-11\n",
      "Evaluation 94: (x, y) = [ 4.99999674 24.99996752], Rosenbrock value = 1.069428807169634e-11\n",
      "Evaluation 95: (x, y) = [ 4.99999675 24.99996752], Rosenbrock value = 1.0534328092008399e-11\n",
      "Evaluation 96: (x, y) = [ 4.99999674 24.99996754], Rosenbrock value = 1.0710359856949626e-11\n",
      "Evaluation 97: (x, y) = [ 4.99999674 24.99996752], Rosenbrock value = 1.0694288032628896e-11\n",
      "Evaluation 98: (x, y) = [ 4.99999675 24.99996752], Rosenbrock value = 1.0534327808439758e-11\n",
      "Evaluation 99: (x, y) = [ 4.99999674 24.99996754], Rosenbrock value = 1.0710359842446139e-11\n",
      "Evaluation 100: (x, y) = [ 4.99999674 24.99996752], Rosenbrock value = 1.0694288015258076e-11\n",
      "Evaluation 101: (x, y) = [ 4.99999675 24.99996752], Rosenbrock value = 1.05343277573994e-11\n",
      "Evaluation 102: (x, y) = [ 4.99999674 24.99996754], Rosenbrock value = 1.071035982846345e-11\n",
      "Evaluation 103: (x, y) = [ 4.99999674 24.99996752], Rosenbrock value = 1.0694288022494777e-11\n",
      "Evaluation 104: (x, y) = [ 4.99999675 24.99996752], Rosenbrock value = 1.0534327789914725e-11\n",
      "Evaluation 105: (x, y) = [ 4.99999674 24.99996754], Rosenbrock value = 1.0710359833159052e-11\n",
      "Evaluation 106: (x, y) = [ 4.99999674 24.99996752], Rosenbrock value = 1.0694288021049489e-11\n",
      "Evaluation 107: (x, y) = [ 4.99999675 24.99996752], Rosenbrock value = 1.0534327763164344e-11\n",
      "Evaluation 108: (x, y) = [ 4.99999674 24.99996754], Rosenbrock value = 1.0710359834254863e-11\n",
      "Evaluation 109: (x, y) = [ 4.99999674 24.99996752], Rosenbrock value = 1.0694288015258076e-11\n",
      "Evaluation 110: (x, y) = [ 4.99999675 24.99996752], Rosenbrock value = 1.05343277573994e-11\n",
      "Evaluation 111: (x, y) = [ 4.99999674 24.99996754], Rosenbrock value = 1.071035982846345e-11\n",
      "Evaluation 112: (x, y) = [ 4.99999674 24.99996752], Rosenbrock value = 1.069428802466955e-11\n",
      "Evaluation 113: (x, y) = [ 4.99999675 24.99996752], Rosenbrock value = 1.0534327762549241e-11\n",
      "Evaluation 114: (x, y) = [ 4.99999674 24.99996754], Rosenbrock value = 1.071035983829844e-11\n",
      "Evaluation 115: (x, y) = [ 4.99999674 24.99996752], Rosenbrock value = 1.0694288015258076e-11\n",
      "Evaluation 116: (x, y) = [ 4.99999675 24.99996752], Rosenbrock value = 1.05343277573994e-11\n",
      "Evaluation 117: (x, y) = [ 4.99999674 24.99996754], Rosenbrock value = 1.071035982846345e-11\n",
      "Evaluation 118: (x, y) = [ 4.99999674 24.99996752], Rosenbrock value = 1.0694288011638015e-11\n",
      "Evaluation 119: (x, y) = [ 4.99999675 24.99996752], Rosenbrock value = 1.0534327758014502e-11\n",
      "Evaluation 120: (x, y) = [ 4.99999674 24.99996754], Rosenbrock value = 1.0710359824419873e-11\n",
      "Evaluation 121: (x, y) = [ 4.99999674 24.99996752], Rosenbrock value = 1.069428802466955e-11\n",
      "Evaluation 122: (x, y) = [ 4.99999675 24.99996752], Rosenbrock value = 1.0534327762549241e-11\n",
      "Evaluation 123: (x, y) = [ 4.99999674 24.99996754], Rosenbrock value = 1.071035983829844e-11\n",
      "Evaluation 124: (x, y) = [ 4.99999674 24.99996752], Rosenbrock value = 1.0694288011638015e-11\n",
      "Evaluation 125: (x, y) = [ 4.99999675 24.99996752], Rosenbrock value = 1.0534327758014502e-11\n",
      "Evaluation 126: (x, y) = [ 4.99999674 24.99996754], Rosenbrock value = 1.0710359824419873e-11\n",
      "Evaluation 127: (x, y) = [ 4.99999674 24.99996752], Rosenbrock value = 1.069428802466955e-11\n",
      "Evaluation 128: (x, y) = [ 4.99999675 24.99996752], Rosenbrock value = 1.0534327762549241e-11\n",
      "Evaluation 129: (x, y) = [ 4.99999674 24.99996754], Rosenbrock value = 1.071035983829844e-11\n",
      "Evaluation 130: (x, y) = [ 4.99999674 24.99996752], Rosenbrock value = 1.0694288011638015e-11\n",
      "Evaluation 131: (x, y) = [ 4.99999675 24.99996752], Rosenbrock value = 1.0534327758014502e-11\n",
      "Evaluation 132: (x, y) = [ 4.99999674 24.99996754], Rosenbrock value = 1.0710359824419873e-11\n",
      "Evaluation 133: (x, y) = [ 4.99999674 24.99996752], Rosenbrock value = 1.069428802466955e-11\n",
      "Evaluation 134: (x, y) = [ 4.99999675 24.99996752], Rosenbrock value = 1.0534327762549241e-11\n",
      "Evaluation 135: (x, y) = [ 4.99999674 24.99996754], Rosenbrock value = 1.071035983829844e-11\n",
      "Evaluation 136: (x, y) = [ 4.99999674 24.99996752], Rosenbrock value = 1.0694288011638015e-11\n",
      "Evaluation 137: (x, y) = [ 4.99999675 24.99996752], Rosenbrock value = 1.0534327758014502e-11\n",
      "Evaluation 138: (x, y) = [ 4.99999674 24.99996754], Rosenbrock value = 1.0710359824419873e-11\n",
      "Evaluation 139: (x, y) = [ 4.99999674 24.99996752], Rosenbrock value = 1.069428802466955e-11\n",
      "Evaluation 140: (x, y) = [ 4.99999675 24.99996752], Rosenbrock value = 1.0534327762549241e-11\n",
      "Evaluation 141: (x, y) = [ 4.99999674 24.99996754], Rosenbrock value = 1.071035983829844e-11\n",
      "Evaluation 142: (x, y) = [ 4.99999674 24.99996752], Rosenbrock value = 1.0694288011638015e-11\n",
      "Evaluation 143: (x, y) = [ 4.99999675 24.99996752], Rosenbrock value = 1.0534327758014502e-11\n",
      "Evaluation 144: (x, y) = [ 4.99999674 24.99996754], Rosenbrock value = 1.0710359824419873e-11\n",
      "Evaluation 145: (x, y) = [ 4.99999674 24.99996752], Rosenbrock value = 1.069428802466955e-11\n",
      "Evaluation 146: (x, y) = [ 4.99999675 24.99996752], Rosenbrock value = 1.0534327762549241e-11\n",
      "Evaluation 147: (x, y) = [ 4.99999674 24.99996754], Rosenbrock value = 1.071035983829844e-11\n",
      "Evaluation 148: (x, y) = [ 4.99999674 24.99996752], Rosenbrock value = 1.0694288011638015e-11\n",
      "Evaluation 149: (x, y) = [ 4.99999675 24.99996752], Rosenbrock value = 1.0534327758014502e-11\n",
      "Evaluation 150: (x, y) = [ 4.99999674 24.99996754], Rosenbrock value = 1.0710359824419873e-11\n",
      "Evaluation 151: (x, y) = [ 4.99999674 24.99996752], Rosenbrock value = 1.069428802466955e-11\n",
      "Evaluation 152: (x, y) = [ 4.99999675 24.99996752], Rosenbrock value = 1.0534327762549241e-11\n",
      "Evaluation 153: (x, y) = [ 4.99999674 24.99996754], Rosenbrock value = 1.071035983829844e-11\n",
      "Evaluation 154: (x, y) = [ 4.99999674 24.99996752], Rosenbrock value = 1.0694288011638015e-11\n",
      "Evaluation 155: (x, y) = [ 4.99999675 24.99996752], Rosenbrock value = 1.0534327758014502e-11\n",
      "Evaluation 156: (x, y) = [ 4.99999674 24.99996754], Rosenbrock value = 1.0710359824419873e-11\n",
      "Evaluation 157: (x, y) = [ 4.99999674 24.99996752], Rosenbrock value = 1.069428802466955e-11\n",
      "Evaluation 158: (x, y) = [ 4.99999675 24.99996752], Rosenbrock value = 1.0534327762549241e-11\n",
      "Evaluation 159: (x, y) = [ 4.99999674 24.99996754], Rosenbrock value = 1.071035983829844e-11\n",
      "Evaluation 160: (x, y) = [ 4.99999674 24.99996752], Rosenbrock value = 1.0694288011638015e-11\n",
      "Evaluation 161: (x, y) = [ 4.99999675 24.99996752], Rosenbrock value = 1.0534327758014502e-11\n",
      "Evaluation 162: (x, y) = [ 4.99999674 24.99996754], Rosenbrock value = 1.0710359824419873e-11\n",
      "Evaluation 163: (x, y) = [ 4.99999674 24.99996752], Rosenbrock value = 1.069428802466955e-11\n",
      "Evaluation 164: (x, y) = [ 4.99999675 24.99996752], Rosenbrock value = 1.0534327762549241e-11\n",
      "Evaluation 165: (x, y) = [ 4.99999674 24.99996754], Rosenbrock value = 1.071035983829844e-11\n",
      "Evaluation 166: (x, y) = [ 4.99999674 24.99996752], Rosenbrock value = 1.0694288011638015e-11\n",
      "Evaluation 167: (x, y) = [ 4.99999675 24.99996752], Rosenbrock value = 1.0534327758014502e-11\n",
      "Evaluation 168: (x, y) = [ 4.99999674 24.99996754], Rosenbrock value = 1.0710359824419873e-11\n",
      "Evaluation 169: (x, y) = [ 4.99999674 24.99996752], Rosenbrock value = 1.069428802466955e-11\n",
      "Evaluation 170: (x, y) = [ 4.99999675 24.99996752], Rosenbrock value = 1.0534327762549241e-11\n",
      "Evaluation 171: (x, y) = [ 4.99999674 24.99996754], Rosenbrock value = 1.071035983829844e-11\n",
      "Evaluation 172: (x, y) = [ 4.99999674 24.99996752], Rosenbrock value = 1.0694288011638015e-11\n",
      "Evaluation 173: (x, y) = [ 4.99999675 24.99996752], Rosenbrock value = 1.0534327758014502e-11\n",
      "Evaluation 174: (x, y) = [ 4.99999674 24.99996754], Rosenbrock value = 1.0710359824419873e-11\n",
      "Evaluation 175: (x, y) = [ 4.99999674 24.99996752], Rosenbrock value = 1.069428802466955e-11\n",
      "Evaluation 176: (x, y) = [ 4.99999675 24.99996752], Rosenbrock value = 1.0534327762549241e-11\n",
      "Evaluation 177: (x, y) = [ 4.99999674 24.99996754], Rosenbrock value = 1.071035983829844e-11\n",
      "Evaluation 178: (x, y) = [ 4.99999674 24.99996752], Rosenbrock value = 1.0694288011638015e-11\n",
      "Evaluation 179: (x, y) = [ 4.99999675 24.99996752], Rosenbrock value = 1.0534327758014502e-11\n",
      "Evaluation 180: (x, y) = [ 4.99999674 24.99996754], Rosenbrock value = 1.0710359824419873e-11\n",
      "Evaluation 181: (x, y) = [ 4.99999674 24.99996752], Rosenbrock value = 1.069428802466955e-11\n",
      "Evaluation 182: (x, y) = [ 4.99999675 24.99996752], Rosenbrock value = 1.0534327762549241e-11\n",
      "Evaluation 183: (x, y) = [ 4.99999674 24.99996754], Rosenbrock value = 1.071035983829844e-11\n",
      "Evaluation 184: (x, y) = [ 4.99999674 24.99996752], Rosenbrock value = 1.0694288011638015e-11\n",
      "Evaluation 185: (x, y) = [ 4.99999675 24.99996752], Rosenbrock value = 1.0534327758014502e-11\n",
      "Evaluation 186: (x, y) = [ 4.99999674 24.99996754], Rosenbrock value = 1.0710359824419873e-11\n",
      "Evaluation 187: (x, y) = [ 4.99999674 24.99996752], Rosenbrock value = 1.069428802466955e-11\n",
      "Evaluation 188: (x, y) = [ 4.99999675 24.99996752], Rosenbrock value = 1.0534327762549241e-11\n",
      "Evaluation 189: (x, y) = [ 4.99999674 24.99996754], Rosenbrock value = 1.071035983829844e-11\n",
      "Evaluation 190: (x, y) = [ 4.99999674 24.99996752], Rosenbrock value = 1.0694288011638015e-11\n",
      "Evaluation 191: (x, y) = [ 4.99999675 24.99996752], Rosenbrock value = 1.0534327758014502e-11\n",
      "Evaluation 192: (x, y) = [ 4.99999674 24.99996754], Rosenbrock value = 1.0710359824419873e-11\n",
      "Evaluation 193: (x, y) = [ 4.99999674 24.99996752], Rosenbrock value = 1.069428802466955e-11\n",
      "Evaluation 194: (x, y) = [ 4.99999675 24.99996752], Rosenbrock value = 1.0534327762549241e-11\n",
      "Evaluation 195: (x, y) = [ 4.99999674 24.99996754], Rosenbrock value = 1.071035983829844e-11\n",
      "Evaluation 196: (x, y) = [ 4.99999674 24.99996752], Rosenbrock value = 1.0694288011638015e-11\n",
      "Evaluation 197: (x, y) = [ 4.99999675 24.99996752], Rosenbrock value = 1.0534327758014502e-11\n",
      "Evaluation 198: (x, y) = [ 4.99999674 24.99996754], Rosenbrock value = 1.0710359824419873e-11\n",
      "Evaluation 199: (x, y) = [ 4.99999674 24.99996752], Rosenbrock value = 1.069428802466955e-11\n",
      "Evaluation 200: (x, y) = [ 4.99999675 24.99996752], Rosenbrock value = 1.0534327762549241e-11\n",
      "Evaluation 201: (x, y) = [ 4.99999674 24.99996754], Rosenbrock value = 1.071035983829844e-11\n",
      "Evaluation 202: (x, y) = [ 4.99999674 24.99996752], Rosenbrock value = 1.0694288011638015e-11\n",
      "Evaluation 203: (x, y) = [ 4.99999675 24.99996752], Rosenbrock value = 1.0534327758014502e-11\n",
      "Evaluation 204: (x, y) = [ 4.99999674 24.99996754], Rosenbrock value = 1.0710359824419873e-11\n",
      "Evaluation 205: (x, y) = [ 4.99999674 24.99996752], Rosenbrock value = 1.069428802466955e-11\n",
      "Evaluation 206: (x, y) = [ 4.99999675 24.99996752], Rosenbrock value = 1.0534327762549241e-11\n",
      "Evaluation 207: (x, y) = [ 4.99999674 24.99996754], Rosenbrock value = 1.071035983829844e-11\n",
      "Evaluation 208: (x, y) = [ 4.99999674 24.99996752], Rosenbrock value = 1.0694288011638015e-11\n",
      "Evaluation 209: (x, y) = [ 4.99999675 24.99996752], Rosenbrock value = 1.0534327758014502e-11\n",
      "Evaluation 210: (x, y) = [ 4.99999674 24.99996754], Rosenbrock value = 1.0710359824419873e-11\n",
      "Evaluation 211: (x, y) = [ 4.99999674 24.99996752], Rosenbrock value = 1.0694352821567316e-11\n",
      "Evaluation 212: (x, y) = [ 4.99999674 24.99996752], Rosenbrock value = 1.0694315061866405e-11\n",
      "Evaluation 213: (x, y) = [ 4.99999674 24.99996752], Rosenbrock value = 1.0694297459458387e-11\n",
      "Evaluation 214: (x, y) = [ 4.99999674 24.99996752], Rosenbrock value = 1.0694291430576602e-11\n",
      "Evaluation 215: (x, y) = [ 4.99999674 24.99996752], Rosenbrock value = 1.0694289241024636e-11\n",
      "Evaluation 216: (x, y) = [ 4.99999674 24.99996752], Rosenbrock value = 1.0694288460238638e-11\n",
      "Evaluation 217: (x, y) = [ 4.99999674 24.99996752], Rosenbrock value = 1.0694288172262152e-11\n",
      "Evaluation 218: (x, y) = [ 4.99999674 24.99996752], Rosenbrock value = 1.0694288077484387e-11\n",
      "Evaluation 219: (x, y) = [ 4.99999674 24.99996752], Rosenbrock value = 1.0694288031173373e-11\n",
      "Evaluation 220: (x, y) = [ 4.99999674 24.99996752], Rosenbrock value = 1.0694288026837483e-11\n",
      "Evaluation 221: (x, y) = [ 4.99999674 24.99996752], Rosenbrock value = 1.0694288026840902e-11\n",
      "Evaluation 222: (x, y) = [ 4.99999674 24.99996752], Rosenbrock value = 1.0694288026118258e-11\n"
     ]
    },
    {
     "data": {
      "text/plain": [
       "      fun: 1.0694288016706786e-11\n",
       " hess_inv: array([[ 0.49619154,  4.96206875],\n",
       "       [ 4.96206875, 49.74721432]])\n",
       "      jac: array([-1.07347518e-05,  1.07856118e-06])\n",
       "  message: 'Desired error not necessarily achieved due to precision loss.'\n",
       "     nfev: 222\n",
       "      nit: 18\n",
       "     njev: 70\n",
       "   status: 2\n",
       "  success: False\n",
       "        x: array([ 4.99999674, 24.99996752])"
      ]
     },
     "execution_count": 42,
     "metadata": {},
     "output_type": "execute_result"
    }
   ],
   "source": [
    "# Define the decorator to trace the optimization process\n",
    "def trace_optimization(func):\n",
    "    eval_count = 0\n",
    "    \n",
    "    def wrapper(x):\n",
    "        nonlocal eval_count\n",
    "        eval_count += 1\n",
    "        result = func(x)\n",
    "        print(f\"Evaluation {eval_count}: (x, y) = {x}, Rosenbrock value = {result}\")\n",
    "        return result\n",
    "    \n",
    "    return wrapper\n",
    "\n",
    "# Apply the decorator to the Rosenbrock function\n",
    "@trace_optimization\n",
    "def rb_trace(xi):\n",
    "    return rb(xi)\n",
    "\n",
    "# Initial point\n",
    "x0 = (3.0, 4.0)\n",
    "\n",
    "# Perform the optimization using the minimize function with the decorated Rosenbrock function\n",
    "minimize(rb_trace, x0)"
   ]
  },
  {
   "cell_type": "markdown",
   "id": "3d86153c-f703-4639-8a97-f83db8004186",
   "metadata": {},
   "source": [
    "<span style=\"color:green\">**Exercise 5.**</span> **Create a recursive implementation that returns the n element of the Fibonacci series.** \n",
    "\n",
    "The Fibonacci numbers may be defined using a recurrent function, for $n > 1$:\n",
    "$$\n",
    "F_0 = 0, F_1 = 1,\n",
    "$$\n",
    "and\n",
    "$$\n",
    "F_n = F_{n-1} + F_{n-2}\n",
    "$$\n",
    "which gives: 0,1,1,2,3,5,8,13,21,34,55,89"
   ]
  },
  {
   "cell_type": "code",
   "execution_count": 1,
   "id": "3a3a6e22-928d-4294-ab15-df4de29dae58",
   "metadata": {
    "tags": []
   },
   "outputs": [],
   "source": [
    "def fib(n):\n",
    "    if n < 2:\n",
    "        return(n)\n",
    "    else:\n",
    "        return (fib(n-1)+fib(n-2))"
   ]
  },
  {
   "cell_type": "code",
   "execution_count": 2,
   "id": "04598820-bde3-4722-8609-5b3b59ba5cbc",
   "metadata": {
    "tags": []
   },
   "outputs": [
    {
     "data": {
      "text/plain": [
       "[0, 1, 1, 2, 3, 5, 8, 13, 21, 34, 55, 89, 144, 233, 377]"
      ]
     },
     "execution_count": 2,
     "metadata": {},
     "output_type": "execute_result"
    }
   ],
   "source": [
    "[fib(n) for n in range(15)]"
   ]
  },
  {
   "cell_type": "code",
   "execution_count": 16,
   "id": "8ca66769-63e8-4926-8055-1f9fa1592068",
   "metadata": {
    "tags": []
   },
   "outputs": [
    {
     "name": "stdout",
     "output_type": "stream",
     "text": [
      "1.56 s ± 49.9 ms per loop (mean ± std. dev. of 7 runs, 1 loop each)\n"
     ]
    }
   ],
   "source": [
    "%timeit fib(35)"
   ]
  },
  {
   "cell_type": "markdown",
   "id": "e2946745-282c-4362-b898-f4dc5d0be3c1",
   "metadata": {},
   "source": [
    "**b) Code a decorator that intercepts the call to fib, counts the number of calls, and implements a cache, so that if the fib(n) has been called before it returns the stored value, if not it computes the fib(n) and stores the value.**"
   ]
  },
  {
   "cell_type": "code",
   "execution_count": 13,
   "id": "39134f46-b5a3-4f8e-ba92-f8e81cf61591",
   "metadata": {
    "tags": []
   },
   "outputs": [
    {
     "data": {
      "text/plain": [
       "[0, 1, 1, 2, 3, 5, 8, 13, 21, 34, 55, 89, 144, 233, 377]"
      ]
     },
     "execution_count": 13,
     "metadata": {},
     "output_type": "execute_result"
    }
   ],
   "source": [
    "pool = dict() # cahce memory, keys are n, values are fib(n)\n",
    "ncalls = 0\n",
    "\n",
    "def cache(f): # f will be fib()\n",
    "    def outf(x): # function impersonating fib()\n",
    "        global ncalls\n",
    "        if x in pool: # check over the keys of the dictionary \n",
    "            return(pool[x])\n",
    "        else:  \n",
    "            out = f(x) # x is the argument of fib, so n \n",
    "            pool[x] = out # adding a new key: value to the dictionary\n",
    "            ncalls += 1\n",
    "            return (out)\n",
    "    return(outf)\n",
    "\n",
    "@cache\n",
    "def fib(n):\n",
    "    if n < 2:\n",
    "        return(n)\n",
    "    else:\n",
    "        return (fib(n-1)+fib(n-2))\n",
    "\n",
    "[fib(n) for n in range(15)]"
   ]
  },
  {
   "cell_type": "markdown",
   "id": "b4b2f6e3-14c3-423b-882b-88ba3b36b6b4",
   "metadata": {},
   "source": [
    "## APIs"
   ]
  },
  {
   "cell_type": "markdown",
   "id": "56e56fe9-9fd9-4894-a7d9-72673d027734",
   "metadata": {},
   "source": [
    "<span style=\"color:green\">**Exercise 5.**</span> **In this exercise we propose the use of geopy https://geopy.readthedocs.io in conjunction with an API, [Open Notify](http://api.open-notify.org), which contains information both about humans residing outside the earth (that is, in space ) as of the position of the International Space Station.**\n",
    "\n",
    "**Code a function that gets the longitude and latitude of the position over which the ISS is flying. Calculate, in an approximate way, its speed (assuming it was on the surface of the earth), obtaining two consecutive locations within a time interval, and calculating the distance between them.**\n",
    "\n",
    "**You can guide yourself with these two functions:**\n",
    "- **the `sleep` function of the `time` library, to stop for a number of seconds,**\n",
    "- **the `distance` function of `geopy.distance` to calculate the distance between two locations on the globe.**"
   ]
  },
  {
   "cell_type": "code",
   "execution_count": 13,
   "id": "08f032e5-b457-43ea-a51a-a576c6bf21ed",
   "metadata": {
    "tags": []
   },
   "outputs": [
    {
     "name": "stdout",
     "output_type": "stream",
     "text": [
      "distance: 38.193388691861195\n",
      "velocity:  27499.239858140063\n"
     ]
    }
   ],
   "source": [
    "import requests\n",
    "import time\n",
    "from geopy import distance\n",
    "\n",
    "def get_iss_position_speed(interval_seconds=5):\n",
    "    # Function to get the longitude and latitude of the ISS's current position\n",
    "    def get_iss_position():\n",
    "        url = \"http://api.open-notify.org/iss-now.json\"\n",
    "        response = requests.get(url)\n",
    "        data = response.json()\n",
    "        position = tuple(data['iss_position'].values())\n",
    "        position = tuple(float(value) for value in position)\n",
    "        return position\n",
    "    \n",
    "    # Get the initial position  \n",
    "    prev_position = get_iss_position()\n",
    "    \n",
    "    # Wait for the specified interval before getting the next position\n",
    "    time.sleep(interval_seconds)\n",
    "    \n",
    "    # Get the current position\n",
    "    current_position = get_iss_position()\n",
    "    \n",
    "    # Calculate the distance between the two consecutive locations\n",
    "    dist = distance.distance(prev_position, current_position).km\n",
    "    \n",
    "    # Calculate the approximate speed \n",
    "    speed = dist/interval_seconds*3600 # km/h\n",
    "    \n",
    "    return dist, speed\n",
    "\n",
    "dist, speed = get_iss_position_speed()\n",
    "print('distance:', dist)\n",
    "print('velocity: ',speed)"
   ]
  }
 ],
 "metadata": {
  "kernelspec": {
   "display_name": "Python 3 (ipykernel)",
   "language": "python",
   "name": "python3"
  },
  "language_info": {
   "codemirror_mode": {
    "name": "ipython",
    "version": 3
   },
   "file_extension": ".py",
   "mimetype": "text/x-python",
   "name": "python",
   "nbconvert_exporter": "python",
   "pygments_lexer": "ipython3",
   "version": "3.10.12"
  },
  "toc-autonumbering": false
 },
 "nbformat": 4,
 "nbformat_minor": 5
}
